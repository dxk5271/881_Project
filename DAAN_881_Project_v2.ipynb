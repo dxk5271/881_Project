{
  "nbformat": 4,
  "nbformat_minor": 0,
  "metadata": {
    "colab": {
      "name": "DAAN_881_Project_v2.ipynb",
      "provenance": [],
      "collapsed_sections": [],
      "machine_shape": "hm",
      "include_colab_link": true
    },
    "kernelspec": {
      "display_name": "Python 3",
      "language": "python",
      "name": "python3"
    },
    "language_info": {
      "codemirror_mode": {
        "name": "ipython",
        "version": 3
      },
      "file_extension": ".py",
      "mimetype": "text/x-python",
      "name": "python",
      "nbconvert_exporter": "python",
      "pygments_lexer": "ipython3",
      "version": "3.8.3"
    }
  },
  "cells": [
    {
      "cell_type": "markdown",
      "metadata": {
        "id": "view-in-github",
        "colab_type": "text"
      },
      "source": [
        "<a href=\"https://colab.research.google.com/github/dxk5271/881_Project/blob/main/DAAN_881_Project_v2.ipynb\" target=\"_parent\"><img src=\"https://colab.research.google.com/assets/colab-badge.svg\" alt=\"Open In Colab\"/></a>"
      ]
    },
    {
      "cell_type": "markdown",
      "metadata": {
        "id": "vZjtU80kMxJv"
      },
      "source": [
        "Replication Example \n",
        "Marjan Orang\n",
        "Spring 2021"
      ]
    },
    {
      "cell_type": "code",
      "metadata": {
        "id": "Yj__MtLhrmN3"
      },
      "source": [
        "# packages intended to use\n",
        "import pandas as pd\n"
      ],
      "execution_count": 1,
      "outputs": []
    },
    {
      "cell_type": "code",
      "metadata": {
        "colab": {
          "base_uri": "https://localhost:8080/"
        },
        "id": "wIYXvrWMIXex",
        "outputId": "a51ee522-0c1e-418e-80c8-b6a1a59a7f1e"
      },
      "source": [
        "from google.colab import drive \n",
        "drive.mount('/content/gdrive')"
      ],
      "execution_count": 2,
      "outputs": [
        {
          "output_type": "stream",
          "name": "stdout",
          "text": [
            "Drive already mounted at /content/gdrive; to attempt to forcibly remount, call drive.mount(\"/content/gdrive\", force_remount=True).\n"
          ]
        }
      ]
    },
    {
      "cell_type": "markdown",
      "source": [
        "# **Case IDs**"
      ],
      "metadata": {
        "id": "nq6dM9-56JZZ"
      }
    },
    {
      "cell_type": "code",
      "source": [
        "#read in case_ids table\n",
        "df1=pd.read_csv('/content/gdrive/MyDrive/Data Driven Decisions/case_ids.csv')"
      ],
      "metadata": {
        "id": "_1Y93fodHQeX"
      },
      "execution_count": 3,
      "outputs": []
    },
    {
      "cell_type": "code",
      "source": [
        "type(df1[\"db_year\"])"
      ],
      "metadata": {
        "colab": {
          "base_uri": "https://localhost:8080/"
        },
        "id": "rX5lEARnEWnm",
        "outputId": "a8568c92-e1ff-4cfa-afae-085b00ce6496"
      },
      "execution_count": 21,
      "outputs": [
        {
          "output_type": "execute_result",
          "data": {
            "text/plain": [
              "pandas.core.series.Series"
            ]
          },
          "metadata": {},
          "execution_count": 21
        }
      ]
    },
    {
      "cell_type": "code",
      "source": [
        "#case_ids analysis\n",
        "df1.columns[df1.isna().any()].tolist() #empty list because there are no NAs\n",
        "df1.isna().sum() #entire dataset is complete no cleansing needed"
      ],
      "metadata": {
        "colab": {
          "base_uri": "https://localhost:8080/"
        },
        "id": "HrM-Y4UPvO1S",
        "outputId": "ca93435d-1288-41ff-e10d-b044154a5140"
      },
      "execution_count": null,
      "outputs": [
        {
          "output_type": "execute_result",
          "data": {
            "text/plain": [
              "case_id    0\n",
              "db_year    0\n",
              "dtype: int64"
            ]
          },
          "metadata": {},
          "execution_count": 9
        }
      ]
    },
    {
      "cell_type": "markdown",
      "source": [
        "## **Collisions Analysis**"
      ],
      "metadata": {
        "id": "cjJFXftVxA2e"
      }
    },
    {
      "cell_type": "code",
      "source": [
        "#read in collisions table\n",
        "df2=pd.read_csv('/content/gdrive/MyDrive/Data Driven Decisions/df2_clean.csv', low_memory=False)"
      ],
      "metadata": {
        "id": "bRyt8bXaHVrn"
      },
      "execution_count": 5,
      "outputs": []
    },
    {
      "cell_type": "code",
      "source": [
        "#collions analysis\n",
        "df2na_results = df2.isna().sum()"
      ],
      "metadata": {
        "id": "pbKI1n6rv8tH"
      },
      "execution_count": null,
      "outputs": []
    },
    {
      "cell_type": "code",
      "source": [
        "df2na_results"
      ],
      "metadata": {
        "id": "f-tPbv5v0k11"
      },
      "execution_count": null,
      "outputs": []
    },
    {
      "cell_type": "code",
      "source": [
        "df2.info()"
      ],
      "metadata": {
        "id": "va97VPgYyr1A"
      },
      "execution_count": null,
      "outputs": []
    },
    {
      "cell_type": "code",
      "source": [
        "df2na_results.to_csv(\"/content/gdrive/MyDrive/Data Driven Decisions/df2na_results.csv\")\n"
      ],
      "metadata": {
        "id": "FjJmttP4JfqU"
      },
      "execution_count": null,
      "outputs": []
    },
    {
      "cell_type": "code",
      "source": [
        "from google.colab import files\n",
        "files.download(\"df2.csv\")"
      ],
      "metadata": {
        "id": "kt5jvNktIdr3"
      },
      "execution_count": null,
      "outputs": []
    },
    {
      "cell_type": "code",
      "source": [
        ""
      ],
      "metadata": {
        "id": "W-mBcgKIKE2v"
      },
      "execution_count": null,
      "outputs": []
    },
    {
      "cell_type": "code",
      "source": [
        "#Removal of columns\n",
        "df2_drop=pd.read_csv('/content/gdrive/MyDrive/Data Driven Decisions/df2na_results_remove.csv')"
      ],
      "metadata": {
        "id": "HLfoQsNT_3Be"
      },
      "execution_count": 5,
      "outputs": []
    },
    {
      "cell_type": "code",
      "source": [
        "for x in range(len(df2_drop)):\n",
        "  if df2_drop['remove?'].iloc[x] == 1:\n",
        "    drop = str(df2_drop['column_name'].iloc[x])\n",
        "    df2.drop(drop, axis=1, inplace=True)\n",
        "\n",
        "\n",
        "\n"
      ],
      "metadata": {
        "id": "xQZQLYwfBD35"
      },
      "execution_count": null,
      "outputs": []
    },
    {
      "cell_type": "code",
      "source": [
        "df2 = pd.merge(df2,df1,on='case_id')"
      ],
      "metadata": {
        "id": "zNXu6DV5GL1P"
      },
      "execution_count": 6,
      "outputs": []
    },
    {
      "cell_type": "code",
      "source": [
        "len(df2)\n",
        "df2 = df2[df2.db_year != 2016]\n",
        "df2 = df2[df2.db_year != 2017]\n",
        "len(df2)"
      ],
      "metadata": {
        "colab": {
          "base_uri": "https://localhost:8080/"
        },
        "id": "wlnUWUnWMxTi",
        "outputId": "17fc346a-f43c-4456-c86f-59da18c0ba6b"
      },
      "execution_count": 7,
      "outputs": [
        {
          "output_type": "execute_result",
          "data": {
            "text/plain": [
              "8903189"
            ]
          },
          "metadata": {},
          "execution_count": 7
        }
      ]
    },
    {
      "cell_type": "code",
      "source": [
        "df2.head()"
      ],
      "metadata": {
        "colab": {
          "base_uri": "https://localhost:8080/",
          "height": 409
        },
        "id": "4uxN3tVmPuLp",
        "outputId": "faf4e372-3942-415b-a0a8-99d0d513fb2f"
      },
      "execution_count": 12,
      "outputs": [
        {
          "output_type": "execute_result",
          "data": {
            "text/html": [
              "\n",
              "  <div id=\"df-fec891d4-07fc-4031-bc9c-edb07fed615c\">\n",
              "    <div class=\"colab-df-container\">\n",
              "      <div>\n",
              "<style scoped>\n",
              "    .dataframe tbody tr th:only-of-type {\n",
              "        vertical-align: middle;\n",
              "    }\n",
              "\n",
              "    .dataframe tbody tr th {\n",
              "        vertical-align: top;\n",
              "    }\n",
              "\n",
              "    .dataframe thead th {\n",
              "        text-align: right;\n",
              "    }\n",
              "</style>\n",
              "<table border=\"1\" class=\"dataframe\">\n",
              "  <thead>\n",
              "    <tr style=\"text-align: right;\">\n",
              "      <th></th>\n",
              "      <th>Unnamed: 0</th>\n",
              "      <th>case_id</th>\n",
              "      <th>reporting_district</th>\n",
              "      <th>population</th>\n",
              "      <th>county_city_location</th>\n",
              "      <th>county_location</th>\n",
              "      <th>special_condition</th>\n",
              "      <th>primary_road</th>\n",
              "      <th>secondary_road</th>\n",
              "      <th>distance</th>\n",
              "      <th>direction</th>\n",
              "      <th>intersection</th>\n",
              "      <th>weather_1</th>\n",
              "      <th>weather_2</th>\n",
              "      <th>state_highway_indicator</th>\n",
              "      <th>caltrans_county</th>\n",
              "      <th>caltrans_district</th>\n",
              "      <th>state_route</th>\n",
              "      <th>route_suffix</th>\n",
              "      <th>postmile_prefix</th>\n",
              "      <th>postmile</th>\n",
              "      <th>location_type</th>\n",
              "      <th>ramp_intersection</th>\n",
              "      <th>side_of_highway</th>\n",
              "      <th>tow_away</th>\n",
              "      <th>collision_severity</th>\n",
              "      <th>killed_victims</th>\n",
              "      <th>injured_victims</th>\n",
              "      <th>party_count</th>\n",
              "      <th>primary_collision_factor</th>\n",
              "      <th>pcf_violation_code</th>\n",
              "      <th>pcf_violation_category</th>\n",
              "      <th>pcf_violation</th>\n",
              "      <th>pcf_violation_subsection</th>\n",
              "      <th>hit_and_run</th>\n",
              "      <th>type_of_collision</th>\n",
              "      <th>motor_vehicle_involved_with</th>\n",
              "      <th>pedestrian_action</th>\n",
              "      <th>road_surface</th>\n",
              "      <th>road_condition_1</th>\n",
              "      <th>road_condition_2</th>\n",
              "      <th>lighting</th>\n",
              "      <th>control_device</th>\n",
              "      <th>chp_road_type</th>\n",
              "      <th>pedestrian_collision</th>\n",
              "      <th>bicycle_collision</th>\n",
              "      <th>motorcycle_collision</th>\n",
              "      <th>truck_collision</th>\n",
              "      <th>not_private_property</th>\n",
              "      <th>alcohol_involved</th>\n",
              "      <th>statewide_vehicle_type_at_fault</th>\n",
              "      <th>chp_vehicle_type_at_fault</th>\n",
              "      <th>severe_injury_count</th>\n",
              "      <th>other_visible_injury_count</th>\n",
              "      <th>complaint_of_pain_injury_count</th>\n",
              "      <th>pedestrian_killed_count</th>\n",
              "      <th>pedestrian_injured_count</th>\n",
              "      <th>bicyclist_killed_count</th>\n",
              "      <th>bicyclist_injured_count</th>\n",
              "      <th>motorcyclist_killed_count</th>\n",
              "      <th>motorcyclist_injured_count</th>\n",
              "      <th>primary_ramp</th>\n",
              "      <th>secondary_ramp</th>\n",
              "      <th>latitude</th>\n",
              "      <th>longitude</th>\n",
              "      <th>collision_date</th>\n",
              "      <th>collision_time</th>\n",
              "      <th>db_year</th>\n",
              "    </tr>\n",
              "  </thead>\n",
              "  <tbody>\n",
              "    <tr>\n",
              "      <th>0</th>\n",
              "      <td>0</td>\n",
              "      <td>81715</td>\n",
              "      <td>212</td>\n",
              "      <td>&gt;250000</td>\n",
              "      <td>1941</td>\n",
              "      <td>los angeles</td>\n",
              "      <td>0.0</td>\n",
              "      <td>PATTERSON ST</td>\n",
              "      <td>ATLANTIC AV</td>\n",
              "      <td>0.0</td>\n",
              "      <td>NaN</td>\n",
              "      <td>1.0</td>\n",
              "      <td>cloudy</td>\n",
              "      <td>NaN</td>\n",
              "      <td>0.0</td>\n",
              "      <td>NaN</td>\n",
              "      <td>NaN</td>\n",
              "      <td>NaN</td>\n",
              "      <td>NaN</td>\n",
              "      <td>NaN</td>\n",
              "      <td>NaN</td>\n",
              "      <td>NaN</td>\n",
              "      <td>NaN</td>\n",
              "      <td>NaN</td>\n",
              "      <td>1.0</td>\n",
              "      <td>property damage only</td>\n",
              "      <td>0.0</td>\n",
              "      <td>0.0</td>\n",
              "      <td>2.0</td>\n",
              "      <td>vehicle code violation</td>\n",
              "      <td>NaN</td>\n",
              "      <td>speeding</td>\n",
              "      <td>22350.0</td>\n",
              "      <td>NaN</td>\n",
              "      <td>not hit and run</td>\n",
              "      <td>rear end</td>\n",
              "      <td>other motor vehicle</td>\n",
              "      <td>no pedestrian involved</td>\n",
              "      <td>dry</td>\n",
              "      <td>normal</td>\n",
              "      <td>NaN</td>\n",
              "      <td>daylight</td>\n",
              "      <td>none</td>\n",
              "      <td>0</td>\n",
              "      <td>0</td>\n",
              "      <td>0</td>\n",
              "      <td>0</td>\n",
              "      <td>0</td>\n",
              "      <td>1.0</td>\n",
              "      <td>NaN</td>\n",
              "      <td>NaN</td>\n",
              "      <td>NaN</td>\n",
              "      <td>0</td>\n",
              "      <td>0</td>\n",
              "      <td>0</td>\n",
              "      <td>0</td>\n",
              "      <td>0</td>\n",
              "      <td>0</td>\n",
              "      <td>0</td>\n",
              "      <td>0</td>\n",
              "      <td>0.0</td>\n",
              "      <td>NaN</td>\n",
              "      <td>NaN</td>\n",
              "      <td>NaN</td>\n",
              "      <td>NaN</td>\n",
              "      <td>2020-03-14</td>\n",
              "      <td>07:45:00</td>\n",
              "      <td>2021</td>\n",
              "    </tr>\n",
              "    <tr>\n",
              "      <th>1</th>\n",
              "      <td>1</td>\n",
              "      <td>726202</td>\n",
              "      <td>064</td>\n",
              "      <td>50000 to 100000</td>\n",
              "      <td>3612</td>\n",
              "      <td>san bernardino</td>\n",
              "      <td>0.0</td>\n",
              "      <td>AMARGOSA</td>\n",
              "      <td>MARICOPA RD</td>\n",
              "      <td>0.0</td>\n",
              "      <td>NaN</td>\n",
              "      <td>NaN</td>\n",
              "      <td>clear</td>\n",
              "      <td>NaN</td>\n",
              "      <td>0.0</td>\n",
              "      <td>NaN</td>\n",
              "      <td>NaN</td>\n",
              "      <td>NaN</td>\n",
              "      <td>NaN</td>\n",
              "      <td>NaN</td>\n",
              "      <td>NaN</td>\n",
              "      <td>NaN</td>\n",
              "      <td>NaN</td>\n",
              "      <td>NaN</td>\n",
              "      <td>1.0</td>\n",
              "      <td>property damage only</td>\n",
              "      <td>0.0</td>\n",
              "      <td>0.0</td>\n",
              "      <td>1.0</td>\n",
              "      <td>vehicle code violation</td>\n",
              "      <td>NaN</td>\n",
              "      <td>speeding</td>\n",
              "      <td>22350.0</td>\n",
              "      <td>NaN</td>\n",
              "      <td>misdemeanor</td>\n",
              "      <td>hit object</td>\n",
              "      <td>fixed object</td>\n",
              "      <td>no pedestrian involved</td>\n",
              "      <td>dry</td>\n",
              "      <td>normal</td>\n",
              "      <td>NaN</td>\n",
              "      <td>dark with street lights</td>\n",
              "      <td>none</td>\n",
              "      <td>0</td>\n",
              "      <td>0</td>\n",
              "      <td>0</td>\n",
              "      <td>0</td>\n",
              "      <td>0</td>\n",
              "      <td>1.0</td>\n",
              "      <td>NaN</td>\n",
              "      <td>passenger car</td>\n",
              "      <td>passenger car, station</td>\n",
              "      <td>0</td>\n",
              "      <td>0</td>\n",
              "      <td>0</td>\n",
              "      <td>0</td>\n",
              "      <td>0</td>\n",
              "      <td>0</td>\n",
              "      <td>0</td>\n",
              "      <td>0</td>\n",
              "      <td>0.0</td>\n",
              "      <td>NaN</td>\n",
              "      <td>NaN</td>\n",
              "      <td>NaN</td>\n",
              "      <td>NaN</td>\n",
              "      <td>2020-07-26</td>\n",
              "      <td>02:50:00</td>\n",
              "      <td>2021</td>\n",
              "    </tr>\n",
              "    <tr>\n",
              "      <th>2</th>\n",
              "      <td>2</td>\n",
              "      <td>3858022</td>\n",
              "      <td>2C</td>\n",
              "      <td>&gt;250000</td>\n",
              "      <td>1005</td>\n",
              "      <td>fresno</td>\n",
              "      <td>0.0</td>\n",
              "      <td>1ST ST</td>\n",
              "      <td>EAST CLINTON</td>\n",
              "      <td>0.0</td>\n",
              "      <td>NaN</td>\n",
              "      <td>1.0</td>\n",
              "      <td>clear</td>\n",
              "      <td>NaN</td>\n",
              "      <td>0.0</td>\n",
              "      <td>NaN</td>\n",
              "      <td>NaN</td>\n",
              "      <td>NaN</td>\n",
              "      <td>NaN</td>\n",
              "      <td>NaN</td>\n",
              "      <td>NaN</td>\n",
              "      <td>NaN</td>\n",
              "      <td>NaN</td>\n",
              "      <td>NaN</td>\n",
              "      <td>NaN</td>\n",
              "      <td>property damage only</td>\n",
              "      <td>0.0</td>\n",
              "      <td>0.0</td>\n",
              "      <td>2.0</td>\n",
              "      <td>other improper driving</td>\n",
              "      <td>NaN</td>\n",
              "      <td>other improper driving</td>\n",
              "      <td>NaN</td>\n",
              "      <td>NaN</td>\n",
              "      <td>not hit and run</td>\n",
              "      <td>rear end</td>\n",
              "      <td>other motor vehicle</td>\n",
              "      <td>no pedestrian involved</td>\n",
              "      <td>dry</td>\n",
              "      <td>normal</td>\n",
              "      <td>NaN</td>\n",
              "      <td>daylight</td>\n",
              "      <td>functioning</td>\n",
              "      <td>0</td>\n",
              "      <td>0</td>\n",
              "      <td>0</td>\n",
              "      <td>0</td>\n",
              "      <td>0</td>\n",
              "      <td>1.0</td>\n",
              "      <td>NaN</td>\n",
              "      <td>emergency vehicle</td>\n",
              "      <td>police car</td>\n",
              "      <td>0</td>\n",
              "      <td>0</td>\n",
              "      <td>0</td>\n",
              "      <td>0</td>\n",
              "      <td>0</td>\n",
              "      <td>0</td>\n",
              "      <td>0</td>\n",
              "      <td>0</td>\n",
              "      <td>0.0</td>\n",
              "      <td>NaN</td>\n",
              "      <td>NaN</td>\n",
              "      <td>NaN</td>\n",
              "      <td>NaN</td>\n",
              "      <td>2009-02-03</td>\n",
              "      <td>17:11:00</td>\n",
              "      <td>2021</td>\n",
              "    </tr>\n",
              "    <tr>\n",
              "      <th>3</th>\n",
              "      <td>3</td>\n",
              "      <td>3899441</td>\n",
              "      <td>NaN</td>\n",
              "      <td>2500 to 10000</td>\n",
              "      <td>801</td>\n",
              "      <td>del norte</td>\n",
              "      <td>0.0</td>\n",
              "      <td>RT 101</td>\n",
              "      <td>RUDISILL RD</td>\n",
              "      <td>8976.0</td>\n",
              "      <td>north</td>\n",
              "      <td>0.0</td>\n",
              "      <td>clear</td>\n",
              "      <td>NaN</td>\n",
              "      <td>1.0</td>\n",
              "      <td>del norte</td>\n",
              "      <td>1.0</td>\n",
              "      <td>101.0</td>\n",
              "      <td>NaN</td>\n",
              "      <td>NaN</td>\n",
              "      <td>15.47</td>\n",
              "      <td>highway</td>\n",
              "      <td>NaN</td>\n",
              "      <td>southbound</td>\n",
              "      <td>1.0</td>\n",
              "      <td>property damage only</td>\n",
              "      <td>0.0</td>\n",
              "      <td>0.0</td>\n",
              "      <td>1.0</td>\n",
              "      <td>vehicle code violation</td>\n",
              "      <td>NaN</td>\n",
              "      <td>improper turning</td>\n",
              "      <td>22107.0</td>\n",
              "      <td>NaN</td>\n",
              "      <td>not hit and run</td>\n",
              "      <td>hit object</td>\n",
              "      <td>fixed object</td>\n",
              "      <td>no pedestrian involved</td>\n",
              "      <td>dry</td>\n",
              "      <td>normal</td>\n",
              "      <td>NaN</td>\n",
              "      <td>dark with no street lights</td>\n",
              "      <td>none</td>\n",
              "      <td>0</td>\n",
              "      <td>0</td>\n",
              "      <td>0</td>\n",
              "      <td>0</td>\n",
              "      <td>0</td>\n",
              "      <td>1.0</td>\n",
              "      <td>NaN</td>\n",
              "      <td>passenger car</td>\n",
              "      <td>passenger car, station</td>\n",
              "      <td>0</td>\n",
              "      <td>0</td>\n",
              "      <td>0</td>\n",
              "      <td>0</td>\n",
              "      <td>0</td>\n",
              "      <td>0</td>\n",
              "      <td>0</td>\n",
              "      <td>0</td>\n",
              "      <td>0.0</td>\n",
              "      <td>NaN</td>\n",
              "      <td>NaN</td>\n",
              "      <td>NaN</td>\n",
              "      <td>NaN</td>\n",
              "      <td>2009-02-28</td>\n",
              "      <td>01:45:00</td>\n",
              "      <td>2021</td>\n",
              "    </tr>\n",
              "    <tr>\n",
              "      <th>4</th>\n",
              "      <td>4</td>\n",
              "      <td>3899442</td>\n",
              "      <td>NaN</td>\n",
              "      <td>&gt;250000</td>\n",
              "      <td>1942</td>\n",
              "      <td>los angeles</td>\n",
              "      <td>0.0</td>\n",
              "      <td>RT 110</td>\n",
              "      <td>RT 91</td>\n",
              "      <td>2111.0</td>\n",
              "      <td>south</td>\n",
              "      <td>0.0</td>\n",
              "      <td>raining</td>\n",
              "      <td>NaN</td>\n",
              "      <td>1.0</td>\n",
              "      <td>los angeles</td>\n",
              "      <td>7.0</td>\n",
              "      <td>110.0</td>\n",
              "      <td>NaN</td>\n",
              "      <td>NaN</td>\n",
              "      <td>9.31</td>\n",
              "      <td>highway</td>\n",
              "      <td>NaN</td>\n",
              "      <td>southbound</td>\n",
              "      <td>0.0</td>\n",
              "      <td>property damage only</td>\n",
              "      <td>0.0</td>\n",
              "      <td>0.0</td>\n",
              "      <td>2.0</td>\n",
              "      <td>vehicle code violation</td>\n",
              "      <td>NaN</td>\n",
              "      <td>speeding</td>\n",
              "      <td>22350.0</td>\n",
              "      <td>NaN</td>\n",
              "      <td>not hit and run</td>\n",
              "      <td>sideswipe</td>\n",
              "      <td>other motor vehicle</td>\n",
              "      <td>no pedestrian involved</td>\n",
              "      <td>wet</td>\n",
              "      <td>normal</td>\n",
              "      <td>NaN</td>\n",
              "      <td>daylight</td>\n",
              "      <td>none</td>\n",
              "      <td>1</td>\n",
              "      <td>0</td>\n",
              "      <td>0</td>\n",
              "      <td>0</td>\n",
              "      <td>0</td>\n",
              "      <td>1.0</td>\n",
              "      <td>NaN</td>\n",
              "      <td>passenger car</td>\n",
              "      <td>passenger car, station</td>\n",
              "      <td>0</td>\n",
              "      <td>0</td>\n",
              "      <td>0</td>\n",
              "      <td>0</td>\n",
              "      <td>0</td>\n",
              "      <td>0</td>\n",
              "      <td>0</td>\n",
              "      <td>0</td>\n",
              "      <td>0.0</td>\n",
              "      <td>NaN</td>\n",
              "      <td>NaN</td>\n",
              "      <td>33.86465</td>\n",
              "      <td>-118.28533</td>\n",
              "      <td>2009-02-09</td>\n",
              "      <td>10:20:00</td>\n",
              "      <td>2021</td>\n",
              "    </tr>\n",
              "  </tbody>\n",
              "</table>\n",
              "</div>\n",
              "      <button class=\"colab-df-convert\" onclick=\"convertToInteractive('df-fec891d4-07fc-4031-bc9c-edb07fed615c')\"\n",
              "              title=\"Convert this dataframe to an interactive table.\"\n",
              "              style=\"display:none;\">\n",
              "        \n",
              "  <svg xmlns=\"http://www.w3.org/2000/svg\" height=\"24px\"viewBox=\"0 0 24 24\"\n",
              "       width=\"24px\">\n",
              "    <path d=\"M0 0h24v24H0V0z\" fill=\"none\"/>\n",
              "    <path d=\"M18.56 5.44l.94 2.06.94-2.06 2.06-.94-2.06-.94-.94-2.06-.94 2.06-2.06.94zm-11 1L8.5 8.5l.94-2.06 2.06-.94-2.06-.94L8.5 2.5l-.94 2.06-2.06.94zm10 10l.94 2.06.94-2.06 2.06-.94-2.06-.94-.94-2.06-.94 2.06-2.06.94z\"/><path d=\"M17.41 7.96l-1.37-1.37c-.4-.4-.92-.59-1.43-.59-.52 0-1.04.2-1.43.59L10.3 9.45l-7.72 7.72c-.78.78-.78 2.05 0 2.83L4 21.41c.39.39.9.59 1.41.59.51 0 1.02-.2 1.41-.59l7.78-7.78 2.81-2.81c.8-.78.8-2.07 0-2.86zM5.41 20L4 18.59l7.72-7.72 1.47 1.35L5.41 20z\"/>\n",
              "  </svg>\n",
              "      </button>\n",
              "      \n",
              "  <style>\n",
              "    .colab-df-container {\n",
              "      display:flex;\n",
              "      flex-wrap:wrap;\n",
              "      gap: 12px;\n",
              "    }\n",
              "\n",
              "    .colab-df-convert {\n",
              "      background-color: #E8F0FE;\n",
              "      border: none;\n",
              "      border-radius: 50%;\n",
              "      cursor: pointer;\n",
              "      display: none;\n",
              "      fill: #1967D2;\n",
              "      height: 32px;\n",
              "      padding: 0 0 0 0;\n",
              "      width: 32px;\n",
              "    }\n",
              "\n",
              "    .colab-df-convert:hover {\n",
              "      background-color: #E2EBFA;\n",
              "      box-shadow: 0px 1px 2px rgba(60, 64, 67, 0.3), 0px 1px 3px 1px rgba(60, 64, 67, 0.15);\n",
              "      fill: #174EA6;\n",
              "    }\n",
              "\n",
              "    [theme=dark] .colab-df-convert {\n",
              "      background-color: #3B4455;\n",
              "      fill: #D2E3FC;\n",
              "    }\n",
              "\n",
              "    [theme=dark] .colab-df-convert:hover {\n",
              "      background-color: #434B5C;\n",
              "      box-shadow: 0px 1px 3px 1px rgba(0, 0, 0, 0.15);\n",
              "      filter: drop-shadow(0px 1px 2px rgba(0, 0, 0, 0.3));\n",
              "      fill: #FFFFFF;\n",
              "    }\n",
              "  </style>\n",
              "\n",
              "      <script>\n",
              "        const buttonEl =\n",
              "          document.querySelector('#df-fec891d4-07fc-4031-bc9c-edb07fed615c button.colab-df-convert');\n",
              "        buttonEl.style.display =\n",
              "          google.colab.kernel.accessAllowed ? 'block' : 'none';\n",
              "\n",
              "        async function convertToInteractive(key) {\n",
              "          const element = document.querySelector('#df-fec891d4-07fc-4031-bc9c-edb07fed615c');\n",
              "          const dataTable =\n",
              "            await google.colab.kernel.invokeFunction('convertToInteractive',\n",
              "                                                     [key], {});\n",
              "          if (!dataTable) return;\n",
              "\n",
              "          const docLinkHtml = 'Like what you see? Visit the ' +\n",
              "            '<a target=\"_blank\" href=https://colab.research.google.com/notebooks/data_table.ipynb>data table notebook</a>'\n",
              "            + ' to learn more about interactive tables.';\n",
              "          element.innerHTML = '';\n",
              "          dataTable['output_type'] = 'display_data';\n",
              "          await google.colab.output.renderOutput(dataTable, element);\n",
              "          const docLink = document.createElement('div');\n",
              "          docLink.innerHTML = docLinkHtml;\n",
              "          element.appendChild(docLink);\n",
              "        }\n",
              "      </script>\n",
              "    </div>\n",
              "  </div>\n",
              "  "
            ],
            "text/plain": [
              "   Unnamed: 0  case_id  ... collision_time db_year\n",
              "0           0    81715  ...       07:45:00    2021\n",
              "1           1   726202  ...       02:50:00    2021\n",
              "2           2  3858022  ...       17:11:00    2021\n",
              "3           3  3899441  ...       01:45:00    2021\n",
              "4           4  3899442  ...       10:20:00    2021\n",
              "\n",
              "[5 rows x 68 columns]"
            ]
          },
          "metadata": {},
          "execution_count": 12
        }
      ]
    },
    {
      "cell_type": "code",
      "source": [
        "df2.to_csv(\"/content/gdrive/MyDrive/Data Driven Decisions/collisions_clean.csv\")"
      ],
      "metadata": {
        "id": "v5CsmF-PCC4-"
      },
      "execution_count": 9,
      "outputs": []
    },
    {
      "cell_type": "markdown",
      "source": [
        "# **Victims**"
      ],
      "metadata": {
        "id": "ro4DxYFL06gl"
      }
    },
    {
      "cell_type": "code",
      "source": [
        "df3=pd.read_csv('/content/gdrive/MyDrive/Data Driven Decisions/victims.csv', low_memory=False )"
      ],
      "metadata": {
        "id": "dI9mOl9iHgAo"
      },
      "execution_count": 10,
      "outputs": []
    },
    {
      "cell_type": "code",
      "source": [
        "df3na_results = df3.isna().sum()"
      ],
      "metadata": {
        "id": "FJm_9XzT0_Ve"
      },
      "execution_count": null,
      "outputs": []
    },
    {
      "cell_type": "code",
      "source": [
        "df3_drop=pd.read_csv('/content/gdrive/MyDrive/Data Driven Decisions/df3na_results_remove.csv')"
      ],
      "metadata": {
        "id": "a9vKT-HGC9Jy"
      },
      "execution_count": 14,
      "outputs": []
    },
    {
      "cell_type": "code",
      "source": [
        "df3.info()"
      ],
      "metadata": {
        "id": "p3R6GwQB0_cT"
      },
      "execution_count": null,
      "outputs": []
    },
    {
      "cell_type": "code",
      "source": [
        "for x in range(len(df3_drop)):\n",
        "  if df3_drop['remove?'].iloc[x] == 1:\n",
        "    drop = str(df3_drop['column_name'].iloc[x])\n",
        "    df3.drop(drop, axis=1, inplace=True)\n",
        "\n",
        "\n"
      ],
      "metadata": {
        "id": "XfjFS395C4FU"
      },
      "execution_count": 15,
      "outputs": []
    },
    {
      "cell_type": "code",
      "source": [
        "df3 = pd.merge(df3,df1,on='case_id')\n",
        "df3 = df3[df3.db_year != 2016]\n",
        "df3 = df3[df3.db_year != 2017]\n",
        "len(df3)"
      ],
      "metadata": {
        "colab": {
          "base_uri": "https://localhost:8080/"
        },
        "id": "5Mypy6DZQrS7",
        "outputId": "6de10a68-1229-4c57-b562-5a2cced9a5aa"
      },
      "execution_count": 16,
      "outputs": [
        {
          "output_type": "execute_result",
          "data": {
            "text/plain": [
              "9031366"
            ]
          },
          "metadata": {},
          "execution_count": 16
        }
      ]
    },
    {
      "cell_type": "code",
      "source": [
        "df3.to_csv(\"/content/gdrive/MyDrive/Data Driven Decisions/victims_clean.csv\")"
      ],
      "metadata": {
        "id": "a5sz7n1OC4cW"
      },
      "execution_count": 17,
      "outputs": []
    },
    {
      "cell_type": "code",
      "source": [
        "df3na_results.to_csv(\"/content/gdrive/MyDrive/Data Driven Decisions/df3na_results.csv\")\n"
      ],
      "metadata": {
        "id": "w45e3XpX1Hcl",
        "colab": {
          "base_uri": "https://localhost:8080/",
          "height": 165
        },
        "outputId": "831af0eb-df2c-4235-80dd-1dbbbb30df4b"
      },
      "execution_count": 13,
      "outputs": [
        {
          "output_type": "error",
          "ename": "NameError",
          "evalue": "ignored",
          "traceback": [
            "\u001b[0;31m---------------------------------------------------------------------------\u001b[0m",
            "\u001b[0;31mNameError\u001b[0m                                 Traceback (most recent call last)",
            "\u001b[0;32m<ipython-input-13-402f11e24a4c>\u001b[0m in \u001b[0;36m<module>\u001b[0;34m()\u001b[0m\n\u001b[0;32m----> 1\u001b[0;31m \u001b[0mdf3na_results\u001b[0m\u001b[0;34m.\u001b[0m\u001b[0mto_csv\u001b[0m\u001b[0;34m(\u001b[0m\u001b[0;34m\"/content/gdrive/MyDrive/Data Driven Decisions/df3na_results.csv\"\u001b[0m\u001b[0;34m)\u001b[0m\u001b[0;34m\u001b[0m\u001b[0;34m\u001b[0m\u001b[0m\n\u001b[0m",
            "\u001b[0;31mNameError\u001b[0m: name 'df3na_results' is not defined"
          ]
        }
      ]
    },
    {
      "cell_type": "markdown",
      "source": [
        "# **Parties**"
      ],
      "metadata": {
        "id": "WBIaWOoo1oJJ"
      }
    },
    {
      "cell_type": "code",
      "source": [
        "df4=pd.read_csv('/content/gdrive/MyDrive/Data Driven Decisions/parties.csv', low_memory=False)"
      ],
      "metadata": {
        "id": "CDz3bFu0HhHt"
      },
      "execution_count": 18,
      "outputs": []
    },
    {
      "cell_type": "code",
      "source": [
        "df4na_results = df4.isna().sum()"
      ],
      "metadata": {
        "id": "bYFfLzEN1xYc"
      },
      "execution_count": null,
      "outputs": []
    },
    {
      "cell_type": "code",
      "source": [
        "df4na_results.to_csv(\"/content/gdrive/MyDrive/Data Driven Decisions/df4na_results.csv\")"
      ],
      "metadata": {
        "id": "zR3BPKgh2BIy"
      },
      "execution_count": null,
      "outputs": []
    },
    {
      "cell_type": "code",
      "source": [
        "df4.info()"
      ],
      "metadata": {
        "id": "_w68L8L_2O3h"
      },
      "execution_count": null,
      "outputs": []
    },
    {
      "cell_type": "markdown",
      "source": [
        ""
      ],
      "metadata": {
        "id": "IwjU217Z4FuD"
      }
    },
    {
      "cell_type": "code",
      "source": [
        "len(df2)"
      ],
      "metadata": {
        "colab": {
          "base_uri": "https://localhost:8080/"
        },
        "id": "N945yM54MTBI",
        "outputId": "de90ecde-baaf-4cae-ec9b-902b617095fe"
      },
      "execution_count": 24,
      "outputs": [
        {
          "output_type": "execute_result",
          "data": {
            "text/plain": [
              "9424334"
            ]
          },
          "metadata": {},
          "execution_count": 24
        }
      ]
    },
    {
      "cell_type": "code",
      "source": [
        "df4_drop=pd.read_csv('/content/gdrive/MyDrive/Data Driven Decisions/df4na_results_remove.csv')"
      ],
      "metadata": {
        "id": "tLz30LrOC4j3"
      },
      "execution_count": 19,
      "outputs": []
    },
    {
      "cell_type": "code",
      "source": [
        "for x in range(len(df4_drop)):\n",
        "  if df4_drop['remove?'].iloc[x] == 1:\n",
        "    drop = str(df4_drop['column_name'].iloc[x])\n",
        "    df4.drop(drop, axis=1, inplace=True)\n",
        "\n",
        "\n"
      ],
      "metadata": {
        "colab": {
          "base_uri": "https://localhost:8080/",
          "height": 502
        },
        "id": "gATl7E03DSFG",
        "outputId": "ea3b1322-f10d-4a3f-88f1-301f443c84d9"
      },
      "execution_count": 20,
      "outputs": [
        {
          "output_type": "error",
          "ename": "KeyError",
          "evalue": "ignored",
          "traceback": [
            "\u001b[0;31m---------------------------------------------------------------------------\u001b[0m",
            "\u001b[0;31mKeyError\u001b[0m                                  Traceback (most recent call last)",
            "\u001b[0;32m/usr/local/lib/python3.7/dist-packages/pandas/core/indexes/base.py\u001b[0m in \u001b[0;36mget_loc\u001b[0;34m(self, key, method, tolerance)\u001b[0m\n\u001b[1;32m   3360\u001b[0m             \u001b[0;32mtry\u001b[0m\u001b[0;34m:\u001b[0m\u001b[0;34m\u001b[0m\u001b[0;34m\u001b[0m\u001b[0m\n\u001b[0;32m-> 3361\u001b[0;31m                 \u001b[0;32mreturn\u001b[0m \u001b[0mself\u001b[0m\u001b[0;34m.\u001b[0m\u001b[0m_engine\u001b[0m\u001b[0;34m.\u001b[0m\u001b[0mget_loc\u001b[0m\u001b[0;34m(\u001b[0m\u001b[0mcasted_key\u001b[0m\u001b[0;34m)\u001b[0m\u001b[0;34m\u001b[0m\u001b[0;34m\u001b[0m\u001b[0m\n\u001b[0m\u001b[1;32m   3362\u001b[0m             \u001b[0;32mexcept\u001b[0m \u001b[0mKeyError\u001b[0m \u001b[0;32mas\u001b[0m \u001b[0merr\u001b[0m\u001b[0;34m:\u001b[0m\u001b[0;34m\u001b[0m\u001b[0;34m\u001b[0m\u001b[0m\n",
            "\u001b[0;32m/usr/local/lib/python3.7/dist-packages/pandas/_libs/index.pyx\u001b[0m in \u001b[0;36mpandas._libs.index.IndexEngine.get_loc\u001b[0;34m()\u001b[0m\n",
            "\u001b[0;32m/usr/local/lib/python3.7/dist-packages/pandas/_libs/index.pyx\u001b[0m in \u001b[0;36mpandas._libs.index.IndexEngine.get_loc\u001b[0;34m()\u001b[0m\n",
            "\u001b[0;32mpandas/_libs/hashtable_class_helper.pxi\u001b[0m in \u001b[0;36mpandas._libs.hashtable.PyObjectHashTable.get_item\u001b[0;34m()\u001b[0m\n",
            "\u001b[0;32mpandas/_libs/hashtable_class_helper.pxi\u001b[0m in \u001b[0;36mpandas._libs.hashtable.PyObjectHashTable.get_item\u001b[0;34m()\u001b[0m\n",
            "\u001b[0;31mKeyError\u001b[0m: 'remove?'",
            "\nThe above exception was the direct cause of the following exception:\n",
            "\u001b[0;31mKeyError\u001b[0m                                  Traceback (most recent call last)",
            "\u001b[0;32m<ipython-input-20-e6972f63d121>\u001b[0m in \u001b[0;36m<module>\u001b[0;34m()\u001b[0m\n\u001b[1;32m      1\u001b[0m \u001b[0;32mfor\u001b[0m \u001b[0mx\u001b[0m \u001b[0;32min\u001b[0m \u001b[0mrange\u001b[0m\u001b[0;34m(\u001b[0m\u001b[0mlen\u001b[0m\u001b[0;34m(\u001b[0m\u001b[0mdf4_drop\u001b[0m\u001b[0;34m)\u001b[0m\u001b[0;34m)\u001b[0m\u001b[0;34m:\u001b[0m\u001b[0;34m\u001b[0m\u001b[0;34m\u001b[0m\u001b[0m\n\u001b[0;32m----> 2\u001b[0;31m   \u001b[0;32mif\u001b[0m \u001b[0mdf4_drop\u001b[0m\u001b[0;34m[\u001b[0m\u001b[0;34m'remove?'\u001b[0m\u001b[0;34m]\u001b[0m\u001b[0;34m.\u001b[0m\u001b[0miloc\u001b[0m\u001b[0;34m[\u001b[0m\u001b[0mx\u001b[0m\u001b[0;34m]\u001b[0m \u001b[0;34m==\u001b[0m \u001b[0;36m1\u001b[0m\u001b[0;34m:\u001b[0m\u001b[0;34m\u001b[0m\u001b[0;34m\u001b[0m\u001b[0m\n\u001b[0m\u001b[1;32m      3\u001b[0m     \u001b[0mdrop\u001b[0m \u001b[0;34m=\u001b[0m \u001b[0mstr\u001b[0m\u001b[0;34m(\u001b[0m\u001b[0mdf4_drop\u001b[0m\u001b[0;34m[\u001b[0m\u001b[0;34m'column_name'\u001b[0m\u001b[0;34m]\u001b[0m\u001b[0;34m.\u001b[0m\u001b[0miloc\u001b[0m\u001b[0;34m[\u001b[0m\u001b[0mx\u001b[0m\u001b[0;34m]\u001b[0m\u001b[0;34m)\u001b[0m\u001b[0;34m\u001b[0m\u001b[0;34m\u001b[0m\u001b[0m\n\u001b[1;32m      4\u001b[0m     \u001b[0mdf4\u001b[0m\u001b[0;34m.\u001b[0m\u001b[0mdrop\u001b[0m\u001b[0;34m(\u001b[0m\u001b[0mdrop\u001b[0m\u001b[0;34m,\u001b[0m \u001b[0maxis\u001b[0m\u001b[0;34m=\u001b[0m\u001b[0;36m1\u001b[0m\u001b[0;34m,\u001b[0m \u001b[0minplace\u001b[0m\u001b[0;34m=\u001b[0m\u001b[0;32mTrue\u001b[0m\u001b[0;34m)\u001b[0m\u001b[0;34m\u001b[0m\u001b[0;34m\u001b[0m\u001b[0m\n\u001b[1;32m      5\u001b[0m \u001b[0;34m\u001b[0m\u001b[0m\n",
            "\u001b[0;32m/usr/local/lib/python3.7/dist-packages/pandas/core/frame.py\u001b[0m in \u001b[0;36m__getitem__\u001b[0;34m(self, key)\u001b[0m\n\u001b[1;32m   3456\u001b[0m             \u001b[0;32mif\u001b[0m \u001b[0mself\u001b[0m\u001b[0;34m.\u001b[0m\u001b[0mcolumns\u001b[0m\u001b[0;34m.\u001b[0m\u001b[0mnlevels\u001b[0m \u001b[0;34m>\u001b[0m \u001b[0;36m1\u001b[0m\u001b[0;34m:\u001b[0m\u001b[0;34m\u001b[0m\u001b[0;34m\u001b[0m\u001b[0m\n\u001b[1;32m   3457\u001b[0m                 \u001b[0;32mreturn\u001b[0m \u001b[0mself\u001b[0m\u001b[0;34m.\u001b[0m\u001b[0m_getitem_multilevel\u001b[0m\u001b[0;34m(\u001b[0m\u001b[0mkey\u001b[0m\u001b[0;34m)\u001b[0m\u001b[0;34m\u001b[0m\u001b[0;34m\u001b[0m\u001b[0m\n\u001b[0;32m-> 3458\u001b[0;31m             \u001b[0mindexer\u001b[0m \u001b[0;34m=\u001b[0m \u001b[0mself\u001b[0m\u001b[0;34m.\u001b[0m\u001b[0mcolumns\u001b[0m\u001b[0;34m.\u001b[0m\u001b[0mget_loc\u001b[0m\u001b[0;34m(\u001b[0m\u001b[0mkey\u001b[0m\u001b[0;34m)\u001b[0m\u001b[0;34m\u001b[0m\u001b[0;34m\u001b[0m\u001b[0m\n\u001b[0m\u001b[1;32m   3459\u001b[0m             \u001b[0;32mif\u001b[0m \u001b[0mis_integer\u001b[0m\u001b[0;34m(\u001b[0m\u001b[0mindexer\u001b[0m\u001b[0;34m)\u001b[0m\u001b[0;34m:\u001b[0m\u001b[0;34m\u001b[0m\u001b[0;34m\u001b[0m\u001b[0m\n\u001b[1;32m   3460\u001b[0m                 \u001b[0mindexer\u001b[0m \u001b[0;34m=\u001b[0m \u001b[0;34m[\u001b[0m\u001b[0mindexer\u001b[0m\u001b[0;34m]\u001b[0m\u001b[0;34m\u001b[0m\u001b[0;34m\u001b[0m\u001b[0m\n",
            "\u001b[0;32m/usr/local/lib/python3.7/dist-packages/pandas/core/indexes/base.py\u001b[0m in \u001b[0;36mget_loc\u001b[0;34m(self, key, method, tolerance)\u001b[0m\n\u001b[1;32m   3361\u001b[0m                 \u001b[0;32mreturn\u001b[0m \u001b[0mself\u001b[0m\u001b[0;34m.\u001b[0m\u001b[0m_engine\u001b[0m\u001b[0;34m.\u001b[0m\u001b[0mget_loc\u001b[0m\u001b[0;34m(\u001b[0m\u001b[0mcasted_key\u001b[0m\u001b[0;34m)\u001b[0m\u001b[0;34m\u001b[0m\u001b[0;34m\u001b[0m\u001b[0m\n\u001b[1;32m   3362\u001b[0m             \u001b[0;32mexcept\u001b[0m \u001b[0mKeyError\u001b[0m \u001b[0;32mas\u001b[0m \u001b[0merr\u001b[0m\u001b[0;34m:\u001b[0m\u001b[0;34m\u001b[0m\u001b[0;34m\u001b[0m\u001b[0m\n\u001b[0;32m-> 3363\u001b[0;31m                 \u001b[0;32mraise\u001b[0m \u001b[0mKeyError\u001b[0m\u001b[0;34m(\u001b[0m\u001b[0mkey\u001b[0m\u001b[0;34m)\u001b[0m \u001b[0;32mfrom\u001b[0m \u001b[0merr\u001b[0m\u001b[0;34m\u001b[0m\u001b[0;34m\u001b[0m\u001b[0m\n\u001b[0m\u001b[1;32m   3364\u001b[0m \u001b[0;34m\u001b[0m\u001b[0m\n\u001b[1;32m   3365\u001b[0m         \u001b[0;32mif\u001b[0m \u001b[0mis_scalar\u001b[0m\u001b[0;34m(\u001b[0m\u001b[0mkey\u001b[0m\u001b[0;34m)\u001b[0m \u001b[0;32mand\u001b[0m \u001b[0misna\u001b[0m\u001b[0;34m(\u001b[0m\u001b[0mkey\u001b[0m\u001b[0;34m)\u001b[0m \u001b[0;32mand\u001b[0m \u001b[0;32mnot\u001b[0m \u001b[0mself\u001b[0m\u001b[0;34m.\u001b[0m\u001b[0mhasnans\u001b[0m\u001b[0;34m:\u001b[0m\u001b[0;34m\u001b[0m\u001b[0;34m\u001b[0m\u001b[0m\n",
            "\u001b[0;31mKeyError\u001b[0m: 'remove?'"
          ]
        }
      ]
    },
    {
      "cell_type": "code",
      "source": [
        "df4 = pd.merge(df4,df1,on='case_id')\n",
        "df4 = df4[df4.db_year != 2016]\n",
        "df4 = df4[df4.db_year != 2017]\n",
        "len(df4)"
      ],
      "metadata": {
        "id": "qUK6De2MDbq7"
      },
      "execution_count": null,
      "outputs": []
    }
  ]
}