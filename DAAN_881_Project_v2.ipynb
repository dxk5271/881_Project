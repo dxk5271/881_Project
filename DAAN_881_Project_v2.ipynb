{
  "nbformat": 4,
  "nbformat_minor": 0,
  "metadata": {
    "colab": {
      "name": "DAAN_881_Project_v2.ipynb",
      "provenance": [],
      "collapsed_sections": [
        "cjJFXftVxA2e"
      ],
      "machine_shape": "hm",
      "include_colab_link": true
    },
    "kernelspec": {
      "display_name": "Python 3",
      "language": "python",
      "name": "python3"
    },
    "language_info": {
      "codemirror_mode": {
        "name": "ipython",
        "version": 3
      },
      "file_extension": ".py",
      "mimetype": "text/x-python",
      "name": "python",
      "nbconvert_exporter": "python",
      "pygments_lexer": "ipython3",
      "version": "3.8.3"
    }
  },
  "cells": [
    {
      "cell_type": "markdown",
      "metadata": {
        "id": "view-in-github",
        "colab_type": "text"
      },
      "source": [
        "<a href=\"https://colab.research.google.com/github/dxk5271/881_Project/blob/main/DAAN_881_Project_v2.ipynb\" target=\"_parent\"><img src=\"https://colab.research.google.com/assets/colab-badge.svg\" alt=\"Open In Colab\"/></a>"
      ]
    },
    {
      "cell_type": "markdown",
      "metadata": {
        "id": "vZjtU80kMxJv"
      },
      "source": [
        "Replication Example \n",
        "Marjan Orang\n",
        "Spring 2021"
      ]
    },
    {
      "cell_type": "code",
      "metadata": {
        "id": "Yj__MtLhrmN3"
      },
      "source": [
        "# packages intended to use\n",
        "import pandas as pd\n"
      ],
      "execution_count": 2,
      "outputs": []
    },
    {
      "cell_type": "code",
      "metadata": {
        "colab": {
          "base_uri": "https://localhost:8080/"
        },
        "id": "wIYXvrWMIXex",
        "outputId": "6559ded2-e9ec-4b9e-ef9c-787654c10864"
      },
      "source": [
        "from google.colab import drive \n",
        "drive.mount('/content/gdrive')"
      ],
      "execution_count": 3,
      "outputs": [
        {
          "output_type": "stream",
          "name": "stdout",
          "text": [
            "Drive already mounted at /content/gdrive; to attempt to forcibly remount, call drive.mount(\"/content/gdrive\", force_remount=True).\n"
          ]
        }
      ]
    },
    {
      "cell_type": "markdown",
      "source": [
        "# **Case IDs**"
      ],
      "metadata": {
        "id": "nq6dM9-56JZZ"
      }
    },
    {
      "cell_type": "code",
      "source": [
        "#read in case_ids table\n",
        "df1=pd.read_csv('/content/gdrive/MyDrive/Data Driven Decisions/case_ids.csv')"
      ],
      "metadata": {
        "id": "_1Y93fodHQeX"
      },
      "execution_count": 4,
      "outputs": []
    },
    {
      "cell_type": "code",
      "source": [
        "#case_ids analysis\n",
        "df1.columns[df1.isna().any()].tolist() #empty list because there are no NAs\n",
        "df1.isna().sum() #entire dataset is complete no cleansing needed"
      ],
      "metadata": {
        "colab": {
          "base_uri": "https://localhost:8080/"
        },
        "id": "HrM-Y4UPvO1S",
        "outputId": "ca93435d-1288-41ff-e10d-b044154a5140"
      },
      "execution_count": 9,
      "outputs": [
        {
          "output_type": "execute_result",
          "data": {
            "text/plain": [
              "case_id    0\n",
              "db_year    0\n",
              "dtype: int64"
            ]
          },
          "metadata": {},
          "execution_count": 9
        }
      ]
    },
    {
      "cell_type": "markdown",
      "source": [
        "## **Collisions Analysis**"
      ],
      "metadata": {
        "id": "cjJFXftVxA2e"
      }
    },
    {
      "cell_type": "code",
      "source": [
        "#read in collisions table\n",
        "df2=pd.read_csv('/content/gdrive/MyDrive/Data Driven Decisions/collisions.csv', low_memory=False)"
      ],
      "metadata": {
        "id": "bRyt8bXaHVrn"
      },
      "execution_count": null,
      "outputs": []
    },
    {
      "cell_type": "code",
      "source": [
        "#collions analysis\n",
        "df2na_results = df2.isna().sum()"
      ],
      "metadata": {
        "id": "pbKI1n6rv8tH"
      },
      "execution_count": null,
      "outputs": []
    },
    {
      "cell_type": "code",
      "source": [
        "df2na_results"
      ],
      "metadata": {
        "id": "f-tPbv5v0k11"
      },
      "execution_count": null,
      "outputs": []
    },
    {
      "cell_type": "code",
      "source": [
        "df2.info()"
      ],
      "metadata": {
        "id": "va97VPgYyr1A"
      },
      "execution_count": null,
      "outputs": []
    },
    {
      "cell_type": "code",
      "source": [
        "df2na_results.to_csv(\"/content/gdrive/MyDrive/Data Driven Decisions/df2na_results.csv\")\n"
      ],
      "metadata": {
        "id": "FjJmttP4JfqU"
      },
      "execution_count": null,
      "outputs": []
    },
    {
      "cell_type": "code",
      "source": [
        "from google.colab import files\n",
        "files.download(\"df2.csv\")"
      ],
      "metadata": {
        "id": "kt5jvNktIdr3"
      },
      "execution_count": null,
      "outputs": []
    },
    {
      "cell_type": "code",
      "source": [
        ""
      ],
      "metadata": {
        "id": "W-mBcgKIKE2v"
      },
      "execution_count": null,
      "outputs": []
    },
    {
      "cell_type": "markdown",
      "source": [
        "# **Victims**"
      ],
      "metadata": {
        "id": "ro4DxYFL06gl"
      }
    },
    {
      "cell_type": "code",
      "source": [
        "df3=pd.read_csv('/content/gdrive/MyDrive/Data Driven Decisions/victims.csv', low_memory=False )"
      ],
      "metadata": {
        "id": "dI9mOl9iHgAo"
      },
      "execution_count": 19,
      "outputs": []
    },
    {
      "cell_type": "code",
      "source": [
        "df3na_results = df3.isna().sum()"
      ],
      "metadata": {
        "id": "FJm_9XzT0_Ve"
      },
      "execution_count": 20,
      "outputs": []
    },
    {
      "cell_type": "code",
      "source": [
        "df3na_results.to_csv(\"/content/gdrive/MyDrive/Data Driven Decisions/df3na_results.csv\")\n"
      ],
      "metadata": {
        "id": "w45e3XpX1Hcl"
      },
      "execution_count": 21,
      "outputs": []
    },
    {
      "cell_type": "code",
      "source": [
        "df3.info()"
      ],
      "metadata": {
        "colab": {
          "base_uri": "https://localhost:8080/"
        },
        "id": "p3R6GwQB0_cT",
        "outputId": "7340ddbf-3057-4567-c866-7c023d866b8a"
      },
      "execution_count": 22,
      "outputs": [
        {
          "output_type": "stream",
          "name": "stdout",
          "text": [
            "<class 'pandas.core.frame.DataFrame'>\n",
            "RangeIndex: 9639334 entries, 0 to 9639333\n",
            "Data columns (total 11 columns):\n",
            " #   Column                     Dtype  \n",
            "---  ------                     -----  \n",
            " 0   id                         int64  \n",
            " 1   case_id                    uint64 \n",
            " 2   party_number               int64  \n",
            " 3   victim_role                object \n",
            " 4   victim_sex                 object \n",
            " 5   victim_age                 float64\n",
            " 6   victim_degree_of_injury    object \n",
            " 7   victim_seating_position    object \n",
            " 8   victim_safety_equipment_1  object \n",
            " 9   victim_safety_equipment_2  object \n",
            " 10  victim_ejected             object \n",
            "dtypes: float64(1), int64(2), object(7), uint64(1)\n",
            "memory usage: 809.0+ MB\n"
          ]
        }
      ]
    },
    {
      "cell_type": "markdown",
      "source": [
        "# **Parties**"
      ],
      "metadata": {
        "id": "WBIaWOoo1oJJ"
      }
    },
    {
      "cell_type": "code",
      "source": [
        "df4=pd.read_csv('/content/gdrive/MyDrive/Data Driven Decisions/parties.csv', low_memory=False)"
      ],
      "metadata": {
        "id": "CDz3bFu0HhHt"
      },
      "execution_count": 3,
      "outputs": []
    },
    {
      "cell_type": "code",
      "source": [
        "df4na_results = df4.isna().sum()"
      ],
      "metadata": {
        "id": "bYFfLzEN1xYc"
      },
      "execution_count": 4,
      "outputs": []
    },
    {
      "cell_type": "code",
      "source": [
        "df4na_results.to_csv(\"/content/gdrive/MyDrive/Data Driven Decisions/df4na_results.csv\")"
      ],
      "metadata": {
        "id": "zR3BPKgh2BIy"
      },
      "execution_count": 5,
      "outputs": []
    },
    {
      "cell_type": "code",
      "source": [
        "df4.info()"
      ],
      "metadata": {
        "colab": {
          "base_uri": "https://localhost:8080/"
        },
        "id": "_w68L8L_2O3h",
        "outputId": "85066487-db0b-4acd-ea68-a325582244e1"
      },
      "execution_count": 7,
      "outputs": [
        {
          "output_type": "stream",
          "name": "stdout",
          "text": [
            "<class 'pandas.core.frame.DataFrame'>\n",
            "RangeIndex: 18669166 entries, 0 to 18669165\n",
            "Data columns (total 32 columns):\n",
            " #   Column                        Dtype  \n",
            "---  ------                        -----  \n",
            " 0   id                            int64  \n",
            " 1   case_id                       uint64 \n",
            " 2   party_number                  int64  \n",
            " 3   party_type                    object \n",
            " 4   at_fault                      int64  \n",
            " 5   party_sex                     object \n",
            " 6   party_age                     float64\n",
            " 7   party_sobriety                object \n",
            " 8   party_drug_physical           object \n",
            " 9   direction_of_travel           object \n",
            " 10  party_safety_equipment_1      object \n",
            " 11  party_safety_equipment_2      object \n",
            " 12  financial_responsibility      object \n",
            " 13  hazardous_materials           float64\n",
            " 14  cellphone_in_use              float64\n",
            " 15  cellphone_use_type            object \n",
            " 16  school_bus_related            float64\n",
            " 17  oaf_violation_code            object \n",
            " 18  oaf_violation_category        object \n",
            " 19  oaf_violation_section         float64\n",
            " 20  oaf_violation_suffix          object \n",
            " 21  other_associate_factor_1      object \n",
            " 22  other_associate_factor_2      object \n",
            " 23  party_number_killed           int64  \n",
            " 24  party_number_injured          int64  \n",
            " 25  movement_preceding_collision  object \n",
            " 26  vehicle_year                  float64\n",
            " 27  vehicle_make                  object \n",
            " 28  statewide_vehicle_type        object \n",
            " 29  chp_vehicle_type_towing       object \n",
            " 30  chp_vehicle_type_towed        object \n",
            " 31  party_race                    object \n",
            "dtypes: float64(6), int64(5), object(20), uint64(1)\n",
            "memory usage: 4.5+ GB\n"
          ]
        }
      ]
    },
    {
      "cell_type": "markdown",
      "source": [
        ""
      ],
      "metadata": {
        "id": "IwjU217Z4FuD"
      }
    },
    {
      "cell_type": "code",
      "source": [
        "del(df4)\n"
      ],
      "metadata": {
        "colab": {
          "base_uri": "https://localhost:8080/",
          "height": 165
        },
        "id": "pSNOco354rYK",
        "outputId": "ed648326-e650-4219-b6e7-f306b0f06e41"
      },
      "execution_count": 11,
      "outputs": [
        {
          "output_type": "error",
          "ename": "NameError",
          "evalue": "ignored",
          "traceback": [
            "\u001b[0;31m---------------------------------------------------------------------------\u001b[0m",
            "\u001b[0;31mNameError\u001b[0m                                 Traceback (most recent call last)",
            "\u001b[0;32m<ipython-input-11-b7d7b6308c93>\u001b[0m in \u001b[0;36m<module>\u001b[0;34m()\u001b[0m\n\u001b[0;32m----> 1\u001b[0;31m \u001b[0;32mdel\u001b[0m\u001b[0;34m(\u001b[0m\u001b[0mdf4\u001b[0m\u001b[0;34m)\u001b[0m\u001b[0;34m\u001b[0m\u001b[0;34m\u001b[0m\u001b[0m\n\u001b[0m",
            "\u001b[0;31mNameError\u001b[0m: name 'df4' is not defined"
          ]
        }
      ]
    }
  ]
}