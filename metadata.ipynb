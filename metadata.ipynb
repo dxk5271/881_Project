{
 "cells": [
  {
   "cell_type": "code",
   "execution_count": 1,
   "id": "broke-vacation",
   "metadata": {},
   "outputs": [],
   "source": [
    "# loading in modules\n",
    "import sqlite3\n",
    "import numpy as np\n",
    "import matplotlib.pyplot as plt\n",
    "import pandas as pd\n",
    "\n",
    "# creating file path\n",
    "# dbfile = '/home/daniel/Documents/switrs.sqlite'\n",
    "# Create a SQL connection to our SQLite database\n",
    "con = sqlite3.connect('switrs.sqlite')\n"
   ]
  },
  {
   "cell_type": "code",
   "execution_count": 2,
   "id": "african-atlantic",
   "metadata": {},
   "outputs": [
    {
     "name": "stdout",
     "output_type": "stream",
     "text": [
      "DB Init\n",
      "SQLite Version is [('3.31.1',)]\n"
     ]
    }
   ],
   "source": [
    "cursor = con.cursor()\n",
    "print('DB Init')\n",
    "# Write a query and execute it with cursor\n",
    "query = 'select sqlite_version();'\n",
    "cursor.execute(query)\n",
    "\n",
    "# Fetch and output result\n",
    "result = cursor.fetchall()\n",
    "print('SQLite Version is {}'.format(result))\n",
    "\n",
    "# Close the cursor\n",
    "cursor.close()"
   ]
  },
  {
   "cell_type": "code",
   "execution_count": 3,
   "id": "sapphire-doctrine",
   "metadata": {},
   "outputs": [
    {
     "name": "stdout",
     "output_type": "stream",
     "text": [
      "DB Init\n"
     ]
    },
    {
     "data": {
      "text/plain": [
       "[('case_ids',), ('collisions',), ('victims',), ('parties',)]"
      ]
     },
     "execution_count": 3,
     "metadata": {},
     "output_type": "execute_result"
    }
   ],
   "source": [
    "cursor = con.cursor()\n",
    "print('DB Init')\n",
    "# Write a query and execute it with cursor\n",
    "query = \"\"\"SELECT name FROM sqlite_master \n",
    "    WHERE type='table';\"\"\"\n",
    "cursor.execute(query)\n",
    "\n",
    "# Fetch and output result\n",
    "result = cursor.fetchall()\n",
    "\n",
    "# Close the cursor\n",
    "cursor.close()\n",
    "\n",
    "result"
   ]
  },
  {
   "cell_type": "code",
   "execution_count": 4,
   "id": "running-female",
   "metadata": {},
   "outputs": [
    {
     "data": {
      "text/plain": [
       "[(9424334,)]"
      ]
     },
     "execution_count": 4,
     "metadata": {},
     "output_type": "execute_result"
    }
   ],
   "source": [
    "cursor = con.cursor()\n",
    "query = \"\"\"SELECT count(*) from case_ids;\"\"\"\n",
    "cursor.execute(query)\n",
    "result = cursor.fetchall()\n",
    "cursor.close()\n",
    "result"
   ]
  },
  {
   "cell_type": "code",
   "execution_count": 5,
   "id": "subject-travel",
   "metadata": {},
   "outputs": [
    {
     "data": {
      "text/plain": [
       "9424334"
      ]
     },
     "execution_count": 5,
     "metadata": {},
     "output_type": "execute_result"
    }
   ],
   "source": [
    "result[0][0]"
   ]
  },
  {
   "cell_type": "markdown",
   "id": "agricultural-davis",
   "metadata": {},
   "source": [
    "Collisions MetaData"
   ]
  },
  {
   "cell_type": "code",
   "execution_count": 25,
   "id": "wrapped-psychiatry",
   "metadata": {},
   "outputs": [],
   "source": [
    "df_case_id = pd.read_sql_query('SELECT case_id, sum(1) as count FROM collisions group by 1 order by 2 desc', con)\n",
    "df_jurisdiction = pd.read_sql_query('SELECT jurisdiction, sum(1) as count FROM collisions group by 1 order by 2 desc', con)\n",
    "df_officer_id = pd.read_sql_query('SELECT officer_id, sum(1) as count FROM collisions group by 1 order by 2 desc', con)\n",
    "df_reporting_district = pd.read_sql_query('SELECT reporting_district, sum(1) as count FROM collisions group by 1 order by 2 desc', con)\n",
    "df_chp_shift = pd.read_sql_query('SELECT chp_shift, sum(1) as count FROM collisions group by 1 order by 2 desc', con)\n",
    "df_population = pd.read_sql_query('SELECT population, sum(1) as count FROM collisions group by 1 order by 2 desc', con)\n",
    "df_county_city_location = pd.read_sql_query('SELECT county_city_location, sum(1) as count FROM collisions group by 1 order by 2 desc', con)\n",
    "df_county_location = pd.read_sql_query('SELECT county_location, sum(1) as count FROM collisions group by 1 order by 2 desc', con)\n",
    "df_special_condition = pd.read_sql_query('SELECT special_condition, sum(1) as count FROM collisions group by 1 order by 2 desc', con)\n",
    "df_beat_type = pd.read_sql_query('SELECT beat_type, sum(1) as count FROM collisions group by 1 order by 2 desc', con)\n",
    "df_chp_beat_type = pd.read_sql_query('SELECT chp_beat_type, sum(1) as count FROM collisions group by 1 order by 2 desc', con)\n",
    "df_city_division_lapd = pd.read_sql_query('SELECT city_division_lapd, sum(1) as count FROM collisions group by 1 order by 2 desc', con)\n",
    "df_chp_beat_class = pd.read_sql_query('SELECT chp_beat_class, sum(1) as count FROM collisions group by 1 order by 2 desc', con)\n",
    "df_beat_number = pd.read_sql_query('SELECT beat_number, sum(1) as count FROM collisions group by 1 order by 2 desc', con)\n",
    "df_primary_road = pd.read_sql_query('SELECT primary_road, sum(1) as count FROM collisions group by 1 order by 2 desc', con)\n",
    "df_secondary_road = pd.read_sql_query('SELECT secondary_road, sum(1) as count FROM collisions group by 1 order by 2 desc', con)\n",
    "df_distance = pd.read_sql_query('SELECT distance, sum(1) as count FROM collisions group by 1 order by 2 desc', con)\n",
    "df_direction = pd.read_sql_query('SELECT direction, sum(1) as count FROM collisions group by 1 order by 2 desc', con)\n",
    "df_intersection = pd.read_sql_query('SELECT intersection, sum(1) as count FROM collisions group by 1 order by 2 desc', con)\n",
    "df_weather_1 = pd.read_sql_query('SELECT weather_1, sum(1) as count FROM collisions group by 1 order by 2 desc', con)\n",
    "df_weather_2 = pd.read_sql_query('SELECT weather_2, sum(1) as count FROM collisions group by 1 order by 2 desc', con)\n",
    "df_state_highway_indicator = pd.read_sql_query('SELECT state_highway_indicator, sum(1) as count FROM collisions group by 1 order by 2 desc', con)\n",
    "df_caltrans_county = pd.read_sql_query('SELECT caltrans_county, sum(1) as count FROM collisions group by 1 order by 2 desc', con)\n",
    "df_caltrans_district = pd.read_sql_query('SELECT caltrans_district, sum(1) as count FROM collisions group by 1 order by 2 desc', con)\n",
    "df_state_route = pd.read_sql_query('SELECT state_route, sum(1) as count FROM collisions group by 1 order by 2 desc', con)\n",
    "df_route_suffix = pd.read_sql_query('SELECT route_suffix, sum(1) as count FROM collisions group by 1 order by 2 desc', con)\n",
    "df_postmile_prefix = pd.read_sql_query('SELECT postmile_prefix, sum(1) as count FROM collisions group by 1 order by 2 desc', con)\n",
    "df_postmile = pd.read_sql_query('SELECT postmile, sum(1) as count FROM collisions group by 1 order by 2 desc', con)\n",
    "df_location_type = pd.read_sql_query('SELECT location_type, sum(1) as count FROM collisions group by 1 order by 2 desc', con)\n",
    "df_ramp_intersection = pd.read_sql_query('SELECT ramp_intersection, sum(1) as count FROM collisions group by 1 order by 2 desc', con)\n",
    "df_side_of_highway = pd.read_sql_query('SELECT side_of_highway, sum(1) as count FROM collisions group by 1 order by 2 desc', con)\n",
    "df_tow_away = pd.read_sql_query('SELECT tow_away, sum(1) as count FROM collisions group by 1 order by 2 desc', con)\n",
    "df_collision_severity = pd.read_sql_query('SELECT collision_severity, sum(1) as count FROM collisions group by 1 order by 2 desc', con)\n",
    "df_killed_victims = pd.read_sql_query('SELECT killed_victims, sum(1) as count FROM collisions group by 1 order by 2 desc', con)\n",
    "df_injured_victims = pd.read_sql_query('SELECT injured_victims, sum(1) as count FROM collisions group by 1 order by 2 desc', con)\n",
    "df_party_count = pd.read_sql_query('SELECT party_count, sum(1) as count FROM collisions group by 1 order by 2 desc', con)\n",
    "df_primary_collision_factor = pd.read_sql_query('SELECT primary_collision_factor, sum(1) as count FROM collisions group by 1 order by 2 desc', con)\n",
    "df_pcf_violation_code = pd.read_sql_query('SELECT pcf_violation_code, sum(1) as count FROM collisions group by 1 order by 2 desc', con)\n",
    "df_pcf_violation_category = pd.read_sql_query('SELECT pcf_violation_category, sum(1) as count FROM collisions group by 1 order by 2 desc', con)\n",
    "df_pcf_violation = pd.read_sql_query('SELECT pcf_violation, sum(1) as count FROM collisions group by 1 order by 2 desc', con)\n",
    "df_pcf_violation_subsection = pd.read_sql_query('SELECT pcf_violation_subsection, sum(1) as count FROM collisions group by 1 order by 2 desc', con)\n",
    "df_hit_and_run = pd.read_sql_query('SELECT hit_and_run, sum(1) as count FROM collisions group by 1 order by 2 desc', con)\n",
    "df_type_of_collision = pd.read_sql_query('SELECT type_of_collision, sum(1) as count FROM collisions group by 1 order by 2 desc', con)\n",
    "df_motor_vehicle_involved_with = pd.read_sql_query('SELECT motor_vehicle_involved_with, sum(1) as count FROM collisions group by 1 order by 2 desc', con)\n",
    "df_pedestrian_action = pd.read_sql_query('SELECT pedestrian_action, sum(1) as count FROM collisions group by 1 order by 2 desc', con)\n",
    "df_road_surface = pd.read_sql_query('SELECT road_surface, sum(1) as count FROM collisions group by 1 order by 2 desc', con)\n",
    "df_road_condition_1 = pd.read_sql_query('SELECT road_condition_1, sum(1) as count FROM collisions group by 1 order by 2 desc', con)\n",
    "df_road_condition_2 = pd.read_sql_query('SELECT road_condition_2, sum(1) as count FROM collisions group by 1 order by 2 desc', con)\n",
    "df_lighting = pd.read_sql_query('SELECT lighting, sum(1) as count FROM collisions group by 1 order by 2 desc', con)\n",
    "df_control_device = pd.read_sql_query('SELECT control_device, sum(1) as count FROM collisions group by 1 order by 2 desc', con)\n",
    "df_chp_road_type = pd.read_sql_query('SELECT chp_road_type, sum(1) as count FROM collisions group by 1 order by 2 desc', con)\n",
    "df_pedestrian_collision = pd.read_sql_query('SELECT pedestrian_collision, sum(1) as count FROM collisions group by 1 order by 2 desc', con)\n",
    "df_bicycle_collision = pd.read_sql_query('SELECT bicycle_collision, sum(1) as count FROM collisions group by 1 order by 2 desc', con)\n",
    "df_motorcycle_collision = pd.read_sql_query('SELECT motorcycle_collision, sum(1) as count FROM collisions group by 1 order by 2 desc', con)\n",
    "df_truck_collision = pd.read_sql_query('SELECT truck_collision, sum(1) as count FROM collisions group by 1 order by 2 desc', con)\n",
    "df_not_private_property = pd.read_sql_query('SELECT not_private_property, sum(1) as count FROM collisions group by 1 order by 2 desc', con)\n",
    "df_alcohol_involved = pd.read_sql_query('SELECT alcohol_involved, sum(1) as count FROM collisions group by 1 order by 2 desc', con)\n",
    "df_statewide_vehicle_type_at_fault = pd.read_sql_query('SELECT statewide_vehicle_type_at_fault, sum(1) as count FROM collisions group by 1 order by 2 desc', con)\n",
    "df_chp_vehicle_type_at_fault = pd.read_sql_query('SELECT chp_vehicle_type_at_fault, sum(1) as count FROM collisions group by 1 order by 2 desc', con)\n",
    "df_severe_injury_count = pd.read_sql_query('SELECT severe_injury_count, sum(1) as count FROM collisions group by 1 order by 2 desc', con)\n",
    "df_other_visible_injury_count = pd.read_sql_query('SELECT other_visible_injury_count, sum(1) as count FROM collisions group by 1 order by 2 desc', con)\n",
    "df_complaint_of_pain_injury_count = pd.read_sql_query('SELECT complaint_of_pain_injury_count, sum(1) as count FROM collisions group by 1 order by 2 desc', con)\n",
    "df_pedestrian_killed_count = pd.read_sql_query('SELECT pedestrian_killed_count, sum(1) as count FROM collisions group by 1 order by 2 desc', con)\n",
    "df_pedestrian_injured_count = pd.read_sql_query('SELECT pedestrian_injured_count, sum(1) as count FROM collisions group by 1 order by 2 desc', con)\n",
    "df_bicyclist_killed_count = pd.read_sql_query('SELECT bicyclist_killed_count, sum(1) as count FROM collisions group by 1 order by 2 desc', con)\n",
    "df_bicyclist_injured_count = pd.read_sql_query('SELECT bicyclist_injured_count, sum(1) as count FROM collisions group by 1 order by 2 desc', con)\n",
    "df_motorcyclist_killed_count = pd.read_sql_query('SELECT motorcyclist_killed_count, sum(1) as count FROM collisions group by 1 order by 2 desc', con)\n",
    "df_motorcyclist_injured_count = pd.read_sql_query('SELECT motorcyclist_injured_count, sum(1) as count FROM collisions group by 1 order by 2 desc', con)\n",
    "df_primary_ramp = pd.read_sql_query('SELECT primary_ramp, sum(1) as count FROM collisions group by 1 order by 2 desc', con)\n",
    "df_secondary_ramp = pd.read_sql_query('SELECT secondary_ramp, sum(1) as count FROM collisions group by 1 order by 2 desc', con)\n",
    "df_latitude = pd.read_sql_query('SELECT latitude, sum(1) as count FROM collisions group by 1 order by 2 desc', con)\n",
    "df_longitude = pd.read_sql_query('SELECT longitude, sum(1) as count FROM collisions group by 1 order by 2 desc', con)\n",
    "df_collision_date = pd.read_sql_query('SELECT collision_date, sum(1) as count FROM collisions group by 1 order by 2 desc', con)\n",
    "df_collision_time = pd.read_sql_query('SELECT collision_time, sum(1) as count FROM collisions group by 1 order by 2 desc', con)\n",
    "df_process_date = pd.read_sql_query('SELECT process_date, sum(1) as count FROM collisions group by 1 order by 2 desc', con)\n"
   ]
  },
  {
   "cell_type": "code",
   "execution_count": 104,
   "id": "governing-basin",
   "metadata": {},
   "outputs": [],
   "source": [
    "df_case_id.columns = ['case_id_vals','case_id_count']\n",
    "df_jurisdiction.columns = ['jurisdiction_vals','jurisdiction_count']\n",
    "df_officer_id.columns = ['officer_id_vals','officer_id_count']\n",
    "df_reporting_district.columns = ['reporting_district_vals','reporting_district_count']\n",
    "df_chp_shift.columns = ['chp_shift_vals','chp_shift_count']\n",
    "df_population.columns = ['population_vals','population_count']\n",
    "df_county_city_location.columns = ['county_city_location_vals','county_city_location_count']\n",
    "df_county_location.columns = ['county_location_vals','county_location_count']\n",
    "df_special_condition.columns = ['special_condition_vals','special_condition_count']\n",
    "df_beat_type.columns = ['beat_type_vals','beat_type_count']\n",
    "df_chp_beat_type.columns = ['chp_beat_type_vals','chp_beat_type_count']\n",
    "df_city_division_lapd.columns = ['city_division_lapd_vals','city_division_lapd_count']\n",
    "df_chp_beat_class.columns = ['chp_beat_class_vals','chp_beat_class_count']\n",
    "df_beat_number.columns = ['beat_number_vals','beat_number_count']\n",
    "df_primary_road.columns = ['primary_road_vals','primary_road_count']\n",
    "df_secondary_road.columns = ['secondary_road_vals','secondary_road_count']\n",
    "df_distance.columns = ['distance_vals','distance_count']\n",
    "df_direction.columns = ['direction_vals','direction_count']\n",
    "df_intersection.columns = ['intersection_vals','intersection_count']\n",
    "df_weather_1.columns = ['weather_1_vals','weather_1_count']\n",
    "df_weather_2.columns = ['weather_2_vals','weather_2_count']\n",
    "df_state_highway_indicator.columns = ['state_highway_indicator_vals','state_highway_indicator_count']\n",
    "df_caltrans_county.columns = ['caltrans_county_vals','caltrans_county_count']\n",
    "df_caltrans_district.columns = ['caltrans_district_vals','caltrans_district_count']\n",
    "df_state_route.columns = ['state_route_vals','state_route_count']\n",
    "df_route_suffix.columns = ['route_suffix_vals','route_suffix_count']\n",
    "df_postmile_prefix.columns = ['postmile_prefix_vals','postmile_prefix_count']\n",
    "df_postmile.columns = ['postmile_vals','postmile_count']\n",
    "df_location_type.columns = ['location_type_vals','location_type_count']\n",
    "df_ramp_intersection.columns = ['ramp_intersection_vals','ramp_intersection_count']\n",
    "df_side_of_highway.columns = ['side_of_highway_vals','side_of_highway_count']\n",
    "df_tow_away.columns = ['tow_away_vals','tow_away_count']\n",
    "df_collision_severity.columns = ['collision_severity_vals','collision_severity_count']\n",
    "df_killed_victims.columns = ['killed_victims_vals','killed_victims_count']\n",
    "df_injured_victims.columns = ['injured_victims_vals','injured_victims_count']\n",
    "df_party_count.columns = ['party_count_vals','party_count_count']\n",
    "df_primary_collision_factor.columns = ['primary_collision_factor_vals','primary_collision_factor_count']\n",
    "df_pcf_violation_code.columns = ['pcf_violation_code_vals','pcf_violation_code_count']\n",
    "df_pcf_violation_category.columns = ['pcf_violation_category_vals','pcf_violation_category_count']\n",
    "df_pcf_violation.columns = ['pcf_violation_vals','pcf_violation_count']\n",
    "df_pcf_violation_subsection.columns = ['pcf_violation_subsection_vals','pcf_violation_subsection_count']\n",
    "df_hit_and_run.columns = ['hit_and_run_vals','hit_and_run_count']\n",
    "df_type_of_collision.columns = ['type_of_collision_vals','type_of_collision_count']\n",
    "df_motor_vehicle_involved_with.columns = ['motor_vehicle_involved_with_vals','motor_vehicle_involved_with_count']\n",
    "df_pedestrian_action.columns = ['pedestrian_action_vals','pedestrian_action_count']\n",
    "df_road_surface.columns = ['road_surface_vals','road_surface_count']\n",
    "df_road_condition_1.columns = ['road_condition_1_vals','road_condition_1_count']\n",
    "df_road_condition_2.columns = ['road_condition_2_vals','road_condition_2_count']\n",
    "df_lighting.columns = ['lighting_vals','lighting_count']\n",
    "df_control_device.columns = ['control_device_vals','control_device_count']\n",
    "df_chp_road_type.columns = ['chp_road_type_vals','chp_road_type_count']\n",
    "df_pedestrian_collision.columns = ['pedestrian_collision_vals','pedestrian_collision_count']\n",
    "df_bicycle_collision.columns = ['bicycle_collision_vals','bicycle_collision_count']\n",
    "df_motorcycle_collision.columns = ['motorcycle_collision_vals','motorcycle_collision_count']\n",
    "df_truck_collision.columns = ['truck_collision_vals','truck_collision_count']\n",
    "df_not_private_property.columns = ['not_private_property_vals','not_private_property_count']\n",
    "df_alcohol_involved.columns = ['alcohol_involved_vals','alcohol_involved_count']\n",
    "df_statewide_vehicle_type_at_fault.columns = ['statewide_vehicle_type_at_fault_vals','statewide_vehicle_type_at_fault_count']\n",
    "df_chp_vehicle_type_at_fault.columns = ['chp_vehicle_type_at_fault_vals','chp_vehicle_type_at_fault_count']\n",
    "df_severe_injury_count.columns = ['severe_injury_count_vals','severe_injury_count_count']\n",
    "df_other_visible_injury_count.columns = ['other_visible_injury_count_vals','other_visible_injury_count_count']\n",
    "df_complaint_of_pain_injury_count.columns = ['complaint_of_pain_injury_count_vals','complaint_of_pain_injury_count_count']\n",
    "df_pedestrian_killed_count.columns = ['pedestrian_killed_count_vals','pedestrian_killed_count_count']\n",
    "df_pedestrian_injured_count.columns = ['pedestrian_injured_count_vals','pedestrian_injured_count_count']\n",
    "df_bicyclist_killed_count.columns = ['bicyclist_killed_count_vals','bicyclist_killed_count_count']\n",
    "df_bicyclist_injured_count.columns = ['bicyclist_injured_count_vals','bicyclist_injured_count_count']\n",
    "df_motorcyclist_killed_count.columns = ['motorcyclist_killed_count_vals','motorcyclist_killed_count_count']\n",
    "df_motorcyclist_injured_count.columns = ['motorcyclist_injured_count_vals','motorcyclist_injured_count_count']\n",
    "df_primary_ramp.columns = ['primary_ramp_vals','primary_ramp_count']\n",
    "df_secondary_ramp.columns = ['secondary_ramp_vals','secondary_ramp_count']\n",
    "df_latitude.columns = ['latitude_vals','latitude_count']\n",
    "df_longitude.columns = ['longitude_vals','longitude_count']\n",
    "df_collision_date.columns = ['collision_date_vals','collision_date_count']\n",
    "df_collision_time.columns = ['collision_time_vals','collision_time_count']\n",
    "df_process_date.columns = ['process_date_vals','process_date_count']\n"
   ]
  },
  {
   "cell_type": "code",
   "execution_count": 27,
   "id": "artificial-dodge",
   "metadata": {},
   "outputs": [
    {
     "data": {
      "text/plain": [
       "<AxesSubplot:title={'center':'Boxplot'}>"
      ]
     },
     "execution_count": 27,
     "metadata": {},
     "output_type": "execute_result"
    },
    {
     "data": {
      "image/png": "[encoded data removed]",
      "text/plain": [
       "<Figure size 432x288 with 1 Axes>"
      ]
     },
     "metadata": {
      "needs_background": "light"
     },
     "output_type": "display_data"
    }
   ],
   "source": [
    "# plt.figure()\n",
    "# plt.figure(figsize = (5,5))\n",
    "# plt.xticks(fontsize=12)\n",
    "# plt.yticks(fontsize=12)\n",
    "plt.title('Boxplot')\n",
    "df_case_id.boxplot(column=['case_id'])"
   ]
  },
  {
   "cell_type": "code",
   "execution_count": 105,
   "id": "dominant-veteran",
   "metadata": {},
   "outputs": [
    {
     "name": "stdout",
     "output_type": "stream",
     "text": [
      "     jurisdiction_vals  jurisdiction_count\n",
      "0               1942.0              744576\n",
      "1               1900.0              393894\n",
      "2               9550.0              166667\n",
      "3               9590.0              152699\n",
      "4               9675.0              151820\n",
      "..                 ...                 ...\n",
      "495             9147.0                   1\n",
      "496             4710.0                   1\n",
      "497             1513.0                   1\n",
      "498             1303.0                   1\n",
      "499             1030.0                   1\n",
      "\n",
      "[500 rows x 2 columns]\n"
     ]
    },
    {
     "data": {
      "text/plain": [
       "<AxesSubplot:>"
      ]
     },
     "execution_count": 105,
     "metadata": {},
     "output_type": "execute_result"
    },
    {
     "data": {
      "image/png": "[encoded data removed]",
      "text/plain": [
       "<Figure size 432x288 with 1 Axes>"
      ]
     },
     "metadata": {
      "needs_background": "light"
     },
     "output_type": "display_data"
    }
   ],
   "source": [
    "# plt.figure()\n",
    "# plt.figure(figsize = (5,5))\n",
    "# plt.xticks(fontsize=12)\n",
    "# plt.yticks(fontsize=12)\n",
    "# plt.title('Boxplot',fontsize=15)\n",
    "print(df_jurisdiction)\n",
    "df_jurisdiction.boxplot(column=['jurisdiction_count'])\n"
   ]
  },
  {
   "cell_type": "code",
   "execution_count": null,
   "id": "graduate-former",
   "metadata": {},
   "outputs": [],
   "source": []
  },
  {
   "cell_type": "code",
   "execution_count": 106,
   "id": "rental-psychology",
   "metadata": {},
   "outputs": [
    {
     "name": "stdout",
     "output_type": "stream",
     "text": [
      "                case_id_vals  case_id_count\n",
      "0        9870011231152508671              1\n",
      "1        9870011228210011458              1\n",
      "2        9870011226102009803              1\n",
      "3        9870011224123011850              1\n",
      "4        9870011224092016011              1\n",
      "...                      ...            ...\n",
      "9424329              0000005              1\n",
      "9424330              0000004              1\n",
      "9424331              0000003              1\n",
      "9424332              0000002              1\n",
      "9424333              0000001              1\n",
      "\n",
      "[9424334 rows x 2 columns]\n"
     ]
    },
    {
     "data": {
      "text/plain": [
       "<AxesSubplot:>"
      ]
     },
     "execution_count": 106,
     "metadata": {},
     "output_type": "execute_result"
    },
    {
     "data": {
      "image/png": "[encoded data removed]",
      "text/plain": [
       "<Figure size 432x288 with 1 Axes>"
      ]
     },
     "metadata": {
      "needs_background": "light"
     },
     "output_type": "display_data"
    }
   ],
   "source": [
    "print(df_case_id) \n",
    "df_case_id.boxplot(column=['case_id_count'])\n",
    "   "
   ]
  },
  {
   "cell_type": "code",
   "execution_count": 107,
   "id": "atomic-newfoundland",
   "metadata": {},
   "outputs": [
    {
     "name": "stdout",
     "output_type": "stream",
     "text": [
      "     jurisdiction_vals  jurisdiction_count\n",
      "0               1942.0              744576\n",
      "1               1900.0              393894\n",
      "2               9550.0              166667\n",
      "3               9590.0              152699\n",
      "4               9675.0              151820\n",
      "..                 ...                 ...\n",
      "495             9147.0                   1\n",
      "496             4710.0                   1\n",
      "497             1513.0                   1\n",
      "498             1303.0                   1\n",
      "499             1030.0                   1\n",
      "\n",
      "[500 rows x 2 columns]\n"
     ]
    },
    {
     "data": {
      "text/plain": [
       "<AxesSubplot:>"
      ]
     },
     "execution_count": 107,
     "metadata": {},
     "output_type": "execute_result"
    },
    {
     "data": {
      "image/png": "[encoded data removed]",
      "text/plain": [
       "<Figure size 432x288 with 1 Axes>"
      ]
     },
     "metadata": {
      "needs_background": "light"
     },
     "output_type": "display_data"
    }
   ],
   "source": [
    "print(df_jurisdiction) \n",
    "df_jurisdiction.boxplot(column=['jurisdiction_count'])\n"
   ]
  },
  {
   "cell_type": "code",
   "execution_count": 109,
   "id": "prepared-medicare",
   "metadata": {},
   "outputs": [
    {
     "name": "stdout",
     "output_type": "stream",
     "text": [
      "       officer_id_vals  officer_id_count\n",
      "0                 None             22367\n",
      "1                  415              5838\n",
      "2                34426              4836\n",
      "3                  288              4554\n",
      "4                  127              4500\n",
      "...                ...               ...\n",
      "110198          #10009                 1\n",
      "110199          #02448                 1\n",
      "110200          #00344                 1\n",
      "110201          #00282                 1\n",
      "110202           # 654                 1\n",
      "\n",
      "[110203 rows x 2 columns]\n"
     ]
    },
    {
     "data": {
      "text/plain": [
       "<AxesSubplot:>"
      ]
     },
     "execution_count": 109,
     "metadata": {},
     "output_type": "execute_result"
    },
    {
     "data": {
      "image/png": "[encoded data removed]",
      "text/plain": [
       "<Figure size 432x288 with 1 Axes>"
      ]
     },
     "metadata": {
      "needs_background": "light"
     },
     "output_type": "display_data"
    }
   ],
   "source": [
    "print(df_officer_id) \n",
    "df_officer_id.boxplot(column=['officer_id_count'])\n",
    "\n"
   ]
  },
  {
   "cell_type": "code",
   "execution_count": 110,
   "id": "disciplinary-selection",
   "metadata": {},
   "outputs": [
    {
     "name": "stdout",
     "output_type": "stream",
     "text": [
      "      reporting_district_vals  reporting_district_count\n",
      "0                        None                   5572350\n",
      "1                           0                    367510\n",
      "2                           2                     62016\n",
      "3                           1                     59556\n",
      "4                           3                     41831\n",
      "...                       ...                       ...\n",
      "38471                   '3408                         1\n",
      "38472                    '169                         1\n",
      "38473                     #24                         1\n",
      "38474                    !835                         1\n",
      "38475                   !0204                         1\n",
      "\n",
      "[38476 rows x 2 columns]\n"
     ]
    },
    {
     "data": {
      "text/plain": [
       "<AxesSubplot:>"
      ]
     },
     "execution_count": 110,
     "metadata": {},
     "output_type": "execute_result"
    },
    {
     "data": {
      "image/png": "[encoded data removed]",
      "text/plain": [
       "<Figure size 432x288 with 1 Axes>"
      ]
     },
     "metadata": {
      "needs_background": "light"
     },
     "output_type": "display_data"
    }
   ],
   "source": [
    "print(df_reporting_district) \n",
    "df_reporting_district.boxplot(column=['reporting_district_count'])\n",
    "\n"
   ]
  },
  {
   "cell_type": "code",
   "execution_count": 111,
   "id": "elegant-illustration",
   "metadata": {},
   "outputs": [
    {
     "name": "stdout",
     "output_type": "stream",
     "text": [
      "   chp_shift_vals  chp_shift_count\n",
      "0         not chp          5080518\n",
      "1  1400 thru 2159          1980875\n",
      "2  0600 thru 1359          1637314\n",
      "3  2200 thru 0559           694425\n",
      "4  chp not stated            31202\n"
     ]
    },
    {
     "data": {
      "text/plain": [
       "<AxesSubplot:>"
      ]
     },
     "execution_count": 111,
     "metadata": {},
     "output_type": "execute_result"
    },
    {
     "data": {
      "image/png": "[encoded data removed]",
      "text/plain": [
       "<Figure size 432x288 with 1 Axes>"
      ]
     },
     "metadata": {
      "needs_background": "light"
     },
     "output_type": "display_data"
    }
   ],
   "source": [
    "print(df_chp_shift) \n",
    "df_chp_shift.boxplot(column=['chp_shift_count'])\n",
    "\n"
   ]
  },
  {
   "cell_type": "code",
   "execution_count": 112,
   "id": "crucial-suspension",
   "metadata": {},
   "outputs": [
    {
     "name": "stdout",
     "output_type": "stream",
     "text": [
      "    population_vals  population_count\n",
      "0           >250000           2341749\n",
      "1    unincorporated           2208674\n",
      "2  100000 to 250000           1764711\n",
      "3   50000 to 100000           1707976\n",
      "4    25000 to 50000            836319\n",
      "5    10000 to 25000            386744\n",
      "6     2500 to 10000            131319\n",
      "7             <2500             45183\n",
      "8              None              1659\n"
     ]
    },
    {
     "data": {
      "text/plain": [
       "<AxesSubplot:>"
      ]
     },
     "execution_count": 112,
     "metadata": {},
     "output_type": "execute_result"
    },
    {
     "data": {
      "image/png": "[encoded data removed]",
      "text/plain": [
       "<Figure size 432x288 with 1 Axes>"
      ]
     },
     "metadata": {
      "needs_background": "light"
     },
     "output_type": "display_data"
    }
   ],
   "source": [
    "print(df_population) \n",
    "df_population.boxplot(column=['population_count'])\n"
   ]
  },
  {
   "cell_type": "code",
   "execution_count": 113,
   "id": "weekly-final",
   "metadata": {
    "scrolled": false
   },
   "outputs": [
    {
     "name": "stdout",
     "output_type": "stream",
     "text": [
      "    county_city_location_vals  county_city_location_count\n",
      "0                        1942                     1086602\n",
      "1                        1900                      338600\n",
      "2                        3400                      198752\n",
      "3                        3711                      197264\n",
      "4                        0109                      167050\n",
      "..                        ...                         ...\n",
      "541                      1504                          10\n",
      "542                      1202                           8\n",
      "543                      4710                           2\n",
      "544                      1303                           2\n",
      "545                      1513                           1\n",
      "\n",
      "[546 rows x 2 columns]\n"
     ]
    },
    {
     "data": {
      "text/plain": [
       "<AxesSubplot:>"
      ]
     },
     "execution_count": 113,
     "metadata": {},
     "output_type": "execute_result"
    },
    {
     "data": {
      "image/png": "[encoded data removed]",
      "text/plain": [
       "<Figure size 432x288 with 1 Axes>"
      ]
     },
     "metadata": {
      "needs_background": "light"
     },
     "output_type": "display_data"
    }
   ],
   "source": [
    "print(df_county_city_location) \n",
    "df_county_city_location.boxplot(column=['county_city_location_count'])\n"
   ]
  },
  {
   "cell_type": "code",
   "execution_count": 114,
   "id": "serious-kingdom",
   "metadata": {},
   "outputs": [
    {
     "name": "stdout",
     "output_type": "stream",
     "text": [
      "   county_location_vals  county_location_count\n",
      "0           los angeles                2851925\n",
      "1                orange                 728565\n",
      "2        san bernardino                 569376\n",
      "3             san diego                 535596\n",
      "4             riverside                 493758\n",
      "5               alameda                 466969\n",
      "6            sacramento                 403575\n",
      "7           santa clara                 342603\n",
      "8          contra costa                 217025\n",
      "9           san joaquin                 209185\n",
      "10              ventura                 203072\n",
      "11                 kern                 195861\n",
      "12               fresno                 177368\n",
      "13            san mateo                 166160\n",
      "14           stanislaus                 143902\n",
      "15        san francisco                 133437\n",
      "16             monterey                 124455\n",
      "17               sonoma                 121168\n",
      "18        santa barbara                 120853\n",
      "19               tulare                 119143\n",
      "20               solano                 105171\n",
      "21      san luis obispo                  80284\n",
      "22               placer                  79195\n",
      "23               merced                  77086\n",
      "24           santa cruz                  75746\n",
      "25                marin                  62680\n",
      "26                 yolo                  47792\n",
      "27               shasta                  47134\n",
      "28               madera                  45282\n",
      "29                butte                  42708\n",
      "30             humboldt                  42697\n",
      "31                 napa                  41473\n",
      "32            el dorado                  38801\n",
      "33                kings                  32004\n",
      "34             imperial                  27280\n",
      "35            mendocino                  26730\n",
      "36               nevada                  26432\n",
      "37               sutter                  21618\n",
      "38             tuolumne                  17797\n",
      "39               tehama                  17343\n",
      "40                 yuba                  16902\n",
      "41                 lake                  14755\n",
      "42           san benito                  14096\n",
      "43            calaveras                  12644\n",
      "44             siskiyou                  11925\n",
      "45               amador                  11032\n",
      "46               lassen                   8207\n",
      "47               colusa                   7404\n",
      "48            del norte                   7231\n",
      "49                glenn                   7084\n",
      "50                 mono                   6422\n",
      "51                 inyo                   6232\n",
      "52               plumas                   6021\n",
      "53             mariposa                   5185\n",
      "54              trinity                   4375\n",
      "55                modoc                   2588\n",
      "56               alpine                   1535\n",
      "57               sierra                   1447\n"
     ]
    },
    {
     "data": {
      "text/plain": [
       "<AxesSubplot:>"
      ]
     },
     "execution_count": 114,
     "metadata": {},
     "output_type": "execute_result"
    },
    {
     "data": {
      "image/png": "[encoded data removed]",
      "text/plain": [
       "<Figure size 432x288 with 1 Axes>"
      ]
     },
     "metadata": {
      "needs_background": "light"
     },
     "output_type": "display_data"
    }
   ],
   "source": [
    "print(df_county_location) \n",
    "df_county_location.boxplot(column=['county_location_count'])\n"
   ]
  },
  {
   "cell_type": "code",
   "execution_count": 115,
   "id": "filled-pendant",
   "metadata": {},
   "outputs": [
    {
     "name": "stdout",
     "output_type": "stream",
     "text": [
      "  special_condition_vals  special_condition_count\n",
      "0                      0                  8867431\n",
      "1                   None                   520483\n",
      "2                      1                    36420\n"
     ]
    },
    {
     "data": {
      "text/plain": [
       "<AxesSubplot:>"
      ]
     },
     "execution_count": 115,
     "metadata": {},
     "output_type": "execute_result"
    },
    {
     "data": {
      "image/png": "[encoded data removed]",
      "text/plain": [
       "<Figure size 432x288 with 1 Axes>"
      ]
     },
     "metadata": {
      "needs_background": "light"
     },
     "output_type": "display_data"
    }
   ],
   "source": [
    "print(df_special_condition) \n",
    "df_special_condition.boxplot(column=['special_condition_count'])\n",
    "\n"
   ]
  },
  {
   "cell_type": "code",
   "execution_count": 116,
   "id": "retired-flood",
   "metadata": {},
   "outputs": [
    {
     "name": "stdout",
     "output_type": "stream",
     "text": [
      "              beat_type_vals  beat_type_count\n",
      "0                    not chp          5080518\n",
      "1          chp state highway          3058638\n",
      "2        chp county roadarea           816955\n",
      "3        chp county roadline           443967\n",
      "4  schoolbus on city roadway            24256\n"
     ]
    },
    {
     "data": {
      "text/plain": [
       "<AxesSubplot:>"
      ]
     },
     "execution_count": 116,
     "metadata": {},
     "output_type": "execute_result"
    },
    {
     "data": {
      "image/png": "[encoded data removed]",
      "text/plain": [
       "<Figure size 432x288 with 1 Axes>"
      ]
     },
     "metadata": {
      "needs_background": "light"
     },
     "output_type": "display_data"
    }
   ],
   "source": [
    "print(df_beat_type) \n",
    "df_beat_type.boxplot(column=['beat_type_count'])\n",
    "\n"
   ]
  },
  {
   "cell_type": "code",
   "execution_count": 117,
   "id": "perfect-confirmation",
   "metadata": {},
   "outputs": [
    {
     "name": "stdout",
     "output_type": "stream",
     "text": [
      "        chp_beat_type_vals  chp_beat_type_count\n",
      "0                  not chp              5080518\n",
      "1               interstate              1541959\n",
      "2              state route              1144829\n",
      "3         county road area               818200\n",
      "4         county road line               434833\n",
      "5               us highway               365811\n",
      "6  safety services program                35442\n",
      "7           administrative                 2742\n"
     ]
    },
    {
     "data": {
      "text/plain": [
       "<AxesSubplot:>"
      ]
     },
     "execution_count": 117,
     "metadata": {},
     "output_type": "execute_result"
    },
    {
     "data": {
      "image/png": "[encoded data removed]",
      "text/plain": [
       "<Figure size 432x288 with 1 Axes>"
      ]
     },
     "metadata": {
      "needs_background": "light"
     },
     "output_type": "display_data"
    }
   ],
   "source": [
    "print(df_chp_beat_type) \n",
    "df_chp_beat_type.boxplot(column=['chp_beat_type_count'])\n"
   ]
  },
  {
   "cell_type": "code",
   "execution_count": 118,
   "id": "fourth-protection",
   "metadata": {},
   "outputs": [
    {
     "name": "stdout",
     "output_type": "stream",
     "text": [
      "   city_division_lapd_vals  city_division_lapd_count\n",
      "0                     None                   8821318\n",
      "1                        L                     48336\n",
      "2                        J                     44281\n",
      "3                        O                     39610\n",
      "4                        Q                     39153\n",
      "5                        G                     38278\n",
      "6                        M                     37491\n",
      "7                        K                     34172\n",
      "8                        I                     34160\n",
      "9                        C                     34118\n",
      "10                       N                     33472\n",
      "11                       H                     30944\n",
      "12                       R                     30698\n",
      "13                       F                     29376\n",
      "14                       P                     28313\n",
      "15                       B                     28249\n",
      "16                       A                     26813\n",
      "17                       D                     23442\n",
      "18                       E                     22110\n"
     ]
    },
    {
     "data": {
      "text/plain": [
       "<AxesSubplot:>"
      ]
     },
     "execution_count": 118,
     "metadata": {},
     "output_type": "execute_result"
    },
    {
     "data": {
      "image/png": "[encoded data removed]",
      "text/plain": [
       "<Figure size 432x288 with 1 Axes>"
      ]
     },
     "metadata": {
      "needs_background": "light"
     },
     "output_type": "display_data"
    }
   ],
   "source": [
    "print(df_city_division_lapd) \n",
    "df_city_division_lapd.boxplot(column=['city_division_lapd_count'])\n",
    "\n"
   ]
  },
  {
   "cell_type": "code",
   "execution_count": 119,
   "id": "forty-router",
   "metadata": {},
   "outputs": [
    {
     "name": "stdout",
     "output_type": "stream",
     "text": [
      "  chp_beat_class_vals  chp_beat_class_count\n",
      "0             not chp               5080518\n",
      "1           chp other               3656417\n",
      "2         chp primary                684905\n",
      "3                None                  2494\n"
     ]
    },
    {
     "data": {
      "text/plain": [
       "<AxesSubplot:>"
      ]
     },
     "execution_count": 119,
     "metadata": {},
     "output_type": "execute_result"
    },
    {
     "data": {
      "image/png": "[encoded data removed]",
      "text/plain": [
       "<Figure size 432x288 with 1 Axes>"
      ]
     },
     "metadata": {
      "needs_background": "light"
     },
     "output_type": "display_data"
    }
   ],
   "source": [
    "print(df_chp_beat_class) \n",
    "df_chp_beat_class.boxplot(column=['chp_beat_class_count'])\n"
   ]
  },
  {
   "cell_type": "code",
   "execution_count": 120,
   "id": "ranging-catalog",
   "metadata": {},
   "outputs": [
    {
     "name": "stdout",
     "output_type": "stream",
     "text": [
      "      beat_number_vals  beat_number_count\n",
      "0                 None             812288\n",
      "1                  002             474768\n",
      "2                  001             474161\n",
      "3                  003             399953\n",
      "4                  004             293657\n",
      "...                ...                ...\n",
      "51707           '134T4                  1\n",
      "51708              '02                  1\n",
      "51709            $TL43                  1\n",
      "51710             #T70                  1\n",
      "51711              # 1                  1\n",
      "\n",
      "[51712 rows x 2 columns]\n"
     ]
    },
    {
     "data": {
      "text/plain": [
       "<AxesSubplot:>"
      ]
     },
     "execution_count": 120,
     "metadata": {},
     "output_type": "execute_result"
    },
    {
     "data": {
      "image/png": "[encoded data removed]",
      "text/plain": [
       "<Figure size 432x288 with 1 Axes>"
      ]
     },
     "metadata": {
      "needs_background": "light"
     },
     "output_type": "display_data"
    }
   ],
   "source": [
    "print(df_beat_number) \n",
    "df_beat_number.boxplot(column=['beat_number_count'])\n",
    "\n"
   ]
  },
  {
   "cell_type": "code",
   "execution_count": 121,
   "id": "modular-vegetation",
   "metadata": {},
   "outputs": [
    {
     "name": "stdout",
     "output_type": "stream",
     "text": [
      "                   primary_road_vals  primary_road_count\n",
      "0                             RT 101              221154\n",
      "1                               RT 5              220957\n",
      "2                              RT 10              136936\n",
      "3                             RT 405              106191\n",
      "4                              RT 99               95003\n",
      "...                              ...                 ...\n",
      "333860   !-5 S/B TRANSITION TO US-50                   1\n",
      "333861                       !-5 N/B                   1\n",
      "333862                      !-15 S/B                   1\n",
      "333863               !-105 EASTBOUND                   1\n",
      "333864  !-10 W/B(SAN BERNARDINO FWY)                   1\n",
      "\n",
      "[333865 rows x 2 columns]\n"
     ]
    },
    {
     "data": {
      "text/plain": [
       "<AxesSubplot:>"
      ]
     },
     "execution_count": 121,
     "metadata": {},
     "output_type": "execute_result"
    },
    {
     "data": {
      "image/png": "[encoded data removed]",
      "text/plain": [
       "<Figure size 432x288 with 1 Axes>"
      ]
     },
     "metadata": {
      "needs_background": "light"
     },
     "output_type": "display_data"
    }
   ],
   "source": [
    "print(df_primary_road) \n",
    "df_primary_road.boxplot(column=['primary_road_count'])\n",
    "\n"
   ]
  },
  {
   "cell_type": "code",
   "execution_count": 122,
   "id": "apart-binding",
   "metadata": {},
   "outputs": [
    {
     "name": "stdout",
     "output_type": "stream",
     "text": [
      "         secondary_road_vals  secondary_road_count\n",
      "0                    MAIN ST                 36654\n",
      "1                 CENTRAL AV                 27258\n",
      "2                     4TH ST                 25112\n",
      "3                   BROADWAY                 23774\n",
      "4                     RT 101                 23562\n",
      "...                      ...                   ...\n",
      "504775  #129627 UTILITY POLE                     1\n",
      "504776            #1220 B ST                     1\n",
      "504777          #1 TURN-THRU                     1\n",
      "504778        #1 MORNINGWOOD                     1\n",
      "504779     # 3  TURN THROUGH                     1\n",
      "\n",
      "[504780 rows x 2 columns]\n"
     ]
    },
    {
     "data": {
      "text/plain": [
       "<AxesSubplot:>"
      ]
     },
     "execution_count": 122,
     "metadata": {},
     "output_type": "execute_result"
    },
    {
     "data": {
      "image/png": "[encoded data removed]",
      "text/plain": [
       "<Figure size 432x288 with 1 Axes>"
      ]
     },
     "metadata": {
      "needs_background": "light"
     },
     "output_type": "display_data"
    }
   ],
   "source": [
    "print(df_secondary_road) \n",
    "df_secondary_road.boxplot(column=['secondary_road_count'])\n"
   ]
  },
  {
   "cell_type": "code",
   "execution_count": 123,
   "id": "combined-slope",
   "metadata": {},
   "outputs": [
    {
     "name": "stdout",
     "output_type": "stream",
     "text": [
      "      distance_vals  distance_count\n",
      "0               0.0         2378264\n",
      "1             100.0          313732\n",
      "2             200.0          256402\n",
      "3             528.0          235859\n",
      "4            1056.0          224855\n",
      "...             ...             ...\n",
      "9910       -15840.0               1\n",
      "9911       -26400.0               1\n",
      "9912       -42240.0               1\n",
      "9913      -132000.0               1\n",
      "9914      -396000.0               1\n",
      "\n",
      "[9915 rows x 2 columns]\n"
     ]
    },
    {
     "data": {
      "text/plain": [
       "<AxesSubplot:>"
      ]
     },
     "execution_count": 123,
     "metadata": {},
     "output_type": "execute_result"
    },
    {
     "data": {
      "image/png": "[encoded data removed]",
      "text/plain": [
       "<Figure size 432x288 with 1 Axes>"
      ]
     },
     "metadata": {
      "needs_background": "light"
     },
     "output_type": "display_data"
    }
   ],
   "source": [
    "print(df_distance) \n",
    "df_distance.boxplot(column=['distance_count'])\n"
   ]
  },
  {
   "cell_type": "code",
   "execution_count": 124,
   "id": "enhanced-integral",
   "metadata": {},
   "outputs": [
    {
     "name": "stdout",
     "output_type": "stream",
     "text": [
      "  direction_vals  direction_count\n",
      "0           None          2344528\n",
      "1          south          1938958\n",
      "2          north          1916404\n",
      "3           east          1617831\n",
      "4           west          1606611\n",
      "5              Y                1\n",
      "6         155.00                1\n"
     ]
    },
    {
     "data": {
      "text/plain": [
       "<AxesSubplot:>"
      ]
     },
     "execution_count": 124,
     "metadata": {},
     "output_type": "execute_result"
    },
    {
     "data": {
      "image/png": "[encoded data removed]",
      "text/plain": [
       "<Figure size 432x288 with 1 Axes>"
      ]
     },
     "metadata": {
      "needs_background": "light"
     },
     "output_type": "display_data"
    }
   ],
   "source": [
    "print(df_direction) \n",
    "df_direction.boxplot(column=['direction_count'])\n"
   ]
  },
  {
   "cell_type": "code",
   "execution_count": 125,
   "id": "heavy-money",
   "metadata": {},
   "outputs": [
    {
     "name": "stdout",
     "output_type": "stream",
     "text": [
      "   intersection_vals  intersection_count\n",
      "0                0.0             7154576\n",
      "1                1.0             2175258\n",
      "2                NaN               94500\n"
     ]
    },
    {
     "data": {
      "text/plain": [
       "<AxesSubplot:>"
      ]
     },
     "execution_count": 125,
     "metadata": {},
     "output_type": "execute_result"
    },
    {
     "data": {
      "image/png": "[encoded data removed]",
      "text/plain": [
       "<Figure size 432x288 with 1 Axes>"
      ]
     },
     "metadata": {
      "needs_background": "light"
     },
     "output_type": "display_data"
    }
   ],
   "source": [
    "print(df_intersection) \n",
    "df_intersection.boxplot(column=['intersection_count'])\n"
   ]
  },
  {
   "cell_type": "code",
   "execution_count": 126,
   "id": "exposed-trigger",
   "metadata": {},
   "outputs": [
    {
     "name": "stdout",
     "output_type": "stream",
     "text": [
      "  weather_1_vals  weather_1_count\n",
      "0          clear          7754370\n",
      "1         cloudy          1228913\n",
      "2        raining           328694\n",
      "3           None            45221\n",
      "4            fog            39094\n",
      "5        snowing            13254\n",
      "6          other            10970\n",
      "7           wind             3818\n"
     ]
    },
    {
     "data": {
      "text/plain": [
       "<AxesSubplot:>"
      ]
     },
     "execution_count": 126,
     "metadata": {},
     "output_type": "execute_result"
    },
    {
     "data": {
      "image/png": "[encoded data removed]",
      "text/plain": [
       "<Figure size 432x288 with 1 Axes>"
      ]
     },
     "metadata": {
      "needs_background": "light"
     },
     "output_type": "display_data"
    }
   ],
   "source": [
    "print(df_weather_1) \n",
    "df_weather_1.boxplot(column=['weather_1_count'])\n"
   ]
  },
  {
   "cell_type": "code",
   "execution_count": 127,
   "id": "miniature-windows",
   "metadata": {},
   "outputs": [
    {
     "name": "stdout",
     "output_type": "stream",
     "text": [
      "  weather_2_vals  weather_2_count\n",
      "0           None          9161454\n",
      "1        raining           199228\n",
      "2           wind            24958\n",
      "3         cloudy            18983\n",
      "4          other             6705\n",
      "5            fog             6514\n",
      "6        snowing             6491\n",
      "7          clear                1\n"
     ]
    },
    {
     "data": {
      "text/plain": [
       "<AxesSubplot:>"
      ]
     },
     "execution_count": 127,
     "metadata": {},
     "output_type": "execute_result"
    },
    {
     "data": {
      "image/png": "[encoded data removed]",
      "text/plain": [
       "<Figure size 432x288 with 1 Axes>"
      ]
     },
     "metadata": {
      "needs_background": "light"
     },
     "output_type": "display_data"
    }
   ],
   "source": [
    "print(df_weather_2) \n",
    "df_weather_2.boxplot(column=['weather_2_count'])\n"
   ]
  },
  {
   "cell_type": "code",
   "execution_count": 128,
   "id": "outstanding-positive",
   "metadata": {},
   "outputs": [
    {
     "name": "stdout",
     "output_type": "stream",
     "text": [
      "   state_highway_indicator_vals  state_highway_indicator_count\n",
      "0                           0.0                        5870709\n",
      "1                           1.0                        3550301\n",
      "2                           NaN                           3324\n"
     ]
    },
    {
     "data": {
      "text/plain": [
       "<AxesSubplot:>"
      ]
     },
     "execution_count": 128,
     "metadata": {},
     "output_type": "execute_result"
    },
    {
     "data": {
      "image/png": "[encoded data removed]",
      "text/plain": [
       "<Figure size 432x288 with 1 Axes>"
      ]
     },
     "metadata": {
      "needs_background": "light"
     },
     "output_type": "display_data"
    }
   ],
   "source": [
    "print(df_state_highway_indicator) \n",
    "df_state_highway_indicator.boxplot(column=['state_highway_indicator_count'])\n"
   ]
  },
  {
   "cell_type": "code",
   "execution_count": 129,
   "id": "intense-script",
   "metadata": {},
   "outputs": [
    {
     "name": "stdout",
     "output_type": "stream",
     "text": [
      "   caltrans_county_vals  caltrans_county_count\n",
      "0                  None                6867299\n",
      "1           los angeles                 654572\n",
      "2                orange                 236512\n",
      "3        san bernardino                 166223\n",
      "4             san diego                 165852\n",
      "..                  ...                    ...\n",
      "57               alpine                    981\n",
      "58               sierra                    857\n",
      "59                  ora                      1\n",
      "60                    N                      1\n",
      "61                   10                      1\n",
      "\n",
      "[62 rows x 2 columns]\n"
     ]
    },
    {
     "data": {
      "text/plain": [
       "<AxesSubplot:>"
      ]
     },
     "execution_count": 129,
     "metadata": {},
     "output_type": "execute_result"
    },
    {
     "data": {
      "image/png": "[encoded data removed]",
      "text/plain": [
       "<Figure size 432x288 with 1 Axes>"
      ]
     },
     "metadata": {
      "needs_background": "light"
     },
     "output_type": "display_data"
    }
   ],
   "source": [
    "print(df_caltrans_county) \n",
    "df_caltrans_county.boxplot(column=['caltrans_county_count'])\n",
    "\n"
   ]
  },
  {
   "cell_type": "code",
   "execution_count": 130,
   "id": "announced-atlantic",
   "metadata": {},
   "outputs": [
    {
     "name": "stdout",
     "output_type": "stream",
     "text": [
      "    caltrans_district_vals  caltrans_district_count\n",
      "0                      NaN                  6533325\n",
      "1                      7.0                   712628\n",
      "2                      4.0                   512221\n",
      "3                      0.0                   333975\n",
      "4                      8.0                   304856\n",
      "5                     12.0                   236904\n",
      "6                     11.0                   176189\n",
      "7                      3.0                   165678\n",
      "8                      6.0                   139512\n",
      "9                     10.0                   117168\n",
      "10                     5.0                   115552\n",
      "11                     2.0                    36979\n",
      "12                     1.0                    32852\n",
      "13                     9.0                     6494\n",
      "14                    49.0                        1\n"
     ]
    },
    {
     "data": {
      "text/plain": [
       "<AxesSubplot:>"
      ]
     },
     "execution_count": 130,
     "metadata": {},
     "output_type": "execute_result"
    },
    {
     "data": {
      "image/png": "[encoded data removed]",
      "text/plain": [
       "<Figure size 432x288 with 1 Axes>"
      ]
     },
     "metadata": {
      "needs_background": "light"
     },
     "output_type": "display_data"
    }
   ],
   "source": [
    "print(df_caltrans_district) \n",
    "df_caltrans_district.boxplot(column=['caltrans_district_count'])\n"
   ]
  },
  {
   "cell_type": "code",
   "execution_count": 131,
   "id": "australian-frost",
   "metadata": {},
   "outputs": [
    {
     "name": "stdout",
     "output_type": "stream",
     "text": [
      "     state_route_vals  state_route_count\n",
      "0                 NaN            6533326\n",
      "1                 0.0             333975\n",
      "2               101.0             244248\n",
      "3                 5.0             232156\n",
      "4                10.0             144462\n",
      "..                ...                ...\n",
      "246             172.0                  5\n",
      "247             283.0                  3\n",
      "248             252.0                  3\n",
      "249             239.0                  1\n",
      "250             153.0                  1\n",
      "\n",
      "[251 rows x 2 columns]\n"
     ]
    },
    {
     "data": {
      "text/plain": [
       "<AxesSubplot:>"
      ]
     },
     "execution_count": 131,
     "metadata": {},
     "output_type": "execute_result"
    },
    {
     "data": {
      "image/png": "[encoded data removed]",
      "text/plain": [
       "<Figure size 432x288 with 1 Axes>"
      ]
     },
     "metadata": {
      "needs_background": "light"
     },
     "output_type": "display_data"
    }
   ],
   "source": [
    "print(df_state_route) \n",
    "df_state_route.boxplot(column=['state_route_count'])\n"
   ]
  },
  {
   "cell_type": "code",
   "execution_count": 132,
   "id": "closed-pakistan",
   "metadata": {},
   "outputs": [
    {
     "name": "stdout",
     "output_type": "stream",
     "text": [
      "  route_suffix_vals  route_suffix_count\n",
      "0              None             9228103\n",
      "1                 B              188090\n",
      "2                 S                6069\n",
      "3                 U                2072\n"
     ]
    },
    {
     "data": {
      "text/plain": [
       "<AxesSubplot:>"
      ]
     },
     "execution_count": 132,
     "metadata": {},
     "output_type": "execute_result"
    },
    {
     "data": {
      "image/png": "[encoded data removed]",
      "text/plain": [
       "<Figure size 432x288 with 1 Axes>"
      ]
     },
     "metadata": {
      "needs_background": "light"
     },
     "output_type": "display_data"
    }
   ],
   "source": [
    "print(df_route_suffix) \n",
    "df_route_suffix.boxplot(column=['route_suffix_count'])\n"
   ]
  },
  {
   "cell_type": "code",
   "execution_count": 133,
   "id": "handled-intelligence",
   "metadata": {},
   "outputs": [
    {
     "name": "stdout",
     "output_type": "stream",
     "text": [
      "   postmile_prefix_vals  postmile_prefix_count\n",
      "0                  None                8508289\n",
      "1                     R                 715861\n",
      "2                     B                 133761\n",
      "3                     M                  34326\n",
      "4                     L                  15004\n",
      "5                     T                  14061\n",
      "6                     S                   2041\n",
      "7                     C                    550\n",
      "8                     N                    203\n",
      "9                     H                    119\n",
      "10                    D                    118\n",
      "11                 9.12                      1\n"
     ]
    },
    {
     "data": {
      "text/plain": [
       "<AxesSubplot:>"
      ]
     },
     "execution_count": 133,
     "metadata": {},
     "output_type": "execute_result"
    },
    {
     "data": {
      "image/png": "[encoded data removed]",
      "text/plain": [
       "<Figure size 432x288 with 1 Axes>"
      ]
     },
     "metadata": {
      "needs_background": "light"
     },
     "output_type": "display_data"
    }
   ],
   "source": [
    "print(df_postmile_prefix) \n",
    "df_postmile_prefix.boxplot(column=['postmile_prefix_count'])\n"
   ]
  },
  {
   "cell_type": "code",
   "execution_count": 134,
   "id": "parental-organic",
   "metadata": {},
   "outputs": [
    {
     "name": "stdout",
     "output_type": "stream",
     "text": [
      "       postmile_vals  postmile_count\n",
      "0                NaN         6533326\n",
      "1               0.00          334990\n",
      "2               0.01            1547\n",
      "3               0.10            1399\n",
      "4               1.00            1315\n",
      "...              ...             ...\n",
      "34285         -41.44               1\n",
      "34286         -47.80               1\n",
      "34287         -51.29               1\n",
      "34288         -64.49               1\n",
      "34289         -76.07               1\n",
      "\n",
      "[34290 rows x 2 columns]\n"
     ]
    },
    {
     "data": {
      "text/plain": [
       "<AxesSubplot:>"
      ]
     },
     "execution_count": 134,
     "metadata": {},
     "output_type": "execute_result"
    },
    {
     "data": {
      "image/png": "[encoded data removed]",
      "text/plain": [
       "<Figure size 432x288 with 1 Axes>"
      ]
     },
     "metadata": {
      "needs_background": "light"
     },
     "output_type": "display_data"
    }
   ],
   "source": [
    "print(df_postmile) \n",
    "df_postmile.boxplot(column=['postmile_count'])\n"
   ]
  },
  {
   "cell_type": "code",
   "execution_count": 135,
   "id": "literary-royal",
   "metadata": {},
   "outputs": [
    {
     "name": "stdout",
     "output_type": "stream",
     "text": [
      "  location_type_vals  location_type_count\n",
      "0               None              6867301\n",
      "1            highway              2019081\n",
      "2               ramp               370725\n",
      "3       intersection               167227\n"
     ]
    },
    {
     "data": {
      "text/plain": [
       "<AxesSubplot:>"
      ]
     },
     "execution_count": 135,
     "metadata": {},
     "output_type": "execute_result"
    },
    {
     "data": {
      "image/png": "[encoded data removed]",
      "text/plain": [
       "<Figure size 432x288 with 1 Axes>"
      ]
     },
     "metadata": {
      "needs_background": "light"
     },
     "output_type": "display_data"
    }
   ],
   "source": [
    "print(df_location_type) \n",
    "df_location_type.boxplot(column=['location_type_count'])\n"
   ]
  },
  {
   "cell_type": "code",
   "execution_count": 136,
   "id": "reasonable-experiment",
   "metadata": {},
   "outputs": [
    {
     "name": "stdout",
     "output_type": "stream",
     "text": [
      "                              ramp_intersection_vals  ramp_intersection_count\n",
      "0                                               None                  8404347\n",
      "1                                  not state highway                   333975\n",
      "2                                            highway                   148031\n",
      "3   not state highway, ramp-related, within 100 feet                   130652\n",
      "4                                       intersection                   125380\n",
      "5                                           mid-ramp                   113777\n",
      "6                            ramp exit, last 50 feet                   106120\n",
      "7  not state highway, intersection-related, withi...                    41827\n",
      "8                          ramp entry, first 50 feet                    20224\n",
      "9                                                  N                        1\n"
     ]
    },
    {
     "data": {
      "text/plain": [
       "<AxesSubplot:>"
      ]
     },
     "execution_count": 136,
     "metadata": {},
     "output_type": "execute_result"
    },
    {
     "data": {
      "image/png": "[encoded data removed]",
      "text/plain": [
       "<Figure size 432x288 with 1 Axes>"
      ]
     },
     "metadata": {
      "needs_background": "light"
     },
     "output_type": "display_data"
    }
   ],
   "source": [
    "print(df_ramp_intersection) \n",
    "df_ramp_intersection.boxplot(column=['ramp_intersection_count'])\n"
   ]
  },
  {
   "cell_type": "code",
   "execution_count": 137,
   "id": "broadband-dairy",
   "metadata": {},
   "outputs": [
    {
     "name": "stdout",
     "output_type": "stream",
     "text": [
      "  side_of_highway_vals  side_of_highway_count\n",
      "0                 None                6867317\n",
      "1           northbound                 793048\n",
      "2           southbound                 789409\n",
      "3            westbound                 494613\n",
      "4            eastbound                 479946\n",
      "5                    Y                      1\n"
     ]
    },
    {
     "data": {
      "text/plain": [
       "<AxesSubplot:>"
      ]
     },
     "execution_count": 137,
     "metadata": {},
     "output_type": "execute_result"
    },
    {
     "data": {
      "image/png": "[encoded data removed]",
      "text/plain": [
       "<Figure size 432x288 with 1 Axes>"
      ]
     },
     "metadata": {
      "needs_background": "light"
     },
     "output_type": "display_data"
    }
   ],
   "source": [
    "print(df_side_of_highway) \n",
    "df_side_of_highway.boxplot(column=['side_of_highway_count'])\n"
   ]
  },
  {
   "cell_type": "code",
   "execution_count": 138,
   "id": "external-drive",
   "metadata": {},
   "outputs": [
    {
     "name": "stdout",
     "output_type": "stream",
     "text": [
      "   tow_away_vals  tow_away_count\n",
      "0            1.0         4751790\n",
      "1            0.0         4609816\n",
      "2            NaN           62728\n"
     ]
    },
    {
     "data": {
      "text/plain": [
       "<AxesSubplot:>"
      ]
     },
     "execution_count": 138,
     "metadata": {},
     "output_type": "execute_result"
    },
    {
     "data": {
      "image/png": "[encoded data removed]",
      "text/plain": [
       "<Figure size 432x288 with 1 Axes>"
      ]
     },
     "metadata": {
      "needs_background": "light"
     },
     "output_type": "display_data"
    }
   ],
   "source": [
    "print(df_tow_away) \n",
    "df_tow_away.boxplot(column=['tow_away_count'])\n"
   ]
  },
  {
   "cell_type": "code",
   "execution_count": 139,
   "id": "designed-sample",
   "metadata": {},
   "outputs": [
    {
     "name": "stdout",
     "output_type": "stream",
     "text": [
      "  collision_severity_vals  collision_severity_count\n",
      "0    property damage only                   5704634\n",
      "1                    pain                   2268304\n",
      "2            other injury                   1163199\n",
      "3           severe injury                    221775\n",
      "4                   fatal                     66421\n",
      "5                       N                         1\n"
     ]
    },
    {
     "data": {
      "text/plain": [
       "<AxesSubplot:>"
      ]
     },
     "execution_count": 139,
     "metadata": {},
     "output_type": "execute_result"
    },
    {
     "data": {
      "image/png": "[encoded data removed]",
      "text/plain": [
       "<Figure size 432x288 with 1 Axes>"
      ]
     },
     "metadata": {
      "needs_background": "light"
     },
     "output_type": "display_data"
    }
   ],
   "source": [
    "print(df_collision_severity) \n",
    "df_collision_severity.boxplot(column=['collision_severity_count'])\n"
   ]
  },
  {
   "cell_type": "code",
   "execution_count": 140,
   "id": "copyrighted-wallpaper",
   "metadata": {},
   "outputs": [
    {
     "name": "stdout",
     "output_type": "stream",
     "text": [
      "    killed_victims_vals  killed_victims_count\n",
      "0                   0.0               9355860\n",
      "1                   1.0                 61304\n",
      "2                   2.0                  4115\n",
      "3                   NaN                  2052\n",
      "4                   3.0                   686\n",
      "5                   4.0                   225\n",
      "6                   5.0                    64\n",
      "7                   6.0                    17\n",
      "8                   7.0                     5\n",
      "9                  10.0                     2\n",
      "10                  8.0                     2\n",
      "11                 13.0                     1\n",
      "12                  9.0                     1\n"
     ]
    },
    {
     "data": {
      "text/plain": [
       "<AxesSubplot:>"
      ]
     },
     "execution_count": 140,
     "metadata": {},
     "output_type": "execute_result"
    },
    {
     "data": {
      "image/png": "[encoded data removed]",
      "text/plain": [
       "<Figure size 432x288 with 1 Axes>"
      ]
     },
     "metadata": {
      "needs_background": "light"
     },
     "output_type": "display_data"
    }
   ],
   "source": [
    "print(df_killed_victims) \n",
    "df_killed_victims.boxplot(column=['killed_victims_count'])\n"
   ]
  },
  {
   "cell_type": "code",
   "execution_count": 141,
   "id": "patient-detector",
   "metadata": {
    "scrolled": false
   },
   "outputs": [
    {
     "name": "stdout",
     "output_type": "stream",
     "text": [
      "    injured_victims_vals  injured_victims_count\n",
      "0                    0.0                5741042\n",
      "1                    1.0                2608452\n",
      "2                    2.0                 730070\n",
      "3                    3.0                 223548\n",
      "4                    4.0                  75223\n",
      "5                    5.0                  26918\n",
      "6                    6.0                   9749\n",
      "7                    7.0                   3625\n",
      "8                    NaN                   2486\n",
      "9                    8.0                   1546\n",
      "10                   9.0                    705\n",
      "11                  10.0                    337\n",
      "12                  11.0                    179\n",
      "13                  12.0                     98\n",
      "14                  13.0                     67\n",
      "15                  14.0                     47\n",
      "16                  15.0                     43\n",
      "17                  16.0                     34\n",
      "18                  17.0                     27\n",
      "19                  18.0                     19\n",
      "20                  20.0                     17\n",
      "21                  22.0                     12\n",
      "22                  21.0                     10\n",
      "23                  19.0                     10\n",
      "24                  23.0                      8\n",
      "25                  31.0                      6\n",
      "26                  25.0                      6\n",
      "27                  34.0                      5\n",
      "28                  28.0                      5\n",
      "29                  33.0                      4\n",
      "30                  29.0                      4\n",
      "31                  27.0                      4\n",
      "32                  35.0                      3\n",
      "33                  26.0                      3\n",
      "34                  24.0                      3\n",
      "35                  49.0                      2\n",
      "36                  43.0                      2\n",
      "37                  39.0                      2\n",
      "38                  36.0                      2\n",
      "39                  32.0                      2\n",
      "40                  30.0                      2\n",
      "41                 105.0                      1\n",
      "42                  73.0                      1\n",
      "43                  64.0                      1\n",
      "44                  63.0                      1\n",
      "45                  50.0                      1\n",
      "46                  40.0                      1\n",
      "47                  38.0                      1\n"
     ]
    },
    {
     "data": {
      "text/plain": [
       "<AxesSubplot:>"
      ]
     },
     "execution_count": 141,
     "metadata": {},
     "output_type": "execute_result"
    },
    {
     "data": {
      "image/png": "[encoded data removed]",
      "text/plain": [
       "<Figure size 432x288 with 1 Axes>"
      ]
     },
     "metadata": {
      "needs_background": "light"
     },
     "output_type": "display_data"
    }
   ],
   "source": [
    "print(df_injured_victims) \n",
    "df_injured_victims.boxplot(column=['injured_victims_count'])\n"
   ]
  },
  {
   "cell_type": "code",
   "execution_count": 143,
   "id": "alien-municipality",
   "metadata": {},
   "outputs": [
    {
     "name": "stdout",
     "output_type": "stream",
     "text": [
      "  primary_collision_factor_vals  primary_collision_factor_count\n",
      "0        vehicle code violation                         8840231\n",
      "1                       unknown                          253587\n",
      "2             other than driver                          203446\n",
      "3        other improper driving                           61836\n",
      "4                          None                           56115\n",
      "5                   fell asleep                            9118\n",
      "6                             2                               1\n"
     ]
    },
    {
     "data": {
      "text/plain": [
       "<AxesSubplot:>"
      ]
     },
     "execution_count": 143,
     "metadata": {},
     "output_type": "execute_result"
    },
    {
     "data": {
      "image/png": "[encoded data removed]",
      "text/plain": [
       "<Figure size 432x288 with 1 Axes>"
      ]
     },
     "metadata": {
      "needs_background": "light"
     },
     "output_type": "display_data"
    }
   ],
   "source": [
    "print(df_primary_collision_factor) \n",
    "df_primary_collision_factor.boxplot(column=['primary_collision_factor_count'])\n"
   ]
  },
  {
   "cell_type": "code",
   "execution_count": 144,
   "id": "classified-tournament",
   "metadata": {},
   "outputs": [
    {
     "name": "stdout",
     "output_type": "stream",
     "text": [
      "   pcf_violation_code_vals  pcf_violation_code_count\n",
      "0                     None                   8942638\n",
      "1                  vehicle                    480630\n",
      "2           city ordinance                       548\n",
      "3                        A                       257\n",
      "4                        2                       109\n",
      "5                 business                        40\n",
      "6                        D                        35\n",
      "7         county ordinance                        16\n",
      "8                    penal                        11\n",
      "9                        `                         8\n",
      "10                       E                         7\n",
      "11                       1                         7\n",
      "12                       .                         6\n",
      "13                 streets                         5\n",
      "14                       '                         4\n",
      "15             city health                         2\n",
      "16                       M                         2\n",
      "17                       ~                         1\n",
      "18                 welfare                         1\n",
      "19                       ]                         1\n",
      "20                       \\                         1\n",
      "21                       U                         1\n",
      "22                       R                         1\n",
      "23                       3                         1\n",
      "24                      09                         1\n",
      "25                      03                         1\n"
     ]
    },
    {
     "data": {
      "text/plain": [
       "<AxesSubplot:>"
      ]
     },
     "execution_count": 144,
     "metadata": {},
     "output_type": "execute_result"
    },
    {
     "data": {
      "image/png": "[encoded data removed]",
      "text/plain": [
       "<Figure size 432x288 with 1 Axes>"
      ]
     },
     "metadata": {
      "needs_background": "light"
     },
     "output_type": "display_data"
    }
   ],
   "source": [
    "print(df_pcf_violation_code) \n",
    "df_pcf_violation_code.boxplot(column=['pcf_violation_code_count'])\n"
   ]
  },
  {
   "cell_type": "code",
   "execution_count": 145,
   "id": "extraordinary-recruitment",
   "metadata": {},
   "outputs": [
    {
     "name": "stdout",
     "output_type": "stream",
     "text": [
      "          pcf_violation_category_vals  pcf_violation_category_count\n",
      "0                            speeding                       2911725\n",
      "1                    improper turning                       1627618\n",
      "2             automobile right of way                       1111967\n",
      "3                                 dui                        695636\n",
      "4                  unsafe lane change                        653108\n",
      "5           traffic signals and signs                        514782\n",
      "6          unsafe starting or backing                        352417\n",
      "7                             unknown                        293802\n",
      "8                  wrong side of road                        219298\n",
      "9   other than driver (or pedestrian)                        203446\n",
      "10              following too closely                        201100\n",
      "11                               None                        156803\n",
      "12               pedestrian violation                         99591\n",
      "13          other hazardous violation                         95434\n",
      "14            pedestrian right of way                         95130\n",
      "15                   improper passing                         87463\n",
      "16             other improper driving                         62006\n",
      "17                    other equipment                         12085\n",
      "18                  hazardous parking                         11948\n",
      "19                        fell asleep                          9118\n",
      "20                   impeding traffic                          5435\n",
      "21                             brakes                          2585\n",
      "22                             lights                          1370\n",
      "23                     pedestrian dui                           465\n",
      "24                              22350                             1\n",
      "25                              21804                             1\n"
     ]
    },
    {
     "data": {
      "text/plain": [
       "<AxesSubplot:>"
      ]
     },
     "execution_count": 145,
     "metadata": {},
     "output_type": "execute_result"
    },
    {
     "data": {
      "image/png": "[encoded data removed]",
      "text/plain": [
       "<Figure size 432x288 with 1 Axes>"
      ]
     },
     "metadata": {
      "needs_background": "light"
     },
     "output_type": "display_data"
    }
   ],
   "source": [
    "print(df_pcf_violation_category) \n",
    "df_pcf_violation_category.boxplot(column=['pcf_violation_category_count'])\n"
   ]
  },
  {
   "cell_type": "code",
   "execution_count": 146,
   "id": "monthly-canada",
   "metadata": {},
   "outputs": [
    {
     "name": "stdout",
     "output_type": "stream",
     "text": [
      "      pcf_violation_vals  pcf_violation_count\n",
      "0                22350.0              2910032\n",
      "1                22107.0              1520219\n",
      "2                23152.0               674280\n",
      "3                21658.0               655572\n",
      "4                    NaN               648994\n",
      "...                  ...                  ...\n",
      "1091                56.0                    1\n",
      "1092                21.0                    1\n",
      "1093                15.0                    1\n",
      "1094                 3.0                    1\n",
      "1095                 1.0                    1\n",
      "\n",
      "[1096 rows x 2 columns]\n"
     ]
    },
    {
     "data": {
      "text/plain": [
       "<AxesSubplot:>"
      ]
     },
     "execution_count": 146,
     "metadata": {},
     "output_type": "execute_result"
    },
    {
     "data": {
      "image/png": "[encoded data removed]",
      "text/plain": [
       "<Figure size 432x288 with 1 Axes>"
      ]
     },
     "metadata": {
      "needs_background": "light"
     },
     "output_type": "display_data"
    }
   ],
   "source": [
    "print(df_pcf_violation) \n",
    "df_pcf_violation.boxplot(column=['pcf_violation_count'])\n"
   ]
  },
  {
   "cell_type": "code",
   "execution_count": 147,
   "id": "criminal-atmosphere",
   "metadata": {},
   "outputs": [
    {
     "name": "stdout",
     "output_type": "stream",
     "text": [
      "   pcf_violation_subsection_vals  pcf_violation_subsection_count\n",
      "0                           None                         6046560\n",
      "1                              A                         3130348\n",
      "2                              B                          117833\n",
      "3                              1                           38161\n",
      "4                              C                           32998\n",
      "5                              D                           22522\n",
      "6                              F                           13537\n",
      "7                              5                            8428\n",
      "8                              E                            7899\n",
      "9                              G                            3492\n",
      "10                             I                            1563\n",
      "11                             2                             413\n",
      "12                             3                             241\n",
      "13                             8                             129\n",
      "14                             H                             116\n",
      "15                             S                              13\n",
      "16                             0                              13\n",
      "17                             V                               9\n",
      "18                             M                               8\n",
      "19                             P                               7\n",
      "20                             6                               7\n",
      "21                             4                               7\n",
      "22                             O                               5\n",
      "23                             K                               5\n",
      "24                             R                               3\n",
      "25                             N                               3\n",
      "26                             X                               2\n",
      "27                             W                               2\n",
      "28                             Q                               2\n",
      "29                             L                               2\n",
      "30                             Z                               1\n",
      "31                             U                               1\n",
      "32                             T                               1\n",
      "33                             J                               1\n",
      "34                             9                               1\n",
      "35                         22106                               1\n"
     ]
    },
    {
     "data": {
      "text/plain": [
       "<AxesSubplot:>"
      ]
     },
     "execution_count": 147,
     "metadata": {},
     "output_type": "execute_result"
    },
    {
     "data": {
      "image/png": "[encoded data removed]",
      "text/plain": [
       "<Figure size 432x288 with 1 Axes>"
      ]
     },
     "metadata": {
      "needs_background": "light"
     },
     "output_type": "display_data"
    }
   ],
   "source": [
    "print(df_pcf_violation_subsection) \n",
    "df_pcf_violation_subsection.boxplot(column=['pcf_violation_subsection_count'])\n"
   ]
  },
  {
   "cell_type": "code",
   "execution_count": 148,
   "id": "metallic-compiler",
   "metadata": {},
   "outputs": [
    {
     "name": "stdout",
     "output_type": "stream",
     "text": [
      "  hit_and_run_vals  hit_and_run_count\n",
      "0  not hit and run            7585927\n",
      "1      misdemeanor            1570716\n",
      "2           felony             267688\n",
      "3                D                  1\n",
      "4                C                  1\n",
      "5             None                  1\n"
     ]
    },
    {
     "data": {
      "text/plain": [
       "<AxesSubplot:>"
      ]
     },
     "execution_count": 148,
     "metadata": {},
     "output_type": "execute_result"
    },
    {
     "data": {
      "image/png": "[encoded data removed]",
      "text/plain": [
       "<Figure size 432x288 with 1 Axes>"
      ]
     },
     "metadata": {
      "needs_background": "light"
     },
     "output_type": "display_data"
    }
   ],
   "source": [
    "print(df_hit_and_run) \n",
    "df_hit_and_run.boxplot(column=['hit_and_run_count'])\n"
   ]
  },
  {
   "cell_type": "code",
   "execution_count": 149,
   "id": "blessed-attraction",
   "metadata": {},
   "outputs": [
    {
     "name": "stdout",
     "output_type": "stream",
     "text": [
      "   type_of_collision_vals  type_of_collision_count\n",
      "0                rear end                  3122251\n",
      "1               broadside                  1853926\n",
      "2               sideswipe                  1675764\n",
      "3              hit object                  1523998\n",
      "4                 head-on                   411309\n",
      "5                   other                   255957\n",
      "6              pedestrian                   253095\n",
      "7              overturned                   252045\n",
      "8                    None                    75985\n",
      "9                       I                        2\n",
      "10                      O                        1\n",
      "11                      N                        1\n"
     ]
    },
    {
     "data": {
      "text/plain": [
       "<AxesSubplot:>"
      ]
     },
     "execution_count": 149,
     "metadata": {},
     "output_type": "execute_result"
    },
    {
     "data": {
      "image/png": "[encoded data removed]",
      "text/plain": [
       "<Figure size 432x288 with 1 Axes>"
      ]
     },
     "metadata": {
      "needs_background": "light"
     },
     "output_type": "display_data"
    }
   ],
   "source": [
    "print(df_type_of_collision) \n",
    "df_type_of_collision.boxplot(column=['type_of_collision_count'])\n"
   ]
  },
  {
   "cell_type": "code",
   "execution_count": 150,
   "id": "confidential-yesterday",
   "metadata": {},
   "outputs": [
    {
     "name": "stdout",
     "output_type": "stream",
     "text": [
      "   motor_vehicle_involved_with_vals  motor_vehicle_involved_with_count\n",
      "0               other motor vehicle                            6157738\n",
      "1                      fixed object                            1464752\n",
      "2              parked motor vehicle                             695576\n",
      "3                        pedestrian                             272573\n",
      "4                     non-collision                             257177\n",
      "5                           bicycle                             227417\n",
      "6                      other object                             194780\n",
      "7    motor vehicle on other roadway                              61559\n",
      "8                              None                              48918\n",
      "9                            animal                              40572\n",
      "10                            train                               2917\n",
      "11                                8                                192\n",
      "12                                2                                139\n",
      "13                                9                                 12\n",
      "14                                0                                  5\n",
      "15                                7                                  3\n",
      "16                                4                                  3\n",
      "17                                3                                  1\n"
     ]
    },
    {
     "data": {
      "text/plain": [
       "<AxesSubplot:>"
      ]
     },
     "execution_count": 150,
     "metadata": {},
     "output_type": "execute_result"
    },
    {
     "data": {
      "image/png": "[encoded data removed]",
      "text/plain": [
       "<Figure size 432x288 with 1 Axes>"
      ]
     },
     "metadata": {
      "needs_background": "light"
     },
     "output_type": "display_data"
    }
   ],
   "source": [
    "print(df_motor_vehicle_involved_with) \n",
    "df_motor_vehicle_involved_with.boxplot(column=['motor_vehicle_involved_with_count'])\n"
   ]
  },
  {
   "cell_type": "code",
   "execution_count": 151,
   "id": "baking-eating",
   "metadata": {},
   "outputs": [
    {
     "name": "stdout",
     "output_type": "stream",
     "text": [
      "                pedestrian_action_vals  pedestrian_action_count\n",
      "0               no pedestrian involved                  9139344\n",
      "1   crossing in intersection crosswalk                   120247\n",
      "2            crossing not in crosswalk                    79198\n",
      "3                              in road                    51762\n",
      "4                          not in road                    20659\n",
      "5  crossing non-intersection crosswalk                     6493\n",
      "6                                 None                     6402\n",
      "7                     using school bus                      228\n",
      "8                                    H                        1\n"
     ]
    },
    {
     "data": {
      "text/plain": [
       "<AxesSubplot:>"
      ]
     },
     "execution_count": 151,
     "metadata": {},
     "output_type": "execute_result"
    },
    {
     "data": {
      "image/png": "[encoded data removed]",
      "text/plain": [
       "<Figure size 432x288 with 1 Axes>"
      ]
     },
     "metadata": {
      "needs_background": "light"
     },
     "output_type": "display_data"
    }
   ],
   "source": [
    "print(df_pedestrian_action) \n",
    "df_pedestrian_action.boxplot(column=['pedestrian_action_count'])\n"
   ]
  },
  {
   "cell_type": "code",
   "execution_count": 152,
   "id": "coupled-raise",
   "metadata": {},
   "outputs": [
    {
     "name": "stdout",
     "output_type": "stream",
     "text": [
      "  road_surface_vals  road_surface_count\n",
      "0               dry             8515058\n",
      "1               wet              775564\n",
      "2              None               81164\n",
      "3             snowy               41707\n",
      "4          slippery               10736\n",
      "5                 H                 103\n",
      "6                 J                   1\n",
      "7                 I                   1\n"
     ]
    },
    {
     "data": {
      "text/plain": [
       "<AxesSubplot:>"
      ]
     },
     "execution_count": 152,
     "metadata": {},
     "output_type": "execute_result"
    },
    {
     "data": {
      "image/png": "[encoded data removed]",
      "text/plain": [
       "<Figure size 432x288 with 1 Axes>"
      ]
     },
     "metadata": {
      "needs_background": "light"
     },
     "output_type": "display_data"
    }
   ],
   "source": [
    "print(df_road_surface) \n",
    "df_road_surface.boxplot(column=['road_surface_count'])\n"
   ]
  },
  {
   "cell_type": "code",
   "execution_count": 153,
   "id": "original-filter",
   "metadata": {},
   "outputs": [
    {
     "name": "stdout",
     "output_type": "stream",
     "text": [
      "  road_condition_1_vals  road_condition_1_count\n",
      "0                normal                 9057657\n",
      "1          construction                  151990\n",
      "2                  None                   78298\n",
      "3           obstruction                   35883\n",
      "4                 other                   35804\n",
      "5                 holes                   28205\n",
      "6        loose material                   19049\n",
      "7         reduced width                   10080\n",
      "8               flooded                    7368\n"
     ]
    },
    {
     "data": {
      "text/plain": [
       "<AxesSubplot:>"
      ]
     },
     "execution_count": 153,
     "metadata": {},
     "output_type": "execute_result"
    },
    {
     "data": {
      "image/png": "[encoded data removed]",
      "text/plain": [
       "<Figure size 432x288 with 1 Axes>"
      ]
     },
     "metadata": {
      "needs_background": "light"
     },
     "output_type": "display_data"
    }
   ],
   "source": [
    "print(df_road_condition_1) \n",
    "df_road_condition_1.boxplot(column=['road_condition_1_count'])\n"
   ]
  },
  {
   "cell_type": "code",
   "execution_count": 75,
   "id": "effective-circle",
   "metadata": {},
   "outputs": [
    {
     "data": {
      "text/plain": [
       "<AxesSubplot:>"
      ]
     },
     "execution_count": 75,
     "metadata": {},
     "output_type": "execute_result"
    },
    {
     "data": {
      "image/png": "[encoded data removed]",
      "text/plain": [
       "<Figure size 432x288 with 1 Axes>"
      ]
     },
     "metadata": {
      "needs_background": "light"
     },
     "output_type": "display_data"
    }
   ],
   "source": [
    "print(df_road_condition_2) \n",
    "df_road_condition_2.boxplot(column=['road_condition_2_count'])\n"
   ]
  },
  {
   "cell_type": "code",
   "execution_count": 155,
   "id": "engaging-harvey",
   "metadata": {},
   "outputs": [
    {
     "name": "stdout",
     "output_type": "stream",
     "text": [
      "                             lighting_vals  lighting_count\n",
      "0                                 daylight         6279705\n",
      "1                  dark with street lights         1981315\n",
      "2               dark with no street lights          762813\n",
      "3                             dusk or dawn          329345\n",
      "4                                     None           53308\n",
      "5  dark with street lights not functioning           17847\n",
      "6                                        G               1\n"
     ]
    },
    {
     "data": {
      "text/plain": [
       "<AxesSubplot:>"
      ]
     },
     "execution_count": 155,
     "metadata": {},
     "output_type": "execute_result"
    },
    {
     "data": {
      "image/png": "[encoded data removed]",
      "text/plain": [
       "<Figure size 432x288 with 1 Axes>"
      ]
     },
     "metadata": {
      "needs_background": "light"
     },
     "output_type": "display_data"
    }
   ],
   "source": [
    "print(df_lighting) \n",
    "df_lighting.boxplot(column=['lighting_count'])\n"
   ]
  },
  {
   "cell_type": "code",
   "execution_count": 156,
   "id": "mathematical-complement",
   "metadata": {},
   "outputs": [
    {
     "name": "stdout",
     "output_type": "stream",
     "text": [
      "  control_device_vals  control_device_count\n",
      "0                none               6229758\n",
      "1         functioning               3104567\n",
      "2                None                 57544\n",
      "3     not functioning                 26810\n",
      "4            obscured                  5637\n",
      "5                   H                    10\n",
      "6                   E                     4\n",
      "7                   0                     2\n",
      "8                   Q                     1\n",
      "9                   G                     1\n"
     ]
    },
    {
     "data": {
      "text/plain": [
       "<AxesSubplot:>"
      ]
     },
     "execution_count": 156,
     "metadata": {},
     "output_type": "execute_result"
    },
    {
     "data": {
      "image/png": "[encoded data removed]",
      "text/plain": [
       "<Figure size 432x288 with 1 Axes>"
      ]
     },
     "metadata": {
      "needs_background": "light"
     },
     "output_type": "display_data"
    }
   ],
   "source": [
    "print(df_control_device) \n",
    "df_control_device.boxplot(column=['control_device_count'])\n"
   ]
  },
  {
   "cell_type": "code",
   "execution_count": 157,
   "id": "partial-shuttle",
   "metadata": {},
   "outputs": [
    {
     "name": "stdout",
     "output_type": "stream",
     "text": [
      "  chp_road_type_vals  chp_road_type_count\n",
      "0                  0              7655425\n",
      "1                  1              1560298\n",
      "2                  6               107332\n",
      "3                  5                83234\n",
      "4                  4                14175\n",
      "5                  3                 2470\n",
      "6                  7                 1251\n",
      "7                  2                  146\n",
      "8               None                    2\n",
      "9                  A                    1\n"
     ]
    },
    {
     "data": {
      "text/plain": [
       "<AxesSubplot:>"
      ]
     },
     "execution_count": 157,
     "metadata": {},
     "output_type": "execute_result"
    },
    {
     "data": {
      "image/png": "[encoded data removed]",
      "text/plain": [
       "<Figure size 432x288 with 1 Axes>"
      ]
     },
     "metadata": {
      "needs_background": "light"
     },
     "output_type": "display_data"
    }
   ],
   "source": [
    "print(df_chp_road_type) \n",
    "df_chp_road_type.boxplot(column=['chp_road_type_count'])\n"
   ]
  },
  {
   "cell_type": "code",
   "execution_count": 158,
   "id": "organic-microwave",
   "metadata": {},
   "outputs": [
    {
     "name": "stdout",
     "output_type": "stream",
     "text": [
      "   pedestrian_collision_vals  pedestrian_collision_count\n",
      "0                          0                     9139164\n",
      "1                          1                      285170\n"
     ]
    },
    {
     "data": {
      "text/plain": [
       "<AxesSubplot:>"
      ]
     },
     "execution_count": 158,
     "metadata": {},
     "output_type": "execute_result"
    },
    {
     "data": {
      "image/png": "[encoded data removed]",
      "text/plain": [
       "<Figure size 432x288 with 1 Axes>"
      ]
     },
     "metadata": {
      "needs_background": "light"
     },
     "output_type": "display_data"
    }
   ],
   "source": [
    "print(df_pedestrian_collision) \n",
    "df_pedestrian_collision.boxplot(column=['pedestrian_collision_count'])\n"
   ]
  },
  {
   "cell_type": "code",
   "execution_count": 159,
   "id": "otherwise-consciousness",
   "metadata": {},
   "outputs": [
    {
     "name": "stdout",
     "output_type": "stream",
     "text": [
      "   bicycle_collision_vals  bicycle_collision_count\n",
      "0                       0                  9166488\n",
      "1                       1                   257846\n"
     ]
    },
    {
     "data": {
      "text/plain": [
       "<AxesSubplot:>"
      ]
     },
     "execution_count": 159,
     "metadata": {},
     "output_type": "execute_result"
    },
    {
     "data": {
      "image/png": "[encoded data removed]",
      "text/plain": [
       "<Figure size 432x288 with 1 Axes>"
      ]
     },
     "metadata": {
      "needs_background": "light"
     },
     "output_type": "display_data"
    }
   ],
   "source": [
    "print(df_bicycle_collision) \n",
    "df_bicycle_collision.boxplot(column=['bicycle_collision_count'])\n"
   ]
  },
  {
   "cell_type": "code",
   "execution_count": 160,
   "id": "representative-broadcasting",
   "metadata": {},
   "outputs": [
    {
     "name": "stdout",
     "output_type": "stream",
     "text": [
      "   motorcycle_collision_vals  motorcycle_collision_count\n",
      "0                          0                     9145650\n",
      "1                          1                      278684\n"
     ]
    },
    {
     "data": {
      "text/plain": [
       "<AxesSubplot:>"
      ]
     },
     "execution_count": 160,
     "metadata": {},
     "output_type": "execute_result"
    },
    {
     "data": {
      "image/png": "[encoded data removed]",
      "text/plain": [
       "<Figure size 432x288 with 1 Axes>"
      ]
     },
     "metadata": {
      "needs_background": "light"
     },
     "output_type": "display_data"
    }
   ],
   "source": [
    "print(df_motorcycle_collision) \n",
    "df_motorcycle_collision.boxplot(column=['motorcycle_collision_count'])\n"
   ]
  },
  {
   "cell_type": "code",
   "execution_count": 161,
   "id": "adjusted-range",
   "metadata": {},
   "outputs": [
    {
     "name": "stdout",
     "output_type": "stream",
     "text": [
      "   truck_collision_vals  truck_collision_count\n",
      "0                     0                8876838\n",
      "1                     1                 547496\n"
     ]
    },
    {
     "data": {
      "text/plain": [
       "<AxesSubplot:>"
      ]
     },
     "execution_count": 161,
     "metadata": {},
     "output_type": "execute_result"
    },
    {
     "data": {
      "image/png": "[encoded data removed]",
      "text/plain": [
       "<Figure size 432x288 with 1 Axes>"
      ]
     },
     "metadata": {
      "needs_background": "light"
     },
     "output_type": "display_data"
    }
   ],
   "source": [
    "print(df_truck_collision)\n",
    "df_truck_collision.boxplot(column=['truck_collision_count'])\n"
   ]
  },
  {
   "cell_type": "code",
   "execution_count": 162,
   "id": "sharing-england",
   "metadata": {},
   "outputs": [
    {
     "name": "stdout",
     "output_type": "stream",
     "text": [
      "   not_private_property_vals  not_private_property_count\n",
      "0                        1.0                     9424331\n",
      "1                        NaN                           3\n"
     ]
    },
    {
     "data": {
      "text/plain": [
       "<AxesSubplot:>"
      ]
     },
     "execution_count": 162,
     "metadata": {},
     "output_type": "execute_result"
    },
    {
     "data": {
      "image/png": "[encoded data removed]",
      "text/plain": [
       "<Figure size 432x288 with 1 Axes>"
      ]
     },
     "metadata": {
      "needs_background": "light"
     },
     "output_type": "display_data"
    }
   ],
   "source": [
    "print(df_not_private_property) \n",
    "df_not_private_property.boxplot(column=['not_private_property_count'])\n"
   ]
  },
  {
   "cell_type": "code",
   "execution_count": 163,
   "id": "detected-retro",
   "metadata": {},
   "outputs": [
    {
     "name": "stdout",
     "output_type": "stream",
     "text": [
      "   alcohol_involved_vals  alcohol_involved_count\n",
      "0                    NaN                 8479870\n",
      "1                    1.0                  944463\n",
      "2                    0.0                       1\n"
     ]
    },
    {
     "data": {
      "text/plain": [
       "<AxesSubplot:>"
      ]
     },
     "execution_count": 163,
     "metadata": {},
     "output_type": "execute_result"
    },
    {
     "data": {
      "image/png": "[encoded data removed]",
      "text/plain": [
       "<Figure size 432x288 with 1 Axes>"
      ]
     },
     "metadata": {
      "needs_background": "light"
     },
     "output_type": "display_data"
    }
   ],
   "source": [
    "print(df_alcohol_involved) \n",
    "df_alcohol_involved.boxplot(column=['alcohol_involved_count'])\n"
   ]
  },
  {
   "cell_type": "code",
   "execution_count": 164,
   "id": "chief-mount",
   "metadata": {},
   "outputs": [
    {
     "name": "stdout",
     "output_type": "stream",
     "text": [
      "   statewide_vehicle_type_at_fault_vals  statewide_vehicle_type_at_fault_count\n",
      "0                         passenger car                                5647660\n",
      "1                                  None                                1867336\n",
      "2                 pickup or panel truck                                1063956\n",
      "3                 motorcycle or scooter                                 155715\n",
      "4   truck or truck tractor with trailer                                 145389\n",
      "5                               bicycle                                 142976\n",
      "6                truck or truck tractor                                 112273\n",
      "7                            pedestrian                                  97217\n",
      "8                     emergency vehicle                                  48285\n",
      "9    pickup or panel truck with trailer                                  44069\n",
      "10                        other vehicle                                  36647\n",
      "11                            other bus                                  29755\n",
      "12                            schoolbus                                  16458\n",
      "13           passenger car with trailer                                  13616\n",
      "14       highway construction equipment                                   1927\n",
      "15                                moped                                   1054\n",
      "16                                   22                                      1\n"
     ]
    },
    {
     "data": {
      "text/plain": [
       "<AxesSubplot:>"
      ]
     },
     "execution_count": 164,
     "metadata": {},
     "output_type": "execute_result"
    },
    {
     "data": {
      "image/png": "[encoded data removed]",
      "text/plain": [
       "<Figure size 432x288 with 1 Axes>"
      ]
     },
     "metadata": {
      "needs_background": "light"
     },
     "output_type": "display_data"
    }
   ],
   "source": [
    "print(df_statewide_vehicle_type_at_fault) \n",
    "df_statewide_vehicle_type_at_fault.boxplot(column=['statewide_vehicle_type_at_fault_count'])\n"
   ]
  },
  {
   "cell_type": "code",
   "execution_count": 165,
   "id": "civic-asbestos",
   "metadata": {},
   "outputs": [
    {
     "name": "stdout",
     "output_type": "stream",
     "text": [
      "               chp_vehicle_type_at_fault_vals  chp_vehicle_type_at_fault_count\n",
      "0                      passenger car, station                          3718313\n",
      "1                                        None                          2526931\n",
      "2                            pickups & panels                           886492\n",
      "3                       sport utility vehicle                           780484\n",
      "4     unknown hit and run vehicle involvement                           340986\n",
      "..                                        ...                              ...\n",
      "88                                       boat                                5\n",
      "89                                          0                                2\n",
      "90                             three trailers                                1\n",
      "91  federally legal double combo over 75 feet                                1\n",
      "92                                          D                                1\n",
      "\n",
      "[93 rows x 2 columns]\n"
     ]
    },
    {
     "data": {
      "text/plain": [
       "<AxesSubplot:>"
      ]
     },
     "execution_count": 165,
     "metadata": {},
     "output_type": "execute_result"
    },
    {
     "data": {
      "image/png": "[encoded data removed]",
      "text/plain": [
       "<Figure size 432x288 with 1 Axes>"
      ]
     },
     "metadata": {
      "needs_background": "light"
     },
     "output_type": "display_data"
    }
   ],
   "source": [
    "print(df_chp_vehicle_type_at_fault) \n",
    "df_chp_vehicle_type_at_fault.boxplot(column=['chp_vehicle_type_at_fault_count'])\n"
   ]
  },
  {
   "cell_type": "code",
   "execution_count": 166,
   "id": "strange-france",
   "metadata": {},
   "outputs": [
    {
     "name": "stdout",
     "output_type": "stream",
     "text": [
      "    severe_injury_count_vals  severe_injury_count_count\n",
      "0                          0                    9190606\n",
      "1                          1                     212179\n",
      "2                          2                      17424\n",
      "3                          3                       3031\n",
      "4                          4                        758\n",
      "5                          5                        225\n",
      "6                          6                         63\n",
      "7                          7                         19\n",
      "8                          8                         12\n",
      "9                         12                          5\n",
      "10                         9                          4\n",
      "11                        28                          1\n",
      "12                        22                          1\n",
      "13                        21                          1\n",
      "14                        20                          1\n",
      "15                        17                          1\n",
      "16                        13                          1\n",
      "17                        11                          1\n",
      "18                        10                          1\n"
     ]
    },
    {
     "data": {
      "text/plain": [
       "<AxesSubplot:>"
      ]
     },
     "execution_count": 166,
     "metadata": {},
     "output_type": "execute_result"
    },
    {
     "data": {
      "image/png": "[encoded data removed]",
      "text/plain": [
       "<Figure size 432x288 with 1 Axes>"
      ]
     },
     "metadata": {
      "needs_background": "light"
     },
     "output_type": "display_data"
    }
   ],
   "source": [
    "print(df_severe_injury_count) \n",
    "df_severe_injury_count.boxplot(column=['severe_injury_count_count'])\n"
   ]
  },
  {
   "cell_type": "code",
   "execution_count": 167,
   "id": "spoken-cannon",
   "metadata": {},
   "outputs": [
    {
     "name": "stdout",
     "output_type": "stream",
     "text": [
      "    other_visible_injury_count_vals  other_visible_injury_count_count\n",
      "0                                 0                           8206016\n",
      "1                                 1                           1061090\n",
      "2                                 2                            126842\n",
      "3                                 3                             22743\n",
      "4                                 4                              5483\n",
      "5                                 5                              1471\n",
      "6                                 6                               406\n",
      "7                                 7                               152\n",
      "8                                 8                                64\n",
      "9                                 9                                18\n",
      "10                               10                                12\n",
      "11                               11                                10\n",
      "12                               13                                 5\n",
      "13                               19                                 4\n",
      "14                               17                                 3\n",
      "15                               16                                 3\n",
      "16                               14                                 2\n",
      "17                               12                                 2\n",
      "18                               41                                 1\n",
      "19                               35                                 1\n",
      "20                               34                                 1\n",
      "21                               28                                 1\n",
      "22                               27                                 1\n",
      "23                               26                                 1\n",
      "24                               25                                 1\n",
      "25                               20                                 1\n"
     ]
    },
    {
     "data": {
      "text/plain": [
       "<AxesSubplot:>"
      ]
     },
     "execution_count": 167,
     "metadata": {},
     "output_type": "execute_result"
    },
    {
     "data": {
      "image/png": "[encoded data removed]",
      "text/plain": [
       "<Figure size 432x288 with 1 Axes>"
      ]
     },
     "metadata": {
      "needs_background": "light"
     },
     "output_type": "display_data"
    }
   ],
   "source": [
    "print(df_other_visible_injury_count) \n",
    "df_other_visible_injury_count.boxplot(column=['other_visible_injury_count_count'])\n"
   ]
  },
  {
   "cell_type": "code",
   "execution_count": 168,
   "id": "premier-lingerie",
   "metadata": {},
   "outputs": [
    {
     "name": "stdout",
     "output_type": "stream",
     "text": [
      "    complaint_of_pain_injury_count_vals  complaint_of_pain_injury_count_count\n",
      "0                                     0                               6817441\n",
      "1                                     1                               1897080\n",
      "2                                     2                                510053\n",
      "3                                     3                                138342\n",
      "4                                     4                                 41340\n",
      "5                                     5                                 12983\n",
      "6                                     6                                  4268\n",
      "7                                     7                                  1477\n",
      "8                                     8                                   583\n",
      "9                                     9                                   288\n",
      "10                                   10                                   129\n",
      "11                                   11                                    89\n",
      "12                                   12                                    56\n",
      "13                                   13                                    42\n",
      "14                                   15                                    27\n",
      "15                                   14                                    22\n",
      "16                                   18                                    18\n",
      "17                                   16                                    16\n",
      "18                                   17                                    15\n",
      "19                                   20                                    13\n",
      "20                                   19                                     9\n",
      "21                                   22                                     7\n",
      "22                                   21                                     6\n",
      "23                                   25                                     5\n",
      "24                                   32                                     3\n",
      "25                                   29                                     3\n",
      "26                                   28                                     3\n",
      "27                                   27                                     3\n",
      "28                                   23                                     3\n",
      "29                                   24                                     2\n",
      "30                                   73                                     1\n",
      "31                                   52                                     1\n",
      "32                                   36                                     1\n",
      "33                                   35                                     1\n",
      "34                                   34                                     1\n",
      "35                                   33                                     1\n",
      "36                                   30                                     1\n",
      "37                                   26                                     1\n"
     ]
    },
    {
     "data": {
      "text/plain": [
       "<AxesSubplot:>"
      ]
     },
     "execution_count": 168,
     "metadata": {},
     "output_type": "execute_result"
    },
    {
     "data": {
      "image/png": "[encoded data removed]",
      "text/plain": [
       "<Figure size 432x288 with 1 Axes>"
      ]
     },
     "metadata": {
      "needs_background": "light"
     },
     "output_type": "display_data"
    }
   ],
   "source": [
    "print(df_complaint_of_pain_injury_count) \n",
    "df_complaint_of_pain_injury_count.boxplot(column=['complaint_of_pain_injury_count_count'])\n"
   ]
  },
  {
   "cell_type": "code",
   "execution_count": 169,
   "id": "funny-chile",
   "metadata": {},
   "outputs": [
    {
     "name": "stdout",
     "output_type": "stream",
     "text": [
      "   pedestrian_killed_count_vals  pedestrian_killed_count_count\n",
      "0                             0                        9408969\n",
      "1                             1                          15155\n",
      "2                             2                            190\n",
      "3                             3                             14\n",
      "4                             4                              5\n",
      "5                            10                              1\n"
     ]
    },
    {
     "data": {
      "text/plain": [
       "<AxesSubplot:>"
      ]
     },
     "execution_count": 169,
     "metadata": {},
     "output_type": "execute_result"
    },
    {
     "data": {
      "image/png": "[encoded data removed]",
      "text/plain": [
       "<Figure size 432x288 with 1 Axes>"
      ]
     },
     "metadata": {
      "needs_background": "light"
     },
     "output_type": "display_data"
    }
   ],
   "source": [
    "print(df_pedestrian_killed_count) \n",
    "df_pedestrian_killed_count.boxplot(column=['pedestrian_killed_count_count'])\n"
   ]
  },
  {
   "cell_type": "code",
   "execution_count": 170,
   "id": "technological-dublin",
   "metadata": {},
   "outputs": [
    {
     "name": "stdout",
     "output_type": "stream",
     "text": [
      "    pedestrian_injured_count_vals  pedestrian_injured_count_count\n",
      "0                               0                         9168578\n",
      "1                               1                          243022\n",
      "2                               2                           11245\n",
      "3                               3                            1164\n",
      "4                               4                             231\n",
      "5                               5                              49\n",
      "6                               6                              23\n",
      "7                               7                               8\n",
      "8                               8                               5\n",
      "9                              10                               3\n",
      "10                             14                               2\n",
      "11                             64                               1\n",
      "12                             26                               1\n",
      "13                             12                               1\n",
      "14                             11                               1\n"
     ]
    },
    {
     "data": {
      "text/plain": [
       "<AxesSubplot:>"
      ]
     },
     "execution_count": 170,
     "metadata": {},
     "output_type": "execute_result"
    },
    {
     "data": {
      "image/png": "[encoded data removed]",
      "text/plain": [
       "<Figure size 432x288 with 1 Axes>"
      ]
     },
     "metadata": {
      "needs_background": "light"
     },
     "output_type": "display_data"
    }
   ],
   "source": [
    "print(df_pedestrian_injured_count) \n",
    "df_pedestrian_injured_count.boxplot(column=['pedestrian_injured_count_count'])\n"
   ]
  },
  {
   "cell_type": "code",
   "execution_count": 172,
   "id": "scientific-smith",
   "metadata": {},
   "outputs": [
    {
     "name": "stdout",
     "output_type": "stream",
     "text": [
      "   bicyclist_killed_count_vals  bicyclist_killed_count_count\n",
      "0                            0                       9421541\n",
      "1                            1                          2786\n",
      "2                            2                             7\n"
     ]
    },
    {
     "data": {
      "text/plain": [
       "<AxesSubplot:>"
      ]
     },
     "execution_count": 172,
     "metadata": {},
     "output_type": "execute_result"
    },
    {
     "data": {
      "image/png": "[encoded data removed]",
      "text/plain": [
       "<Figure size 432x288 with 1 Axes>"
      ]
     },
     "metadata": {
      "needs_background": "light"
     },
     "output_type": "display_data"
    }
   ],
   "source": [
    "print(df_bicyclist_killed_count) \n",
    "df_bicyclist_killed_count.boxplot(column=['bicyclist_killed_count_count'])\n"
   ]
  },
  {
   "cell_type": "code",
   "execution_count": 173,
   "id": "tough-russell",
   "metadata": {},
   "outputs": [
    {
     "name": "stdout",
     "output_type": "stream",
     "text": [
      "   bicyclist_injured_count_vals  bicyclist_injured_count_count\n",
      "0                             0                        9195769\n",
      "1                             1                         225263\n",
      "2                             2                           3073\n",
      "3                             3                            182\n",
      "4                             4                             26\n",
      "5                             5                             17\n",
      "6                             6                              2\n",
      "7                            11                              1\n",
      "8                             7                              1\n"
     ]
    },
    {
     "data": {
      "text/plain": [
       "<AxesSubplot:>"
      ]
     },
     "execution_count": 173,
     "metadata": {},
     "output_type": "execute_result"
    },
    {
     "data": {
      "image/png": "[encoded data removed]",
      "text/plain": [
       "<Figure size 432x288 with 1 Axes>"
      ]
     },
     "metadata": {
      "needs_background": "light"
     },
     "output_type": "display_data"
    }
   ],
   "source": [
    "print(df_bicyclist_injured_count) \n",
    "df_bicyclist_injured_count.boxplot(column=['bicyclist_injured_count_count'])\n"
   ]
  },
  {
   "cell_type": "code",
   "execution_count": 174,
   "id": "cathedral-modem",
   "metadata": {},
   "outputs": [
    {
     "name": "stdout",
     "output_type": "stream",
     "text": [
      "   motorcyclist_killed_count_vals  motorcyclist_killed_count_count\n",
      "0                               0                          9415577\n",
      "1                               1                             8595\n",
      "2                               2                              157\n",
      "3                               4                                3\n",
      "4                               3                                2\n"
     ]
    },
    {
     "data": {
      "text/plain": [
       "<AxesSubplot:>"
      ]
     },
     "execution_count": 174,
     "metadata": {},
     "output_type": "execute_result"
    },
    {
     "data": {
      "image/png": "[encoded data removed]",
      "text/plain": [
       "<Figure size 432x288 with 1 Axes>"
      ]
     },
     "metadata": {
      "needs_background": "light"
     },
     "output_type": "display_data"
    }
   ],
   "source": [
    "print(df_motorcyclist_killed_count)\n",
    "df_motorcyclist_killed_count.boxplot(column=['motorcyclist_killed_count_count'])\n"
   ]
  },
  {
   "cell_type": "code",
   "execution_count": 175,
   "id": "incoming-sherman",
   "metadata": {},
   "outputs": [
    {
     "name": "stdout",
     "output_type": "stream",
     "text": [
      "   motorcyclist_injured_count_vals  motorcyclist_injured_count_count\n",
      "0                              0.0                           9209633\n",
      "1                              1.0                            201554\n",
      "2                              2.0                             12410\n",
      "3                              3.0                               587\n",
      "4                              4.0                               115\n",
      "5                              5.0                                24\n",
      "6                              6.0                                 7\n",
      "7                              NaN                                 2\n",
      "8                              9.0                                 1\n",
      "9                              7.0                                 1\n"
     ]
    },
    {
     "data": {
      "text/plain": [
       "<AxesSubplot:>"
      ]
     },
     "execution_count": 175,
     "metadata": {},
     "output_type": "execute_result"
    },
    {
     "data": {
      "image/png": "[encoded data removed]",
      "text/plain": [
       "<Figure size 432x288 with 1 Axes>"
      ]
     },
     "metadata": {
      "needs_background": "light"
     },
     "output_type": "display_data"
    }
   ],
   "source": [
    "print(df_motorcyclist_injured_count) \n",
    "df_motorcyclist_injured_count.boxplot(column=['motorcyclist_injured_count_count'])\n"
   ]
  },
  {
   "cell_type": "code",
   "execution_count": 176,
   "id": "alive-mistake",
   "metadata": {},
   "outputs": [
    {
     "name": "stdout",
     "output_type": "stream",
     "text": [
      "      primary_ramp_vals  primary_ramp_count\n",
      "0                  None             9256350\n",
      "1                    TO              103840\n",
      "2                    FR               41962\n",
      "3                    TR                3798\n",
      "4   southbound off-ramp                3486\n",
      "5   northbound off-ramp                3440\n",
      "6    northbound on-ramp                2291\n",
      "7    eastbound off-ramp                2185\n",
      "8    westbound off-ramp                1932\n",
      "9    southbound on-ramp                1884\n",
      "10    westbound on-ramp                1185\n",
      "11    eastbound on-ramp                1158\n",
      "12                   CN                 415\n",
      "13                   CO                 407\n",
      "14                    0                   1\n"
     ]
    },
    {
     "data": {
      "text/plain": [
       "<AxesSubplot:>"
      ]
     },
     "execution_count": 176,
     "metadata": {},
     "output_type": "execute_result"
    },
    {
     "data": {
      "image/png": "[encoded data removed]",
      "text/plain": [
       "<Figure size 432x288 with 1 Axes>"
      ]
     },
     "metadata": {
      "needs_background": "light"
     },
     "output_type": "display_data"
    }
   ],
   "source": [
    "print(df_primary_ramp) \n",
    "df_primary_ramp.boxplot(column=['primary_ramp_count'])\n"
   ]
  },
  {
   "cell_type": "code",
   "execution_count": 177,
   "id": "literary-jersey",
   "metadata": {},
   "outputs": [
    {
     "name": "stdout",
     "output_type": "stream",
     "text": [
      "    secondary_ramp_vals  secondary_ramp_count\n",
      "0                  None               9333416\n",
      "1   southbound off-ramp                 16333\n",
      "2   northbound off-ramp                 15670\n",
      "3    eastbound off-ramp                 10220\n",
      "4    northbound on-ramp                 10045\n",
      "5    southbound on-ramp                  9856\n",
      "6    westbound off-ramp                  9602\n",
      "7     eastbound on-ramp                  6787\n",
      "8     westbound on-ramp                  5936\n",
      "9                    TO                  3614\n",
      "10                   FR                  1262\n",
      "11                   TR                   768\n",
      "12                   CN                   700\n",
      "13                   CO                   124\n",
      "14             37.23386                     1\n"
     ]
    },
    {
     "data": {
      "text/plain": [
       "<AxesSubplot:>"
      ]
     },
     "execution_count": 177,
     "metadata": {},
     "output_type": "execute_result"
    },
    {
     "data": {
      "image/png": "[encoded data removed]",
      "text/plain": [
       "<Figure size 432x288 with 1 Axes>"
      ]
     },
     "metadata": {
      "needs_background": "light"
     },
     "output_type": "display_data"
    }
   ],
   "source": [
    "print(df_secondary_ramp) \n",
    "df_secondary_ramp.boxplot(column=['secondary_ramp_count'])\n"
   ]
  },
  {
   "cell_type": "code",
   "execution_count": 178,
   "id": "aggregate-membrane",
   "metadata": {},
   "outputs": [
    {
     "name": "stdout",
     "output_type": "stream",
     "text": [
      "        latitude_vals  latitude_count\n",
      "0                 NaN         6730338\n",
      "1            38.49347             806\n",
      "2            38.00000             637\n",
      "3            34.07200             303\n",
      "4            38.49600             288\n",
      "...               ...             ...\n",
      "561374       32.50072               1\n",
      "561375       32.50060               1\n",
      "561376       32.50045               1\n",
      "561377       32.50029               1\n",
      "561378       32.50010               1\n",
      "\n",
      "[561379 rows x 2 columns]\n"
     ]
    },
    {
     "data": {
      "text/plain": [
       "<AxesSubplot:>"
      ]
     },
     "execution_count": 178,
     "metadata": {},
     "output_type": "execute_result"
    },
    {
     "data": {
      "image/png": "[encoded data removed]",
      "text/plain": [
       "<Figure size 432x288 with 1 Axes>"
      ]
     },
     "metadata": {
      "needs_background": "light"
     },
     "output_type": "display_data"
    }
   ],
   "source": [
    "print(df_latitude) \n",
    "df_latitude.boxplot(column=['latitude_count'])\n"
   ]
  },
  {
   "cell_type": "code",
   "execution_count": 179,
   "id": "local-statement",
   "metadata": {},
   "outputs": [
    {
     "name": "stdout",
     "output_type": "stream",
     "text": [
      "        longitude_vals  longitude_count\n",
      "0                  NaN          6730338\n",
      "1           -121.54347              787\n",
      "2           -121.00000              549\n",
      "3           -118.32651              252\n",
      "4           -121.47370              242\n",
      "...                ...              ...\n",
      "580194      -124.45990                1\n",
      "580195      -124.47220                1\n",
      "580196      -124.47708                1\n",
      "580197      -124.49479                1\n",
      "580198      -124.49859                1\n",
      "\n",
      "[580199 rows x 2 columns]\n"
     ]
    },
    {
     "data": {
      "text/plain": [
       "<AxesSubplot:>"
      ]
     },
     "execution_count": 179,
     "metadata": {},
     "output_type": "execute_result"
    },
    {
     "data": {
      "image/png": "[encoded data removed]",
      "text/plain": [
       "<Figure size 432x288 with 1 Axes>"
      ]
     },
     "metadata": {
      "needs_background": "light"
     },
     "output_type": "display_data"
    }
   ],
   "source": [
    "print(df_longitude) \n",
    "df_longitude.boxplot(column=['longitude_count'])\n"
   ]
  },
  {
   "cell_type": "code",
   "execution_count": 180,
   "id": "specialized-nation",
   "metadata": {},
   "outputs": [
    {
     "name": "stdout",
     "output_type": "stream",
     "text": [
      "     collision_date_vals  collision_date_count\n",
      "0             2002-11-08                  2918\n",
      "1             2003-10-31                  2479\n",
      "2             2005-02-11                  2340\n",
      "3             2002-12-20                  2319\n",
      "4             2001-12-14                  2264\n",
      "...                  ...                   ...\n",
      "7454          2021-05-30                   100\n",
      "7455          2021-05-31                    73\n",
      "7456          2021-06-01                    64\n",
      "7457          2021-06-02                    36\n",
      "7458          2021-06-03                     2\n",
      "\n",
      "[7459 rows x 2 columns]\n"
     ]
    },
    {
     "data": {
      "text/plain": [
       "<AxesSubplot:>"
      ]
     },
     "execution_count": 180,
     "metadata": {},
     "output_type": "execute_result"
    },
    {
     "data": {
      "image/png": "[encoded data removed]",
      "text/plain": [
       "<Figure size 432x288 with 1 Axes>"
      ]
     },
     "metadata": {
      "needs_background": "light"
     },
     "output_type": "display_data"
    }
   ],
   "source": [
    "print(df_collision_date) \n",
    "df_collision_date.boxplot(column=['collision_date_count'])\n"
   ]
  },
  {
   "cell_type": "code",
   "execution_count": 181,
   "id": "adjusted-kennedy",
   "metadata": {},
   "outputs": [
    {
     "name": "stdout",
     "output_type": "stream",
     "text": [
      "     collision_time_vals  collision_time_count\n",
      "0                   None                 82415\n",
      "1               16:00:00                 63615\n",
      "2               17:30:00                 62617\n",
      "3               15:00:00                 62452\n",
      "4               17:00:00                 61475\n",
      "...                  ...                   ...\n",
      "1436            04:24:00                   652\n",
      "1437            04:14:00                   646\n",
      "1438            04:41:00                   640\n",
      "1439            04:21:00                   627\n",
      "1440            04:31:00                   601\n",
      "\n",
      "[1441 rows x 2 columns]\n"
     ]
    },
    {
     "data": {
      "text/plain": [
       "<AxesSubplot:>"
      ]
     },
     "execution_count": 181,
     "metadata": {},
     "output_type": "execute_result"
    },
    {
     "data": {
      "image/png": "[encoded data removed]",
      "text/plain": [
       "<Figure size 432x288 with 1 Axes>"
      ]
     },
     "metadata": {
      "needs_background": "light"
     },
     "output_type": "display_data"
    }
   ],
   "source": [
    "print(df_collision_time) \n",
    "df_collision_time.boxplot(column=['collision_time_count'])\n"
   ]
  },
  {
   "cell_type": "code",
   "execution_count": 182,
   "id": "atomic-frequency",
   "metadata": {},
   "outputs": [
    {
     "name": "stdout",
     "output_type": "stream",
     "text": [
      "     process_date_vals  process_date_count\n",
      "0           2015-10-19               26035\n",
      "1           2001-05-11               19882\n",
      "2           2002-02-15               14383\n",
      "3           2002-03-08               14073\n",
      "4           2002-02-21               13716\n",
      "...                ...                 ...\n",
      "5489        2018-08-26                   1\n",
      "5490        2018-04-14                   1\n",
      "5491        2014-11-22                   1\n",
      "5492        2012-08-30                   1\n",
      "5493        2008-05-18                   1\n",
      "\n",
      "[5494 rows x 2 columns]\n"
     ]
    },
    {
     "data": {
      "text/plain": [
       "<AxesSubplot:>"
      ]
     },
     "execution_count": 182,
     "metadata": {},
     "output_type": "execute_result"
    },
    {
     "data": {
      "image/png": "[encoded data removed]",
      "text/plain": [
       "<Figure size 432x288 with 1 Axes>"
      ]
     },
     "metadata": {
      "needs_background": "light"
     },
     "output_type": "display_data"
    }
   ],
   "source": [
    "print(df_process_date)\n",
    "df_process_date.boxplot(column=['process_date_count'])\n"
   ]
  },
  {
   "cell_type": "markdown",
   "id": "other-riding",
   "metadata": {},
   "source": [
    "Parties Table MetaData"
   ]
  },
  {
   "cell_type": "code",
   "execution_count": 183,
   "id": "satisfied-aggregate",
   "metadata": {},
   "outputs": [],
   "source": [
    "df_party_number = pd.read_sql_query('SELECT party_number, sum(1) as count FROM parties group by 1 order by 2 desc', con)\n",
    "df_party_type = pd.read_sql_query('SELECT party_type, sum(1) as count FROM parties group by 1 order by 2 desc', con)\n",
    "df_at_fault = pd.read_sql_query('SELECT at_fault, sum(1) as count FROM parties group by 1 order by 2 desc', con)\n",
    "df_party_sex = pd.read_sql_query('SELECT party_sex, sum(1) as count FROM parties group by 1 order by 2 desc', con)\n",
    "df_party_age = pd.read_sql_query('SELECT party_age, sum(1) as count FROM parties group by 1 order by 2 desc', con)\n",
    "df_party_sobriety = pd.read_sql_query('SELECT party_sobriety, sum(1) as count FROM parties group by 1 order by 2 desc', con)\n",
    "df_party_drug_physical = pd.read_sql_query('SELECT party_drug_physical, sum(1) as count FROM parties group by 1 order by 2 desc', con)\n",
    "df_direction_of_travel = pd.read_sql_query('SELECT direction_of_travel, sum(1) as count FROM parties group by 1 order by 2 desc', con)\n",
    "df_party_safety_equipment_1 = pd.read_sql_query('SELECT party_safety_equipment_1, sum(1) as count FROM parties group by 1 order by 2 desc', con)\n",
    "df_party_safety_equipment_2 = pd.read_sql_query('SELECT party_safety_equipment_2, sum(1) as count FROM parties group by 1 order by 2 desc', con)\n",
    "df_financial_responsibility = pd.read_sql_query('SELECT financial_responsibility, sum(1) as count FROM parties group by 1 order by 2 desc', con)\n",
    "df_hazardous_materials = pd.read_sql_query('SELECT hazardous_materials, sum(1) as count FROM parties group by 1 order by 2 desc', con)\n",
    "df_cellphone_in_use = pd.read_sql_query('SELECT cellphone_in_use, sum(1) as count FROM parties group by 1 order by 2 desc', con)\n",
    "df_cellphone_use_type = pd.read_sql_query('SELECT cellphone_use_type, sum(1) as count FROM parties group by 1 order by 2 desc', con)\n",
    "df_school_bus_related = pd.read_sql_query('SELECT school_bus_related, sum(1) as count FROM parties group by 1 order by 2 desc', con)\n",
    "df_oaf_violation_code = pd.read_sql_query('SELECT oaf_violation_code, sum(1) as count FROM parties group by 1 order by 2 desc', con)\n",
    "df_oaf_violation_category = pd.read_sql_query('SELECT oaf_violation_category, sum(1) as count FROM parties group by 1 order by 2 desc', con)\n",
    "df_oaf_violation_section = pd.read_sql_query('SELECT oaf_violation_section, sum(1) as count FROM parties group by 1 order by 2 desc', con)\n",
    "df_oaf_violation_suffix = pd.read_sql_query('SELECT oaf_violation_suffix, sum(1) as count FROM parties group by 1 order by 2 desc', con)\n",
    "df_other_associate_factor_1 = pd.read_sql_query('SELECT other_associate_factor_1, sum(1) as count FROM parties group by 1 order by 2 desc', con)\n",
    "df_other_associate_factor_2 = pd.read_sql_query('SELECT other_associate_factor_2, sum(1) as count FROM parties group by 1 order by 2 desc', con)\n",
    "df_party_number_killed = pd.read_sql_query('SELECT party_number_killed, sum(1) as count FROM parties group by 1 order by 2 desc', con)\n",
    "df_party_number_injured = pd.read_sql_query('SELECT party_number_injured, sum(1) as count FROM parties group by 1 order by 2 desc', con)\n",
    "df_movement_preceding_collision = pd.read_sql_query('SELECT movement_preceding_collision, sum(1) as count FROM parties group by 1 order by 2 desc', con)\n",
    "df_vehicle_year = pd.read_sql_query('SELECT vehicle_year, sum(1) as count FROM parties group by 1 order by 2 desc', con)\n",
    "df_vehicle_make = pd.read_sql_query('SELECT vehicle_make, sum(1) as count FROM parties group by 1 order by 2 desc', con)\n",
    "df_statewide_vehicle_type = pd.read_sql_query('SELECT statewide_vehicle_type, sum(1) as count FROM parties group by 1 order by 2 desc', con)\n",
    "df_chp_vehicle_type_towing = pd.read_sql_query('SELECT chp_vehicle_type_towing, sum(1) as count FROM parties group by 1 order by 2 desc', con)\n",
    "df_chp_vehicle_type_towed = pd.read_sql_query('SELECT chp_vehicle_type_towed, sum(1) as count FROM parties group by 1 order by 2 desc', con)\n",
    "df_party_race = pd.read_sql_query('SELECT party_race, sum(1) as count FROM parties group by 1 order by 2 desc', con)\n"
   ]
  },
  {
   "cell_type": "code",
   "execution_count": 184,
   "id": "bizarre-romantic",
   "metadata": {},
   "outputs": [],
   "source": [
    "df_party_number.columns = ['party_number_vals','party_number_count']\n",
    "df_party_type.columns = ['party_type_vals','party_type_count']\n",
    "df_at_fault.columns = ['at_fault_vals','at_fault_count']\n",
    "df_party_sex.columns = ['party_sex_vals','party_sex_count']\n",
    "df_party_age.columns = ['party_age_vals','party_age_count']\n",
    "df_party_sobriety.columns = ['party_sobriety_vals','party_sobriety_count']\n",
    "df_party_drug_physical.columns = ['party_drug_physical_vals','party_drug_physical_count']\n",
    "df_direction_of_travel.columns = ['direction_of_travel_vals','direction_of_travel_count']\n",
    "df_party_safety_equipment_1.columns = ['party_safety_equipment_1_vals','party_safety_equipment_1_count']\n",
    "df_party_safety_equipment_2.columns = ['party_safety_equipment_2_vals','party_safety_equipment_2_count']\n",
    "df_financial_responsibility.columns = ['financial_responsibility_vals','financial_responsibility_count']\n",
    "df_hazardous_materials.columns = ['hazardous_materials_vals','hazardous_materials_count']\n",
    "df_cellphone_in_use.columns = ['cellphone_in_use_vals','cellphone_in_use_count']\n",
    "df_cellphone_use_type.columns = ['cellphone_use_type_vals','cellphone_use_type_count']\n",
    "df_school_bus_related.columns = ['school_bus_related_vals','school_bus_related_count']\n",
    "df_oaf_violation_code.columns = ['oaf_violation_code_vals','oaf_violation_code_count']\n",
    "df_oaf_violation_category.columns = ['oaf_violation_category_vals','oaf_violation_category_count']\n",
    "df_oaf_violation_section.columns = ['oaf_violation_section_vals','oaf_violation_section_count']\n",
    "df_oaf_violation_suffix.columns = ['oaf_violation_suffix_vals','oaf_violation_suffix_count']\n",
    "df_other_associate_factor_1.columns = ['other_associate_factor_1_vals','other_associate_factor_1_count']\n",
    "df_other_associate_factor_2.columns = ['other_associate_factor_2_vals','other_associate_factor_2_count']\n",
    "df_party_number_killed.columns = ['party_number_killed_vals','party_number_killed_count']\n",
    "df_party_number_injured.columns = ['party_number_injured_vals','party_number_injured_count']\n",
    "df_movement_preceding_collision.columns = ['movement_preceding_collision_vals','movement_preceding_collision_count']\n",
    "df_vehicle_year.columns = ['vehicle_year_vals','vehicle_year_count']\n",
    "df_vehicle_make.columns = ['vehicle_make_vals','vehicle_make_count']\n",
    "df_statewide_vehicle_type.columns = ['statewide_vehicle_type_vals','statewide_vehicle_type_count']\n",
    "df_chp_vehicle_type_towing.columns = ['chp_vehicle_type_towing_vals','chp_vehicle_type_towing_count']\n",
    "df_chp_vehicle_type_towed.columns = ['chp_vehicle_type_towed_vals','chp_vehicle_type_towed_count']\n",
    "df_party_race.columns = ['party_race_vals','party_race_count']\n"
   ]
  },
  {
   "cell_type": "code",
   "execution_count": 185,
   "id": "romance-chosen",
   "metadata": {},
   "outputs": [
    {
     "name": "stdout",
     "output_type": "stream",
     "text": [
      "    party_number_vals  party_number_count\n",
      "0                   1             9424288\n",
      "1                   2             7652692\n",
      "2                   3             1238571\n",
      "3                   4              267299\n",
      "4                   5               61077\n",
      "..                ...                 ...\n",
      "87                 81                   1\n",
      "88                 80                   1\n",
      "89                 79                   1\n",
      "90                 78                   1\n",
      "91                 77                   1\n",
      "\n",
      "[92 rows x 2 columns]\n"
     ]
    },
    {
     "data": {
      "text/plain": [
       "<AxesSubplot:>"
      ]
     },
     "execution_count": 185,
     "metadata": {},
     "output_type": "execute_result"
    },
    {
     "data": {
      "image/png": "[encoded data removed]",
      "text/plain": [
       "<Figure size 432x288 with 1 Axes>"
      ]
     },
     "metadata": {
      "needs_background": "light"
     },
     "output_type": "display_data"
    }
   ],
   "source": [
    "print(df_party_number) \n",
    "df_party_number.boxplot(column=['party_number_count'])\n"
   ]
  },
  {
   "cell_type": "code",
   "execution_count": 186,
   "id": "marked-military",
   "metadata": {},
   "outputs": [
    {
     "name": "stdout",
     "output_type": "stream",
     "text": [
      "  party_type_vals  party_type_count\n",
      "0          driver          16793164\n",
      "1  parked vehicle           1201697\n",
      "2      pedestrian            303756\n",
      "3       bicyclist            262236\n",
      "4           other             64443\n",
      "5            None             43867\n",
      "6               6                 3\n"
     ]
    },
    {
     "data": {
      "text/plain": [
       "<AxesSubplot:>"
      ]
     },
     "execution_count": 186,
     "metadata": {},
     "output_type": "execute_result"
    },
    {
     "data": {
      "image/png": "[encoded data removed]",
      "text/plain": [
       "<Figure size 432x288 with 1 Axes>"
      ]
     },
     "metadata": {
      "needs_background": "light"
     },
     "output_type": "display_data"
    }
   ],
   "source": [
    "print(df_party_type)\n",
    "df_party_type.boxplot(column=['party_type_count'])\n"
   ]
  },
  {
   "cell_type": "code",
   "execution_count": 187,
   "id": "sharp-peeing",
   "metadata": {},
   "outputs": [
    {
     "name": "stdout",
     "output_type": "stream",
     "text": [
      "   at_fault_vals  at_fault_count\n",
      "0              0        10040535\n",
      "1              1         8628631\n"
     ]
    },
    {
     "data": {
      "text/plain": [
       "<AxesSubplot:>"
      ]
     },
     "execution_count": 187,
     "metadata": {},
     "output_type": "execute_result"
    },
    {
     "data": {
      "image/png": "[encoded data removed]",
      "text/plain": [
       "<Figure size 432x288 with 1 Axes>"
      ]
     },
     "metadata": {
      "needs_background": "light"
     },
     "output_type": "display_data"
    }
   ],
   "source": [
    "print(df_at_fault)\n",
    "df_at_fault.boxplot(column=['at_fault_count'])\n"
   ]
  },
  {
   "cell_type": "code",
   "execution_count": 189,
   "id": "upset-church",
   "metadata": {},
   "outputs": [
    {
     "name": "stdout",
     "output_type": "stream",
     "text": [
      "  party_sex_vals  party_sex_count\n",
      "0           male          9907878\n",
      "1         female          6258217\n",
      "2           None          2499043\n",
      "3              X             4028\n"
     ]
    },
    {
     "data": {
      "text/plain": [
       "<AxesSubplot:>"
      ]
     },
     "execution_count": 189,
     "metadata": {},
     "output_type": "execute_result"
    },
    {
     "data": {
      "image/png": "[encoded data removed]",
      "text/plain": [
       "<Figure size 432x288 with 1 Axes>"
      ]
     },
     "metadata": {
      "needs_background": "light"
     },
     "output_type": "display_data"
    }
   ],
   "source": [
    "print(df_party_sex)\n",
    "df_party_sex.boxplot(column=['party_sex_count'])\n"
   ]
  },
  {
   "cell_type": "code",
   "execution_count": 190,
   "id": "stunning-taylor",
   "metadata": {},
   "outputs": [
    {
     "name": "stdout",
     "output_type": "stream",
     "text": [
      "     party_age_vals  party_age_count\n",
      "0               NaN          2914711\n",
      "1              19.0           491157\n",
      "2              20.0           480830\n",
      "3              21.0           479142\n",
      "4              22.0           467120\n",
      "..              ...              ...\n",
      "122           107.0                3\n",
      "123           113.0                2\n",
      "124           111.0                2\n",
      "125           106.0                2\n",
      "126           125.0                1\n",
      "\n",
      "[127 rows x 2 columns]\n"
     ]
    },
    {
     "data": {
      "text/plain": [
       "<AxesSubplot:>"
      ]
     },
     "execution_count": 190,
     "metadata": {},
     "output_type": "execute_result"
    },
    {
     "data": {
      "image/png": "[encoded data removed]",
      "text/plain": [
       "<Figure size 432x288 with 1 Axes>"
      ]
     },
     "metadata": {
      "needs_background": "light"
     },
     "output_type": "display_data"
    }
   ],
   "source": [
    "print(df_party_age)\n",
    "df_party_age.boxplot(column=['party_age_count'])\n"
   ]
  },
  {
   "cell_type": "code",
   "execution_count": 192,
   "id": "ruled-think",
   "metadata": {},
   "outputs": [
    {
     "name": "stdout",
     "output_type": "stream",
     "text": [
      "                      party_sobriety_vals  party_sobriety_count\n",
      "0                   had not been drinking              14232676\n",
      "1                      impairment unknown               1756937\n",
      "2                          not applicable               1150871\n",
      "3      had been drinking, under influence                703945\n",
      "4                                    None                556035\n",
      "5   had been drinking, impairment unknown                146545\n",
      "6  had been drinking, not under influence                122157\n"
     ]
    },
    {
     "data": {
      "text/plain": [
       "<AxesSubplot:>"
      ]
     },
     "execution_count": 192,
     "metadata": {},
     "output_type": "execute_result"
    },
    {
     "data": {
      "image/png": "[encoded data removed]",
      "text/plain": [
       "<Figure size 432x288 with 1 Axes>"
      ]
     },
     "metadata": {
      "needs_background": "light"
     },
     "output_type": "display_data"
    }
   ],
   "source": [
    "print(df_party_sobriety)\n",
    "df_party_sobriety.boxplot(column=['party_sobriety_count'])\n"
   ]
  },
  {
   "cell_type": "code",
   "execution_count": 193,
   "id": "unknown-thunder",
   "metadata": {},
   "outputs": [
    {
     "name": "stdout",
     "output_type": "stream",
     "text": [
      "  party_drug_physical_vals  party_drug_physical_count\n",
      "0                     None                   15645799\n",
      "1                        G                    1663519\n",
      "2           not applicable                    1153168\n",
      "3          sleepy/fatigued                      98710\n",
      "4     under drug influence                      80905\n",
      "5    impairment - physical                      27065\n"
     ]
    },
    {
     "data": {
      "text/plain": [
       "<AxesSubplot:>"
      ]
     },
     "execution_count": 193,
     "metadata": {},
     "output_type": "execute_result"
    },
    {
     "data": {
      "image/png": "[encoded data removed]",
      "text/plain": [
       "<Figure size 432x288 with 1 Axes>"
      ]
     },
     "metadata": {
      "needs_background": "light"
     },
     "output_type": "display_data"
    }
   ],
   "source": [
    "print(df_party_drug_physical)\n",
    "df_party_drug_physical.boxplot(column=['party_drug_physical_count'])\n"
   ]
  },
  {
   "cell_type": "code",
   "execution_count": 194,
   "id": "reserved-frederick",
   "metadata": {},
   "outputs": [
    {
     "name": "stdout",
     "output_type": "stream",
     "text": [
      "  direction_of_travel_vals  direction_of_travel_count\n",
      "0                    south                    4883306\n",
      "1                    north                    4835304\n",
      "2                     west                    4219778\n",
      "3                     east                    4204835\n",
      "4                     None                     525943\n"
     ]
    },
    {
     "data": {
      "text/plain": [
       "<AxesSubplot:>"
      ]
     },
     "execution_count": 194,
     "metadata": {},
     "output_type": "execute_result"
    },
    {
     "data": {
      "image/png": "[encoded data removed]",
      "text/plain": [
       "<Figure size 432x288 with 1 Axes>"
      ]
     },
     "metadata": {
      "needs_background": "light"
     },
     "output_type": "display_data"
    }
   ],
   "source": [
    "print(df_direction_of_travel)\n",
    "df_direction_of_travel.boxplot(column=['direction_of_travel_count'])\n"
   ]
  },
  {
   "cell_type": "code",
   "execution_count": 195,
   "id": "thick-height",
   "metadata": {},
   "outputs": [
    {
     "name": "stdout",
     "output_type": "stream",
     "text": [
      "               party_safety_equipment_1_vals  party_safety_equipment_1_count\n",
      "0                       air bag not deployed                         8401362\n",
      "1                  lap/shoulder harness used                         3175441\n",
      "2                                       None                         3151014\n",
      "3                           air bag deployed                         2054772\n",
      "4                               not required                          745138\n",
      "5                                    unknown                          732723\n",
      "6                                      other                          139051\n",
      "7                            none in vehicle                           56584\n",
      "8                              lap belt used                           53445\n",
      "9             driver, motorcycle helmet used                           43515\n",
      "10             lap/shoulder harness not used                           34728\n",
      "11                     shoulder harness used                           24951\n",
      "12         passenger, motorcycle helmet used                           24270\n",
      "13        driver, motorcycle helmet not used                            8753\n",
      "14                         lap belt not used                            6646\n",
      "15                 shoulder harness not used                            5514\n",
      "16             no child restraint in vehicle                            3743\n",
      "17                    passive restraint used                            3483\n",
      "18                passive restraint not used                            1513\n",
      "19   child restraint in vehicle, use unknown                             842\n",
      "20           child restraint in vehicle used                             734\n",
      "21  child restraint in vehicle, improper use                             473\n",
      "22     passenger, motorcycle helmet not used                             270\n",
      "23       child restraint in vehicle not used                             201\n"
     ]
    },
    {
     "data": {
      "text/plain": [
       "<AxesSubplot:>"
      ]
     },
     "execution_count": 195,
     "metadata": {},
     "output_type": "execute_result"
    },
    {
     "data": {
      "image/png": "[encoded data removed]",
      "text/plain": [
       "<Figure size 432x288 with 1 Axes>"
      ]
     },
     "metadata": {
      "needs_background": "light"
     },
     "output_type": "display_data"
    }
   ],
   "source": [
    "print(df_party_safety_equipment_1)\n",
    "df_party_safety_equipment_1.boxplot(column=['party_safety_equipment_1_count'])\n"
   ]
  },
  {
   "cell_type": "code",
   "execution_count": 196,
   "id": "illegal-screen",
   "metadata": {},
   "outputs": [
    {
     "name": "stdout",
     "output_type": "stream",
     "text": [
      "               party_safety_equipment_2_vals  party_safety_equipment_2_count\n",
      "0                  lap/shoulder harness used                        10508141\n",
      "1                                       None                         7002624\n",
      "2                                    unknown                          512154\n",
      "3             driver, motorcycle helmet used                          204424\n",
      "4                              lap belt used                           92327\n",
      "5              lap/shoulder harness not used                           88399\n",
      "6                       air bag not deployed                           76412\n",
      "7                      shoulder harness used                           48901\n",
      "8                           air bag deployed                           43676\n",
      "9                               not required                           19736\n",
      "10                           none in vehicle                           18696\n",
      "11        driver, motorcycle helmet not used                           16381\n",
      "12                 shoulder harness not used                           10896\n",
      "13                         lap belt not used                            7894\n",
      "14         passenger, motorcycle helmet used                            5071\n",
      "15                    passive restraint used                            3241\n",
      "16                                     other                            3216\n",
      "17           child restraint in vehicle used                            2675\n",
      "18   child restraint in vehicle, use unknown                            1281\n",
      "19             no child restraint in vehicle                             929\n",
      "20                passive restraint not used                             711\n",
      "21  child restraint in vehicle, improper use                             620\n",
      "22       child restraint in vehicle not used                             452\n",
      "23     passenger, motorcycle helmet not used                             309\n"
     ]
    },
    {
     "data": {
      "text/plain": [
       "<AxesSubplot:>"
      ]
     },
     "execution_count": 196,
     "metadata": {},
     "output_type": "execute_result"
    },
    {
     "data": {
      "image/png": "[encoded data removed]",
      "text/plain": [
       "<Figure size 432x288 with 1 Axes>"
      ]
     },
     "metadata": {
      "needs_background": "light"
     },
     "output_type": "display_data"
    }
   ],
   "source": [
    "print(df_party_safety_equipment_2)\n",
    "df_party_safety_equipment_2.boxplot(column=['party_safety_equipment_2_count'])\n"
   ]
  },
  {
   "cell_type": "code",
   "execution_count": 197,
   "id": "split-intake",
   "metadata": {},
   "outputs": [
    {
     "name": "stdout",
     "output_type": "stream",
     "text": [
      "         financial_responsibility_vals  financial_responsibility_count\n",
      "0          proof of insurance obtained                        13660698\n",
      "1                       not applicable                         1828503\n",
      "2       no proof of insurance obtained                         1649047\n",
      "3                                 None                         1528462\n",
      "4  officer called away before obtained                            2456\n"
     ]
    },
    {
     "data": {
      "text/plain": [
       "<AxesSubplot:>"
      ]
     },
     "execution_count": 197,
     "metadata": {},
     "output_type": "execute_result"
    },
    {
     "data": {
      "image/png": "[encoded data removed]",
      "text/plain": [
       "<Figure size 432x288 with 1 Axes>"
      ]
     },
     "metadata": {
      "needs_background": "light"
     },
     "output_type": "display_data"
    }
   ],
   "source": [
    "print(df_financial_responsibility)\n",
    "df_financial_responsibility.boxplot(column=['financial_responsibility_count'])\n"
   ]
  },
  {
   "cell_type": "code",
   "execution_count": 198,
   "id": "super-acquisition",
   "metadata": {},
   "outputs": [
    {
     "name": "stdout",
     "output_type": "stream",
     "text": [
      "   hazardous_materials_vals  hazardous_materials_count\n",
      "0                       NaN                   18634366\n",
      "1                       1.0                      34800\n"
     ]
    },
    {
     "data": {
      "text/plain": [
       "<AxesSubplot:>"
      ]
     },
     "execution_count": 198,
     "metadata": {},
     "output_type": "execute_result"
    },
    {
     "data": {
      "image/png": "[encoded data removed]",
      "text/plain": [
       "<Figure size 432x288 with 1 Axes>"
      ]
     },
     "metadata": {
      "needs_background": "light"
     },
     "output_type": "display_data"
    }
   ],
   "source": [
    "print(df_hazardous_materials)\n",
    "df_hazardous_materials.boxplot(column=['hazardous_materials_count'])\n"
   ]
  },
  {
   "cell_type": "code",
   "execution_count": 199,
   "id": "historical-demonstration",
   "metadata": {},
   "outputs": [
    {
     "name": "stdout",
     "output_type": "stream",
     "text": [
      "   cellphone_in_use_vals  cellphone_in_use_count\n",
      "0                    0.0                12719098\n",
      "1                    NaN                 5685173\n",
      "2                    1.0                  264895\n"
     ]
    },
    {
     "data": {
      "text/plain": [
       "<AxesSubplot:>"
      ]
     },
     "execution_count": 199,
     "metadata": {},
     "output_type": "execute_result"
    },
    {
     "data": {
      "image/png": "[encoded data removed]",
      "text/plain": [
       "<Figure size 432x288 with 1 Axes>"
      ]
     },
     "metadata": {
      "needs_background": "light"
     },
     "output_type": "display_data"
    }
   ],
   "source": [
    "print(df_cellphone_in_use) \n",
    "df_cellphone_in_use.boxplot(column=['cellphone_in_use_count'])\n"
   ]
  },
  {
   "cell_type": "code",
   "execution_count": 200,
   "id": "governing-pontiac",
   "metadata": {},
   "outputs": [
    {
     "name": "stdout",
     "output_type": "stream",
     "text": [
      "         cellphone_use_type_vals  cellphone_use_type_count\n",
      "0           cellphone not in use                  12719098\n",
      "1                           None                   4322417\n",
      "2           no cellphone/unknown                   1360709\n",
      "3  cellphone in use (hands-free)                    138088\n",
      "4    cellphone in use (handheld)                     84564\n",
      "5               cellphone in use                     42243\n",
      "6                              4                      2047\n"
     ]
    },
    {
     "data": {
      "text/plain": [
       "<AxesSubplot:>"
      ]
     },
     "execution_count": 200,
     "metadata": {},
     "output_type": "execute_result"
    },
    {
     "data": {
      "image/png": "[encoded data removed]",
      "text/plain": [
       "<Figure size 432x288 with 1 Axes>"
      ]
     },
     "metadata": {
      "needs_background": "light"
     },
     "output_type": "display_data"
    }
   ],
   "source": [
    "print(df_cellphone_use_type)\n",
    "df_cellphone_use_type.boxplot(column=['cellphone_use_type_count'])\n"
   ]
  },
  {
   "cell_type": "code",
   "execution_count": 201,
   "id": "parallel-majority",
   "metadata": {},
   "outputs": [
    {
     "name": "stdout",
     "output_type": "stream",
     "text": [
      "   school_bus_related_vals  school_bus_related_count\n",
      "0                      NaN                  18616718\n",
      "1                      1.0                     52448\n"
     ]
    },
    {
     "data": {
      "text/plain": [
       "<AxesSubplot:>"
      ]
     },
     "execution_count": 201,
     "metadata": {},
     "output_type": "execute_result"
    },
    {
     "data": {
      "image/png": "[encoded data removed]",
      "text/plain": [
       "<Figure size 432x288 with 1 Axes>"
      ]
     },
     "metadata": {
      "needs_background": "light"
     },
     "output_type": "display_data"
    }
   ],
   "source": [
    "print(df_school_bus_related)\n",
    "df_school_bus_related.boxplot(column=['school_bus_related_count'])\n"
   ]
  },
  {
   "cell_type": "code",
   "execution_count": 202,
   "id": "wrong-isolation",
   "metadata": {},
   "outputs": [
    {
     "name": "stdout",
     "output_type": "stream",
     "text": [
      "     oaf_violation_code_vals  oaf_violation_code_count\n",
      "0                       None                  18589014\n",
      "1                    vehicle                     77922\n",
      "2                          A                      1744\n",
      "3   business and professions                       371\n",
      "4             city ordinance                        47\n",
      "5     city health and safety                        36\n",
      "6                      penal                        20\n",
      "7                          2                         5\n",
      "8           county ordinance                         3\n",
      "9       streets and highways                         2\n",
      "10                         `                         1\n",
      "11                         1                         1\n"
     ]
    },
    {
     "data": {
      "text/plain": [
       "<AxesSubplot:>"
      ]
     },
     "execution_count": 202,
     "metadata": {},
     "output_type": "execute_result"
    },
    {
     "data": {
      "image/png": "[encoded data removed]",
      "text/plain": [
       "<Figure size 432x288 with 1 Axes>"
      ]
     },
     "metadata": {
      "needs_background": "light"
     },
     "output_type": "display_data"
    }
   ],
   "source": [
    "print(df_oaf_violation_code)\n",
    "df_oaf_violation_code.boxplot(column=['oaf_violation_code_count'])\n"
   ]
  },
  {
   "cell_type": "code",
   "execution_count": 203,
   "id": "removable-drilling",
   "metadata": {},
   "outputs": [
    {
     "name": "stdout",
     "output_type": "stream",
     "text": [
      "                          oaf_violation_category_vals  \\\n",
      "0                                                None   \n",
      "1                                        unsafe speed   \n",
      "2                                    improper turning   \n",
      "3                                  wrong side of road   \n",
      "4                                         hit and run   \n",
      "5                             automobile right-of-way   \n",
      "6                                  unsafe lane change   \n",
      "7                          other non-moving violation   \n",
      "8                               following too closely   \n",
      "9   driving or bicycling under the influence of al...   \n",
      "10                        failure to heed stop signal   \n",
      "11                           other hazardous movement   \n",
      "12                         unsafe starting or backing   \n",
      "13                          failure to heed stop sign   \n",
      "14                                   improper passing   \n",
      "15                               pedestrian violation   \n",
      "16                                    other equipment   \n",
      "17                                   impeding traffic   \n",
      "18                                             lights   \n",
      "19                                  hazardous parking   \n",
      "20                            pedestrian right-of-way   \n",
      "21                                             brakes   \n",
      "22                                   reckless driving   \n",
      "23                               improper lane change   \n",
      "24                                           oversize   \n",
      "25                      off-highway vehicle violation   \n",
      "26                                          seat belt   \n",
      "27                                    child restraint   \n",
      "28                              improper registration   \n",
      "29                   under influence in public (647f)   \n",
      "30                                     city ordinance   \n",
      "31                                         overweight   \n",
      "32                              seat belt (equipment)   \n",
      "33                                    excessive noise   \n",
      "34                                    excessive smoke   \n",
      "35                   health/safety code (misdemeanor)   \n",
      "\n",
      "    oaf_violation_category_count  \n",
      "0                       17385334  \n",
      "1                         430141  \n",
      "2                         357125  \n",
      "3                          72925  \n",
      "4                          61030  \n",
      "5                          45839  \n",
      "6                          45550  \n",
      "7                          43502  \n",
      "8                          33355  \n",
      "9                          33331  \n",
      "10                         26820  \n",
      "11                         24228  \n",
      "12                         23792  \n",
      "13                         19797  \n",
      "14                         10776  \n",
      "15                         10503  \n",
      "16                          9174  \n",
      "17                          7831  \n",
      "18                          7827  \n",
      "19                          6082  \n",
      "20                          4769  \n",
      "21                          3211  \n",
      "22                          3147  \n",
      "23                          1529  \n",
      "24                           505  \n",
      "25                           324  \n",
      "26                           281  \n",
      "27                           180  \n",
      "28                            93  \n",
      "29                            72  \n",
      "30                            37  \n",
      "31                            34  \n",
      "32                            10  \n",
      "33                             9  \n",
      "34                             2  \n",
      "35                             1  \n"
     ]
    },
    {
     "data": {
      "text/plain": [
       "<AxesSubplot:>"
      ]
     },
     "execution_count": 203,
     "metadata": {},
     "output_type": "execute_result"
    },
    {
     "data": {
      "image/png": "[encoded data removed]",
      "text/plain": [
       "<Figure size 432x288 with 1 Axes>"
      ]
     },
     "metadata": {
      "needs_background": "light"
     },
     "output_type": "display_data"
    }
   ],
   "source": [
    "print(df_oaf_violation_category)\n",
    "df_oaf_violation_category.boxplot(column=['oaf_violation_category_count'])\n"
   ]
  },
  {
   "cell_type": "code",
   "execution_count": 204,
   "id": "inside-effectiveness",
   "metadata": {},
   "outputs": [
    {
     "name": "stdout",
     "output_type": "stream",
     "text": [
      "    oaf_violation_section_vals  oaf_violation_section_count\n",
      "0                         None                     16418407\n",
      "1                            0                       959440\n",
      "2                        22350                       427818\n",
      "3                        22107                       339312\n",
      "4                        20002                        51373\n",
      "..                         ...                          ...\n",
      "835                      10280                            1\n",
      "836                      10260                            1\n",
      "837                      10048                            1\n",
      "838                        100                            1\n",
      "839                          1                            1\n",
      "\n",
      "[840 rows x 2 columns]\n"
     ]
    },
    {
     "data": {
      "text/plain": [
       "<AxesSubplot:>"
      ]
     },
     "execution_count": 204,
     "metadata": {},
     "output_type": "execute_result"
    },
    {
     "data": {
      "image/png": "[encoded data removed]",
      "text/plain": [
       "<Figure size 432x288 with 1 Axes>"
      ]
     },
     "metadata": {
      "needs_background": "light"
     },
     "output_type": "display_data"
    }
   ],
   "source": [
    "print(df_oaf_violation_section)\n",
    "df_oaf_violation_section.boxplot(column=['oaf_violation_section_count'])\n"
   ]
  },
  {
   "cell_type": "code",
   "execution_count": 205,
   "id": "above-invasion",
   "metadata": {},
   "outputs": [
    {
     "name": "stdout",
     "output_type": "stream",
     "text": [
      "   oaf_violation_suffix_vals  oaf_violation_suffix_count\n",
      "0                       None                    18254828\n",
      "1                          A                      296880\n",
      "2                          0                       53676\n",
      "3                          B                       26023\n",
      "4                          1                       11568\n",
      "5                          D                       10524\n",
      "6                          C                        6024\n",
      "7                          5                        3751\n",
      "8                          2                        2232\n",
      "9                          E                         844\n",
      "10                         H                         764\n",
      "11                         F                         597\n",
      "12                         I                         412\n",
      "13                         8                         391\n",
      "14                         G                         304\n",
      "15                         3                         172\n",
      "16                         6                          82\n",
      "17                         4                          23\n",
      "18                         S                          13\n",
      "19                         M                          13\n",
      "20                         L                          13\n",
      "21                         K                          13\n",
      "22                         N                           9\n",
      "23                         J                           3\n",
      "24                         R                           2\n",
      "25                         O                           2\n",
      "26                         Y                           1\n",
      "27                         W                           1\n",
      "28                         7                           1\n"
     ]
    },
    {
     "data": {
      "text/plain": [
       "<AxesSubplot:>"
      ]
     },
     "execution_count": 205,
     "metadata": {},
     "output_type": "execute_result"
    },
    {
     "data": {
      "image/png": "[encoded data removed]",
      "text/plain": [
       "<Figure size 432x288 with 1 Axes>"
      ]
     },
     "metadata": {
      "needs_background": "light"
     },
     "output_type": "display_data"
    }
   ],
   "source": [
    "print(df_oaf_violation_suffix)\n",
    "df_oaf_violation_suffix.boxplot(column=['oaf_violation_suffix_count'])\n"
   ]
  },
  {
   "cell_type": "code",
   "execution_count": 206,
   "id": "practical-optimization",
   "metadata": {},
   "outputs": [
    {
     "name": "stdout",
     "output_type": "stream",
     "text": [
      "    other_associate_factor_1_vals  other_associate_factor_1_count\n",
      "0                   none apparent                        14365420\n",
      "1                       violation                         1359736\n",
      "2                            None                         1124874\n",
      "3                     inattention                          562151\n",
      "4             stop and go traffic                          542890\n",
      "5           entering/leaving ramp                          173707\n",
      "6                           other                          147392\n",
      "7             vision obscurements                          110512\n",
      "8              previous collision                           93096\n",
      "9              uninvolved vehicle                           73329\n",
      "10                runaway vehicle                           39390\n",
      "11    defective vehicle equipment                           38963\n",
      "12           unfamiliar with road                           30266\n",
      "13             inattention, other                            4927\n",
      "14        inattention, cell phone                             820\n",
      "15          inattention, radio/cd                             697\n",
      "16          inattention, children                             310\n",
      "17            inattention, eating                             241\n",
      "18           inattention, reading                             162\n",
      "19           inattention, smoking                             102\n",
      "20  inattention, electronic equip                              80\n",
      "21            inattention, animal                              74\n",
      "22  inattention, personal hygiene                              27\n"
     ]
    },
    {
     "data": {
      "text/plain": [
       "<AxesSubplot:>"
      ]
     },
     "execution_count": 206,
     "metadata": {},
     "output_type": "execute_result"
    },
    {
     "data": {
      "image/png": "[encoded data removed]",
      "text/plain": [
       "<Figure size 432x288 with 1 Axes>"
      ]
     },
     "metadata": {
      "needs_background": "light"
     },
     "output_type": "display_data"
    }
   ],
   "source": [
    "print(df_other_associate_factor_1)\n",
    "df_other_associate_factor_1.boxplot(column=['other_associate_factor_1_count'])\n"
   ]
  },
  {
   "cell_type": "code",
   "execution_count": 207,
   "id": "hearing-handy",
   "metadata": {},
   "outputs": [
    {
     "name": "stdout",
     "output_type": "stream",
     "text": [
      "    other_associate_factor_2_vals  other_associate_factor_2_count\n",
      "0                            None                        18299563\n",
      "1                   none apparent                          187542\n",
      "2                     inattention                           52790\n",
      "3             stop and go traffic                           33227\n",
      "4           entering/leaving ramp                           24740\n",
      "5                           other                           21590\n",
      "6              previous collision                           12929\n",
      "7              uninvolved vehicle                           10282\n",
      "8             vision obscurements                            8377\n",
      "9            unfamiliar with road                            7543\n",
      "10    defective vehicle equipment                            5923\n",
      "11                runaway vehicle                            4140\n",
      "12             inattention, other                             300\n",
      "13        inattention, cell phone                              93\n",
      "14          inattention, radio/cd                              72\n",
      "15            inattention, eating                              18\n",
      "16          inattention, children                              16\n",
      "17           inattention, smoking                              13\n",
      "18           inattention, reading                               4\n",
      "19            inattention, animal                               2\n",
      "20  inattention, personal hygiene                               1\n",
      "21  inattention, electronic equip                               1\n"
     ]
    },
    {
     "data": {
      "text/plain": [
       "<AxesSubplot:>"
      ]
     },
     "execution_count": 207,
     "metadata": {},
     "output_type": "execute_result"
    },
    {
     "data": {
      "image/png": "[encoded data removed]",
      "text/plain": [
       "<Figure size 432x288 with 1 Axes>"
      ]
     },
     "metadata": {
      "needs_background": "light"
     },
     "output_type": "display_data"
    }
   ],
   "source": [
    "print(df_other_associate_factor_2)\n",
    "df_other_associate_factor_2.boxplot(column=['other_associate_factor_2_count'])\n"
   ]
  },
  {
   "cell_type": "code",
   "execution_count": 208,
   "id": "obvious-burden",
   "metadata": {},
   "outputs": [
    {
     "name": "stdout",
     "output_type": "stream",
     "text": [
      "   party_number_killed_vals  party_number_killed_count\n",
      "0                         0                   18601385\n",
      "1                         1                      63635\n",
      "2                         2                       3388\n",
      "3                         3                        528\n",
      "4                         4                        171\n",
      "5                         5                         44\n",
      "6                         6                          8\n",
      "7                         7                          4\n",
      "8                         9                          2\n",
      "9                        13                          1\n"
     ]
    },
    {
     "data": {
      "text/plain": [
       "<AxesSubplot:>"
      ]
     },
     "execution_count": 208,
     "metadata": {},
     "output_type": "execute_result"
    },
    {
     "data": {
      "image/png": "[encoded data removed]",
      "text/plain": [
       "<Figure size 432x288 with 1 Axes>"
      ]
     },
     "metadata": {
      "needs_background": "light"
     },
     "output_type": "display_data"
    }
   ],
   "source": [
    "print(df_party_number_killed)\n",
    "df_party_number_killed.boxplot(column=['party_number_killed_count'])\n"
   ]
  },
  {
   "cell_type": "code",
   "execution_count": 209,
   "id": "potential-singing",
   "metadata": {},
   "outputs": [
    {
     "name": "stdout",
     "output_type": "stream",
     "text": [
      "    party_number_injured_vals  party_number_injured_count\n",
      "0                           0                    14284297\n",
      "1                           1                     3709520\n",
      "2                           2                      519677\n",
      "3                           3                      107603\n",
      "4                           4                       33389\n",
      "5                           5                        9848\n",
      "6                           6                        2686\n",
      "7                           7                        1013\n",
      "8                           8                         406\n",
      "9                           9                         200\n",
      "10                         10                         122\n",
      "11                         11                          84\n",
      "12                         12                          54\n",
      "13                         13                          49\n",
      "14                         14                          37\n",
      "15                         16                          24\n",
      "16                         17                          22\n",
      "17                         15                          18\n",
      "18                         20                          15\n",
      "19                         18                          15\n",
      "20                         21                          13\n",
      "21                         19                          10\n",
      "22                         22                           7\n",
      "23                         33                           5\n",
      "24                         25                           5\n",
      "25                         24                           5\n",
      "26                         23                           5\n",
      "27                         29                           4\n",
      "28                         26                           4\n",
      "29                         34                           3\n",
      "30                         32                           3\n",
      "31                         30                           3\n",
      "32                         27                           3\n",
      "33                         43                           2\n",
      "34                         36                           2\n",
      "35                         35                           2\n",
      "36                         31                           2\n",
      "37                         28                           2\n",
      "38                         55                           1\n",
      "39                         49                           1\n",
      "40                         47                           1\n",
      "41                         42                           1\n",
      "42                         41                           1\n",
      "43                         40                           1\n",
      "44                         37                           1\n"
     ]
    },
    {
     "data": {
      "text/plain": [
       "<AxesSubplot:>"
      ]
     },
     "execution_count": 209,
     "metadata": {},
     "output_type": "execute_result"
    },
    {
     "data": {
      "image/png": "[encoded data removed]",
      "text/plain": [
       "<Figure size 432x288 with 1 Axes>"
      ]
     },
     "metadata": {
      "needs_background": "light"
     },
     "output_type": "display_data"
    }
   ],
   "source": [
    "print(df_party_number_injured)\n",
    "df_party_number_injured.boxplot(column=['party_number_injured_count'])\n"
   ]
  },
  {
   "cell_type": "code",
   "execution_count": 210,
   "id": "derived-minutes",
   "metadata": {},
   "outputs": [
    {
     "name": "stdout",
     "output_type": "stream",
     "text": [
      "   movement_preceding_collision_vals  movement_preceding_collision_count\n",
      "0                proceeding straight                             8544921\n",
      "1                            stopped                             2602664\n",
      "2                   making left turn                             1360080\n",
      "3                             parked                             1152747\n",
      "4                   slowing/stopping                             1035102\n",
      "5                     changing lanes                              712423\n",
      "6                  making right turn                              535036\n",
      "7                              other                              524119\n",
      "8                       ran off road                              467224\n",
      "9               other unsafe turning                              392602\n",
      "10                              None                              333772\n",
      "11                           backing                              278941\n",
      "12                  entering traffic                              258574\n",
      "13                     making u-turn                              125468\n",
      "14             passing other vehicle                              111202\n",
      "15        crossed into opposing lane                               85272\n",
      "16                           merging                               63419\n",
      "17               traveling wrong way                               44587\n",
      "18                  parking maneuver                               40978\n",
      "19                                 S                                  26\n",
      "20                                 0                                   8\n",
      "21                                 4                                   1\n"
     ]
    },
    {
     "data": {
      "text/plain": [
       "<AxesSubplot:>"
      ]
     },
     "execution_count": 210,
     "metadata": {},
     "output_type": "execute_result"
    },
    {
     "data": {
      "image/png": "[encoded data removed]",
      "text/plain": [
       "<Figure size 432x288 with 1 Axes>"
      ]
     },
     "metadata": {
      "needs_background": "light"
     },
     "output_type": "display_data"
    }
   ],
   "source": [
    "print(df_movement_preceding_collision)\n",
    "df_movement_preceding_collision.boxplot(column=['movement_preceding_collision_count'])\n"
   ]
  },
  {
   "cell_type": "code",
   "execution_count": 211,
   "id": "cloudy-flexibility",
   "metadata": {},
   "outputs": [
    {
     "name": "stdout",
     "output_type": "stream",
     "text": [
      "     vehicle_year_vals  vehicle_year_count\n",
      "0                  NaN             1777184\n",
      "1               2000.0              993389\n",
      "2               2001.0              983491\n",
      "3               2002.0              897717\n",
      "4               2003.0              866627\n",
      "..                 ...                 ...\n",
      "190              142.0                   1\n",
      "191              122.0                   1\n",
      "192               20.0                   1\n",
      "193               15.0                   1\n",
      "194               12.0                   1\n",
      "\n",
      "[195 rows x 2 columns]\n"
     ]
    },
    {
     "data": {
      "text/plain": [
       "<AxesSubplot:>"
      ]
     },
     "execution_count": 211,
     "metadata": {},
     "output_type": "execute_result"
    },
    {
     "data": {
      "image/png": "[encoded data removed]",
      "text/plain": [
       "<Figure size 432x288 with 1 Axes>"
      ]
     },
     "metadata": {
      "needs_background": "light"
     },
     "output_type": "display_data"
    }
   ],
   "source": [
    "print(df_vehicle_year)\n",
    "df_vehicle_year.boxplot(column=['vehicle_year_count'])\n"
   ]
  },
  {
   "cell_type": "code",
   "execution_count": 212,
   "id": "ancient-white",
   "metadata": {},
   "outputs": [
    {
     "name": "stdout",
     "output_type": "stream",
     "text": [
      "     vehicle_make_vals  vehicle_make_count\n",
      "0               toyota             2736693\n",
      "1                 ford             2407493\n",
      "2                honda             1992090\n",
      "3                 None             1949861\n",
      "4            chevrolet             1728584\n",
      "...                ...                 ...\n",
      "6288          --------                   1\n",
      "6289            *PEDES                   1\n",
      "6290            (UNKN)                   1\n",
      "6291               (NO                   1\n",
      "6292           (20002)                   1\n",
      "\n",
      "[6293 rows x 2 columns]\n"
     ]
    },
    {
     "data": {
      "text/plain": [
       "<AxesSubplot:>"
      ]
     },
     "execution_count": 212,
     "metadata": {},
     "output_type": "execute_result"
    },
    {
     "data": {
      "image/png": "[encoded data removed]",
      "text/plain": [
       "<Figure size 432x288 with 1 Axes>"
      ]
     },
     "metadata": {
      "needs_background": "light"
     },
     "output_type": "display_data"
    }
   ],
   "source": [
    "print(df_vehicle_make)\n",
    "df_vehicle_make.boxplot(column=['vehicle_make_count'])\n"
   ]
  },
  {
   "cell_type": "code",
   "execution_count": 213,
   "id": "urban-intake",
   "metadata": {},
   "outputs": [
    {
     "name": "stdout",
     "output_type": "stream",
     "text": [
      "            statewide_vehicle_type_vals  statewide_vehicle_type_count\n",
      "0                         passenger car                      12449516\n",
      "1                 pickup or panel truck                       2239166\n",
      "2                                  None                       2103013\n",
      "3   truck or truck tractor with trailer                        347334\n",
      "4                            pedestrian                        296430\n",
      "5                 motorcycle or scooter                        284249\n",
      "6                               bicycle                        258358\n",
      "7                truck or truck tractor                        239007\n",
      "8                     emergency vehicle                        116824\n",
      "9    pickup or panel truck with trailer                         93665\n",
      "10                            other bus                         83131\n",
      "11                        other vehicle                         76608\n",
      "12                            schoolbus                         43678\n",
      "13           passenger car with trailer                         30431\n",
      "14       highway construction equipment                          5689\n",
      "15                                moped                          2065\n",
      "16                                   04                             2\n"
     ]
    },
    {
     "data": {
      "text/plain": [
       "<AxesSubplot:>"
      ]
     },
     "execution_count": 213,
     "metadata": {},
     "output_type": "execute_result"
    },
    {
     "data": {
      "image/png": "[encoded data removed]",
      "text/plain": [
       "<Figure size 432x288 with 1 Axes>"
      ]
     },
     "metadata": {
      "needs_background": "light"
     },
     "output_type": "display_data"
    }
   ],
   "source": [
    "print(df_statewide_vehicle_type)\n",
    "df_statewide_vehicle_type.boxplot(column=['statewide_vehicle_type_count'])\n"
   ]
  },
  {
   "cell_type": "code",
   "execution_count": 214,
   "id": "improving-nevada",
   "metadata": {},
   "outputs": [
    {
     "name": "stdout",
     "output_type": "stream",
     "text": [
      "                 chp_vehicle_type_towing_vals  chp_vehicle_type_towing_count\n",
      "0                      passenger car, station                        7930792\n",
      "1                                        None                        4008914\n",
      "2                            pickups & panels                        1827417\n",
      "3                       sport utility vehicle                        1817687\n",
      "4                                          00                         610404\n",
      "..                                        ...                            ...\n",
      "87                          container chassis                             26\n",
      "88                     extralegal permit load                              8\n",
      "89  federally legal double combo over 75 feet                              3\n",
      "90                             three trailers                              1\n",
      "91               pole, pipe, or logging dolly                              1\n",
      "\n",
      "[92 rows x 2 columns]\n"
     ]
    },
    {
     "data": {
      "text/plain": [
       "<AxesSubplot:>"
      ]
     },
     "execution_count": 214,
     "metadata": {},
     "output_type": "execute_result"
    },
    {
     "data": {
      "image/png": "[encoded data removed]",
      "text/plain": [
       "<Figure size 432x288 with 1 Axes>"
      ]
     },
     "metadata": {
      "needs_background": "light"
     },
     "output_type": "display_data"
    }
   ],
   "source": [
    "print(df_chp_vehicle_type_towing)\n",
    "df_chp_vehicle_type_towing.boxplot(column=['chp_vehicle_type_towing_count'])\n"
   ]
  },
  {
   "cell_type": "code",
   "execution_count": 215,
   "id": "retired-characteristic",
   "metadata": {},
   "outputs": [
    {
     "name": "stdout",
     "output_type": "stream",
     "text": [
      "          chp_vehicle_type_towed_vals  chp_vehicle_type_towed_count\n",
      "0                                  00                       9134005\n",
      "1                                None                       9098872\n",
      "2                                semi                        199703\n",
      "3                             utility                         63479\n",
      "4                                pull                         41240\n",
      "..                                ...                           ...\n",
      "85     school bus contractual type ii                             4\n",
      "86  school pupil activity bus type ii                             2\n",
      "87                                  W                             2\n",
      "88                                 93                             2\n",
      "89                                 91                             2\n",
      "\n",
      "[90 rows x 2 columns]\n"
     ]
    },
    {
     "data": {
      "text/plain": [
       "<AxesSubplot:>"
      ]
     },
     "execution_count": 215,
     "metadata": {},
     "output_type": "execute_result"
    },
    {
     "data": {
      "image/png": "[encoded data removed]",
      "text/plain": [
       "<Figure size 432x288 with 1 Axes>"
      ]
     },
     "metadata": {
      "needs_background": "light"
     },
     "output_type": "display_data"
    }
   ],
   "source": [
    "print(df_chp_vehicle_type_towed)\n",
    "df_chp_vehicle_type_towed.boxplot(column=['chp_vehicle_type_towed_count'])\n"
   ]
  },
  {
   "cell_type": "code",
   "execution_count": 216,
   "id": "continued-handling",
   "metadata": {},
   "outputs": [
    {
     "name": "stdout",
     "output_type": "stream",
     "text": [
      "  party_race_vals  party_race_count\n",
      "0           white           5932763\n",
      "1        hispanic           5013959\n",
      "2            None           4374129\n",
      "3           black           1267606\n",
      "4           asian           1139060\n",
      "5           other            941649\n"
     ]
    },
    {
     "data": {
      "text/plain": [
       "<AxesSubplot:>"
      ]
     },
     "execution_count": 216,
     "metadata": {},
     "output_type": "execute_result"
    },
    {
     "data": {
      "image/png": "[encoded data removed]",
      "text/plain": [
       "<Figure size 432x288 with 1 Axes>"
      ]
     },
     "metadata": {
      "needs_background": "light"
     },
     "output_type": "display_data"
    }
   ],
   "source": [
    "print(df_party_race)\n",
    "df_party_race.boxplot(column=['party_race_count'])\n"
   ]
  },
  {
   "cell_type": "markdown",
   "id": "beneficial-reason",
   "metadata": {},
   "source": [
    "Victims MetaData"
   ]
  },
  {
   "cell_type": "code",
   "execution_count": 218,
   "id": "dated-government",
   "metadata": {},
   "outputs": [],
   "source": [
    "df_party_number = pd.read_sql_query('SELECT party_number, sum(1) as count FROM victims group by 1 order by 2 desc', con)\n",
    "df_victim_role = pd.read_sql_query('SELECT victim_role, sum(1) as count FROM victims group by 1 order by 2 desc', con)\n",
    "df_victim_sex = pd.read_sql_query('SELECT victim_sex, sum(1) as count FROM victims group by 1 order by 2 desc', con)\n",
    "df_victim_age = pd.read_sql_query('SELECT victim_age, sum(1) as count FROM victims group by 1 order by 2 desc', con)\n",
    "df_victim_degree_of_injury = pd.read_sql_query('SELECT victim_degree_of_injury, sum(1) as count FROM victims group by 1 order by 2 desc', con)\n",
    "df_victim_seating_position = pd.read_sql_query('SELECT victim_seating_position, sum(1) as count FROM victims group by 1 order by 2 desc', con)\n",
    "df_victim_safety_equipment_1 = pd.read_sql_query('SELECT victim_safety_equipment_1, sum(1) as count FROM victims group by 1 order by 2 desc', con)\n",
    "df_victim_safety_equipment_2 = pd.read_sql_query('SELECT victim_safety_equipment_2, sum(1) as count FROM victims group by 1 order by 2 desc', con)\n",
    "df_victim_ejected = pd.read_sql_query('SELECT victim_ejected, sum(1) as count FROM victims group by 1 order by 2 desc', con)\n"
   ]
  },
  {
   "cell_type": "code",
   "execution_count": 219,
   "id": "delayed-wealth",
   "metadata": {},
   "outputs": [],
   "source": [
    "df_party_number.columns = ['party_number_vals','party_number_count']\n",
    "df_victim_role.columns = ['victim_role_vals','victim_role_count']\n",
    "df_victim_sex.columns = ['victim_sex_vals','victim_sex_count']\n",
    "df_victim_age.columns = ['victim_age_vals','victim_age_count']\n",
    "df_victim_degree_of_injury.columns = ['victim_degree_of_injury_vals','victim_degree_of_injury_count']\n",
    "df_victim_seating_position.columns = ['victim_seating_position_vals','victim_seating_position_count']\n",
    "df_victim_safety_equipment_1.columns = ['victim_safety_equipment_1_vals','victim_safety_equipment_1_count']\n",
    "df_victim_safety_equipment_2.columns = ['victim_safety_equipment_2_vals','victim_safety_equipment_2_count']\n",
    "df_victim_ejected.columns = ['victim_ejected_vals','victim_ejected_count']\n"
   ]
  },
  {
   "cell_type": "code",
   "execution_count": 220,
   "id": "constitutional-anniversary",
   "metadata": {},
   "outputs": [
    {
     "name": "stdout",
     "output_type": "stream",
     "text": [
      "    party_number_vals  party_number_count\n",
      "0                   2             4517730\n",
      "1                   1             4434145\n",
      "2                   3              557398\n",
      "3                   4              100745\n",
      "4                   5               20952\n",
      "..                ...                 ...\n",
      "81                 40                   1\n",
      "82                 39                   1\n",
      "83                 38                   1\n",
      "84                 32                   1\n",
      "85                 28                   1\n",
      "\n",
      "[86 rows x 2 columns]\n"
     ]
    },
    {
     "data": {
      "text/plain": [
       "<AxesSubplot:>"
      ]
     },
     "execution_count": 220,
     "metadata": {},
     "output_type": "execute_result"
    },
    {
     "data": {
      "image/png": "[encoded data removed]",
      "text/plain": [
       "<Figure size 432x288 with 1 Axes>"
      ]
     },
     "metadata": {
      "needs_background": "light"
     },
     "output_type": "display_data"
    }
   ],
   "source": [
    "print(df_party_number)\n",
    "df_party_number.boxplot(column=['party_number_count'])\n"
   ]
  },
  {
   "cell_type": "code",
   "execution_count": 221,
   "id": "stopped-energy",
   "metadata": {},
   "outputs": [
    {
     "name": "stdout",
     "output_type": "stream",
     "text": [
      "    victim_role_vals  victim_role_count\n",
      "0          passenger            5496410\n",
      "1             driver            3313877\n",
      "2  non-injured party             299496\n",
      "3         pedestrian             287052\n",
      "4          bicyclist             232717\n",
      "5              other               9769\n",
      "6               None                 13\n"
     ]
    },
    {
     "data": {
      "text/plain": [
       "<AxesSubplot:>"
      ]
     },
     "execution_count": 221,
     "metadata": {},
     "output_type": "execute_result"
    },
    {
     "data": {
      "image/png": "[encoded data removed]",
      "text/plain": [
       "<Figure size 432x288 with 1 Axes>"
      ]
     },
     "metadata": {
      "needs_background": "light"
     },
     "output_type": "display_data"
    }
   ],
   "source": [
    "print(df_victim_role)\n",
    "df_victim_role.boxplot(column=['victim_role_count'])\n"
   ]
  },
  {
   "cell_type": "code",
   "execution_count": 222,
   "id": "inside-split",
   "metadata": {},
   "outputs": [
    {
     "name": "stdout",
     "output_type": "stream",
     "text": [
      "   victim_sex_vals  victim_sex_count\n",
      "0           female           4709260\n",
      "1             male           4690557\n",
      "2             None            239319\n",
      "3                4                81\n",
      "4                X                57\n",
      "5                3                28\n",
      "6                2                14\n",
      "7                1                 6\n",
      "8                N                 4\n",
      "9                U                 2\n",
      "10               G                 2\n",
      "11               W                 1\n",
      "12               H                 1\n",
      "13               B                 1\n",
      "14               5                 1\n"
     ]
    },
    {
     "data": {
      "text/plain": [
       "<AxesSubplot:>"
      ]
     },
     "execution_count": 222,
     "metadata": {},
     "output_type": "execute_result"
    },
    {
     "data": {
      "image/png": "[encoded data removed]",
      "text/plain": [
       "<Figure size 432x288 with 1 Axes>"
      ]
     },
     "metadata": {
      "needs_background": "light"
     },
     "output_type": "display_data"
    }
   ],
   "source": [
    "print(df_victim_sex)\n",
    "df_victim_sex.boxplot(column=['victim_sex_count'])\n"
   ]
  },
  {
   "cell_type": "code",
   "execution_count": 223,
   "id": "helpful-conversation",
   "metadata": {},
   "outputs": [
    {
     "name": "stdout",
     "output_type": "stream",
     "text": [
      "     victim_age_vals  victim_age_count\n",
      "0                NaN            322754\n",
      "1               18.0            307370\n",
      "2               19.0            299080\n",
      "3               20.0            279764\n",
      "4               21.0            267363\n",
      "..               ...               ...\n",
      "123            122.0                14\n",
      "124            119.0                13\n",
      "125            125.0                12\n",
      "126            121.0                10\n",
      "127            124.0                 3\n",
      "\n",
      "[128 rows x 2 columns]\n"
     ]
    },
    {
     "data": {
      "text/plain": [
       "<AxesSubplot:>"
      ]
     },
     "execution_count": 223,
     "metadata": {},
     "output_type": "execute_result"
    },
    {
     "data": {
      "image/png": "[encoded data removed]",
      "text/plain": [
       "<Figure size 432x288 with 1 Axes>"
      ]
     },
     "metadata": {
      "needs_background": "light"
     },
     "output_type": "display_data"
    }
   ],
   "source": [
    "print(df_victim_age)\n",
    "df_victim_age.boxplot(column=['victim_age_count'])\n"
   ]
  },
  {
   "cell_type": "code",
   "execution_count": 224,
   "id": "successful-boulder",
   "metadata": {},
   "outputs": [
    {
     "name": "stdout",
     "output_type": "stream",
     "text": [
      "  victim_degree_of_injury_vals  victim_degree_of_injury_count\n",
      "0                    no injury                        4275661\n",
      "1            complaint of pain                        3343656\n",
      "2         other visible injury                        1276783\n",
      "3              possible injury                         268690\n",
      "4                severe injury                         223601\n",
      "5       suspected minor injury                         140438\n",
      "6                       killed                          73006\n",
      "7     suspected serious injury                          37499\n"
     ]
    },
    {
     "data": {
      "text/plain": [
       "<AxesSubplot:>"
      ]
     },
     "execution_count": 224,
     "metadata": {},
     "output_type": "execute_result"
    },
    {
     "data": {
      "image/png": "[encoded data removed]",
      "text/plain": [
       "<Figure size 432x288 with 1 Axes>"
      ]
     },
     "metadata": {
      "needs_background": "light"
     },
     "output_type": "display_data"
    }
   ],
   "source": [
    "print(df_victim_degree_of_injury)\n",
    "df_victim_degree_of_injury.boxplot(column=['victim_degree_of_injury_count'])\n"
   ]
  },
  {
   "cell_type": "code",
   "execution_count": 225,
   "id": "equivalent-invasion",
   "metadata": {},
   "outputs": [
    {
     "name": "stdout",
     "output_type": "stream",
     "text": [
      "     victim_seating_position_vals  victim_seating_position_count\n",
      "0                          driver                        3492966\n",
      "1                passenger seat 3                        2912325\n",
      "2                passenger seat 6                        1023913\n",
      "3                passenger seat 4                         824121\n",
      "4                position unknown                         514684\n",
      "5                passenger seat 5                         351923\n",
      "6                 other occupants                         160108\n",
      "7                passenger seat 2                         155702\n",
      "8              station wagon rear                         103641\n",
      "9   rear occupant of truck or van                          80454\n",
      "10                           None                          19477\n",
      "11                              A                             10\n",
      "12                              C                              7\n",
      "13                              B                              3\n"
     ]
    },
    {
     "data": {
      "text/plain": [
       "<AxesSubplot:>"
      ]
     },
     "execution_count": 225,
     "metadata": {},
     "output_type": "execute_result"
    },
    {
     "data": {
      "image/png": "[encoded data removed]",
      "text/plain": [
       "<Figure size 432x288 with 1 Axes>"
      ]
     },
     "metadata": {
      "needs_background": "light"
     },
     "output_type": "display_data"
    }
   ],
   "source": [
    "print(df_victim_seating_position)\n",
    "df_victim_seating_position.boxplot(column=['victim_seating_position_count'])\n"
   ]
  },
  {
   "cell_type": "code",
   "execution_count": 226,
   "id": "tender-disco",
   "metadata": {},
   "outputs": [
    {
     "name": "stdout",
     "output_type": "stream",
     "text": [
      "              victim_safety_equipment_1_vals  victim_safety_equipment_1_count\n",
      "0                       air bag not deployed                          3575936\n",
      "1                  lap/shoulder harness used                          1850462\n",
      "2                               not required                          1515109\n",
      "3                           air bag deployed                          1430199\n",
      "4                                       None                           550554\n",
      "5            child restraint in vehicle used                           153435\n",
      "6                                    unknown                           109828\n",
      "7                              lap belt used                            86981\n",
      "8                                      other                            73818\n",
      "9                            none in vehicle                            73417\n",
      "10            driver, motorcycle helmet used                            56139\n",
      "11             lap/shoulder harness not used                            50799\n",
      "12        driver, motorcycle helmet not used                            43214\n",
      "13                     shoulder harness used                            16077\n",
      "14                         lap belt not used                            12923\n",
      "15         passenger, motorcycle helmet used                            12240\n",
      "16                 shoulder harness not used                             7529\n",
      "17             no child restraint in vehicle                             6951\n",
      "18                    passive restraint used                             5805\n",
      "19  child restraint in vehicle, improper use                             2041\n",
      "20                passive restraint not used                             1527\n",
      "21   child restraint in vehicle, use unknown                             1511\n",
      "22     passenger, motorcycle helmet not used                             1423\n",
      "23       child restraint in vehicle not used                             1365\n",
      "24                                         1                               16\n",
      "25                                         0                               12\n",
      "26                                         3                                7\n",
      "27                                         Z                                4\n",
      "28                                         O                                3\n",
      "29                                         4                                3\n",
      "30                                         2                                3\n",
      "31                                         ,                                2\n",
      "32                                         5                                1\n"
     ]
    },
    {
     "data": {
      "text/plain": [
       "<AxesSubplot:>"
      ]
     },
     "execution_count": 226,
     "metadata": {},
     "output_type": "execute_result"
    },
    {
     "data": {
      "image/png": "[encoded data removed]",
      "text/plain": [
       "<Figure size 432x288 with 1 Axes>"
      ]
     },
     "metadata": {
      "needs_background": "light"
     },
     "output_type": "display_data"
    }
   ],
   "source": [
    "print(df_victim_safety_equipment_1)\n",
    "df_victim_safety_equipment_1.boxplot(column=['victim_safety_equipment_1_count'])\n"
   ]
  },
  {
   "cell_type": "code",
   "execution_count": 227,
   "id": "future-headline",
   "metadata": {},
   "outputs": [
    {
     "name": "stdout",
     "output_type": "stream",
     "text": [
      "              victim_safety_equipment_2_vals  victim_safety_equipment_2_count\n",
      "0                  lap/shoulder harness used                          5246146\n",
      "1                                       None                          3104718\n",
      "2            child restraint in vehicle used                           409613\n",
      "3             driver, motorcycle helmet used                           204823\n",
      "4              lap/shoulder harness not used                           111848\n",
      "5                                    unknown                           101173\n",
      "6                              lap belt used                            98627\n",
      "7         driver, motorcycle helmet not used                            77488\n",
      "8                            none in vehicle                            60409\n",
      "9                               not required                            52000\n",
      "10                      air bag not deployed                            36652\n",
      "11                          air bag deployed                            31410\n",
      "12                     shoulder harness used                            26573\n",
      "13                         lap belt not used                            13763\n",
      "14                 shoulder harness not used                            12754\n",
      "15             no child restraint in vehicle                            12251\n",
      "16         passenger, motorcycle helmet used                            11521\n",
      "17                    passive restraint used                             7368\n",
      "18  child restraint in vehicle, improper use                             5211\n",
      "19                                     other                             3783\n",
      "20   child restraint in vehicle, use unknown                             3499\n",
      "21       child restraint in vehicle not used                             3245\n",
      "22     passenger, motorcycle helmet not used                             2819\n",
      "23                passive restraint not used                             1535\n",
      "24                                         Z                               57\n",
      "25                                         0                               43\n",
      "26                                         1                                3\n",
      "27                                         `                                1\n",
      "28                                         O                                1\n"
     ]
    },
    {
     "data": {
      "text/plain": [
       "<AxesSubplot:>"
      ]
     },
     "execution_count": 227,
     "metadata": {},
     "output_type": "execute_result"
    },
    {
     "data": {
      "image/png": "[encoded data removed]",
      "text/plain": [
       "<Figure size 432x288 with 1 Axes>"
      ]
     },
     "metadata": {
      "needs_background": "light"
     },
     "output_type": "display_data"
    }
   ],
   "source": [
    "print(df_victim_safety_equipment_2)\n",
    "df_victim_safety_equipment_2.boxplot(column=['victim_safety_equipment_2_count'])\n"
   ]
  },
  {
   "cell_type": "code",
   "execution_count": 228,
   "id": "mexican-number",
   "metadata": {},
   "outputs": [
    {
     "name": "stdout",
     "output_type": "stream",
     "text": [
      "   victim_ejected_vals  victim_ejected_count\n",
      "0          not ejected               8569044\n",
      "1              unknown                685284\n",
      "2        fully ejected                305438\n",
      "3                 None                 42865\n",
      "4    partially ejected                 36660\n",
      "5                    o                    11\n",
      "6                    9                     7\n",
      "7                    4                     6\n",
      "8                    n                     4\n",
      "9                    g                     3\n",
      "10                   N                     3\n",
      "11                   O                     2\n",
      "12                   y                     1\n",
      "13                   w                     1\n",
      "14                   j                     1\n",
      "15                   b                     1\n",
      "16                   `                     1\n",
      "17                   G                     1\n",
      "18                   6                     1\n"
     ]
    },
    {
     "data": {
      "text/plain": [
       "<AxesSubplot:>"
      ]
     },
     "execution_count": 228,
     "metadata": {},
     "output_type": "execute_result"
    },
    {
     "data": {
      "image/png": "[encoded data removed]",
      "text/plain": [
       "<Figure size 432x288 with 1 Axes>"
      ]
     },
     "metadata": {
      "needs_background": "light"
     },
     "output_type": "display_data"
    }
   ],
   "source": [
    "print(df_victim_ejected)\n",
    "df_victim_ejected.boxplot(column=['victim_ejected_count'])\n"
   ]
  },
  {
   "cell_type": "code",
   "execution_count": null,
   "id": "approved-extra",
   "metadata": {},
   "outputs": [],
   "source": []
  },
  {
   "cell_type": "code",
   "execution_count": null,
   "id": "daily-gathering",
   "metadata": {},
   "outputs": [],
   "source": []
  },
  {
   "cell_type": "code",
   "execution_count": null,
   "id": "expanded-building",
   "metadata": {},
   "outputs": [],
   "source": []
  },
  {
   "cell_type": "code",
   "execution_count": null,
   "id": "honest-holiday",
   "metadata": {},
   "outputs": [],
   "source": []
  },
  {
   "cell_type": "code",
   "execution_count": null,
   "id": "together-federal",
   "metadata": {},
   "outputs": [],
   "source": []
  },
  {
   "cell_type": "code",
   "execution_count": null,
   "id": "distinguished-strength",
   "metadata": {},
   "outputs": [],
   "source": []
  },
  {
   "cell_type": "code",
   "execution_count": null,
   "id": "accessible-stanford",
   "metadata": {},
   "outputs": [],
   "source": [
    "con.close()"
   ]
  },
  {
   "cell_type": "code",
   "execution_count": null,
   "id": "heavy-powder",
   "metadata": {},
   "outputs": [],
   "source": []
  }
 ],
 "metadata": {
  "kernelspec": {
   "display_name": "Python 3",
   "language": "python",
   "name": "python3"
  },
  "language_info": {
   "codemirror_mode": {
    "name": "ipython",
    "version": 3
   },
   "file_extension": ".py",
   "mimetype": "text/x-python",
   "name": "python",
   "nbconvert_exporter": "python",
   "pygments_lexer": "ipython3",
   "version": "3.8.10"
  }
 },
 "nbformat": 4,
 "nbformat_minor": 5
}
